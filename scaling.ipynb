{
 "cells": [
  {
   "cell_type": "code",
   "execution_count": 1,
   "metadata": {
    "scrolled": true
   },
   "outputs": [
    {
     "data": {
      "text/html": [
       "<div>\n",
       "<style scoped>\n",
       "    .dataframe tbody tr th:only-of-type {\n",
       "        vertical-align: middle;\n",
       "    }\n",
       "\n",
       "    .dataframe tbody tr th {\n",
       "        vertical-align: top;\n",
       "    }\n",
       "\n",
       "    .dataframe thead th {\n",
       "        text-align: right;\n",
       "    }\n",
       "</style>\n",
       "<table border=\"1\" class=\"dataframe\">\n",
       "  <thead>\n",
       "    <tr style=\"text-align: right;\">\n",
       "      <th></th>\n",
       "      <th>customer_id</th>\n",
       "      <th>monthly_charges</th>\n",
       "      <th>tenure</th>\n",
       "      <th>total_charges</th>\n",
       "    </tr>\n",
       "  </thead>\n",
       "  <tbody>\n",
       "    <tr>\n",
       "      <th>1171</th>\n",
       "      <td>6980-IMXXE</td>\n",
       "      <td>20.20</td>\n",
       "      <td>69</td>\n",
       "      <td>1412.65</td>\n",
       "    </tr>\n",
       "    <tr>\n",
       "      <th>736</th>\n",
       "      <td>4573-JKNAE</td>\n",
       "      <td>19.35</td>\n",
       "      <td>12</td>\n",
       "      <td>212.30</td>\n",
       "    </tr>\n",
       "    <tr>\n",
       "      <th>1485</th>\n",
       "      <td>8774-GSBUN</td>\n",
       "      <td>25.40</td>\n",
       "      <td>72</td>\n",
       "      <td>1797.10</td>\n",
       "    </tr>\n",
       "    <tr>\n",
       "      <th>1139</th>\n",
       "      <td>6770-UAYGJ</td>\n",
       "      <td>25.25</td>\n",
       "      <td>49</td>\n",
       "      <td>1211.65</td>\n",
       "    </tr>\n",
       "    <tr>\n",
       "      <th>689</th>\n",
       "      <td>4139-DETXS</td>\n",
       "      <td>64.45</td>\n",
       "      <td>72</td>\n",
       "      <td>4528.00</td>\n",
       "    </tr>\n",
       "  </tbody>\n",
       "</table>\n",
       "</div>"
      ],
      "text/plain": [
       "     customer_id  monthly_charges  tenure  total_charges\n",
       "1171  6980-IMXXE            20.20      69        1412.65\n",
       "736   4573-JKNAE            19.35      12         212.30\n",
       "1485  8774-GSBUN            25.40      72        1797.10\n",
       "1139  6770-UAYGJ            25.25      49        1211.65\n",
       "689   4139-DETXS            64.45      72        4528.00"
      ]
     },
     "execution_count": 1,
     "metadata": {},
     "output_type": "execute_result"
    }
   ],
   "source": [
    "# importing\n",
    "import numpy as np\n",
    "import pandas as pd\n",
    "import sklearn.preprocessing\n",
    "from sklearn.model_selection import train_test_split\n",
    "import matplotlib.pyplot as plt\n",
    "import wrangle\n",
    "\n",
    "# using wrangle function to acquire prepared data\n",
    "df = wrangle.wrangle_telco()\n",
    "\n",
    "# splitting dataframe into train, validate and test sets\n",
    "train_and_validate, test = train_test_split(df, test_size=.2, random_state=123)\n",
    "train, validate = train_test_split(train_and_validate, test_size=.2, random_state=123)\n",
    "\n",
    "# verifying data looks good\n",
    "train.head()"
   ]
  },
  {
   "cell_type": "markdown",
   "metadata": {},
   "source": [
    "#### Apply the scalers we talked about in this lesson to your data and visualize the results in a way that can ."
   ]
  },
  {
   "cell_type": "code",
   "execution_count": 21,
   "metadata": {},
   "outputs": [
    {
     "data": {
      "text/plain": [
       "MinMaxScaler(copy=True, feature_range=(0, 1))"
      ]
     },
     "execution_count": 21,
     "metadata": {},
     "output_type": "execute_result"
    },
    {
     "data": {
      "image/png": "[encoded data removed]",
      "text/plain": [
       "<Figure size 504x360 with 2 Axes>"
      ]
     },
     "metadata": {
      "needs_background": "light"
     },
     "output_type": "display_data"
    }
   ],
   "source": [
    "# creating scaler object\n",
    "scaler = sklearn.preprocessing.MinMaxScaler()\n",
    "\n",
    "# fitting and transforming monthly_charges with scaler\n",
    "monthly_charges_scaled = scaler.fit_transform(train[['monthly_charges']])\n",
    "\n",
    "# specifying figure size \n",
    "fig = plt.figure(figsize=(7,5))\n",
    "\n",
    "# specifying subplot dimension\n",
    "# 1 row, 2 columns\n",
    "gs = plt.GridSpec(1, 2)\n",
    "\n",
    "# plots will be in same row, ax1 on left, ax2 on right\n",
    "ax1 = fig.add_subplot(gs[0, 0]) \n",
    "ax2 = fig.add_subplot(gs[0, 1])\n",
    "\n",
    "# plotting unscaled monthly charges\n",
    "ax1.hist(train.monthly_charges)\n",
    "ax1.set(title='Monthly_Charges_Unscaled')\n",
    "\n",
    "# plotting scaled monthly charges\n",
    "ax2.hist(monthly_charges_scaled)\n",
    "ax2.set(title='Monthly_Charges_Scaled')\n",
    "    \n",
    "sklearn.preprocessing.MinMaxScaler()"
   ]
  },
  {
   "cell_type": "markdown",
   "metadata": {},
   "source": [
    "#### Apply the .inverse_transform method to your scaled data. Is the resulting dataset the exact same as the original data?"
   ]
  },
  {
   "cell_type": "code",
   "execution_count": 91,
   "metadata": {},
   "outputs": [
    {
     "data": {
      "text/html": [
       "<div>\n",
       "<style scoped>\n",
       "    .dataframe tbody tr th:only-of-type {\n",
       "        vertical-align: middle;\n",
       "    }\n",
       "\n",
       "    .dataframe tbody tr th {\n",
       "        vertical-align: top;\n",
       "    }\n",
       "\n",
       "    .dataframe thead th {\n",
       "        text-align: right;\n",
       "    }\n",
       "</style>\n",
       "<table border=\"1\" class=\"dataframe\">\n",
       "  <thead>\n",
       "    <tr style=\"text-align: right;\">\n",
       "      <th></th>\n",
       "      <th>monthly_charges_scaled</th>\n",
       "    </tr>\n",
       "  </thead>\n",
       "  <tbody>\n",
       "    <tr>\n",
       "      <th>0</th>\n",
       "      <td>0.017955</td>\n",
       "    </tr>\n",
       "    <tr>\n",
       "      <th>1</th>\n",
       "      <td>0.009476</td>\n",
       "    </tr>\n",
       "    <tr>\n",
       "      <th>2</th>\n",
       "      <td>0.069825</td>\n",
       "    </tr>\n",
       "    <tr>\n",
       "      <th>3</th>\n",
       "      <td>0.068329</td>\n",
       "    </tr>\n",
       "    <tr>\n",
       "      <th>4</th>\n",
       "      <td>0.459352</td>\n",
       "    </tr>\n",
       "  </tbody>\n",
       "</table>\n",
       "</div>"
      ],
      "text/plain": [
       "   monthly_charges_scaled\n",
       "0                0.017955\n",
       "1                0.009476\n",
       "2                0.069825\n",
       "3                0.068329\n",
       "4                0.459352"
      ]
     },
     "execution_count": 91,
     "metadata": {},
     "output_type": "execute_result"
    }
   ],
   "source": [
    "# creating new scaler object\n",
    "scaler = sklearn.preprocessing.MinMaxScaler()\n",
    "\n",
    "# fitting scaler to monthly charges column in train\n",
    "scaler.fit(train[['monthly_charges']])\n",
    "\n",
    "# creating DF that holds scaled monthly_charges\n",
    "train_scaled = scaler.transform(train[['monthly_charges']])\n",
    "train_scaled = pd.DataFrame(train_scaled, columns=['monthly_charges_scaled'])\n",
    "\n",
    "# examining results\n",
    "train_scaled.head()"
   ]
  },
  {
   "cell_type": "code",
   "execution_count": 108,
   "metadata": {
    "scrolled": true
   },
   "outputs": [
    {
     "name": "stderr",
     "output_type": "stream",
     "text": [
      "/usr/local/anaconda3/lib/python3.7/site-packages/ipykernel_launcher.py:4: SettingWithCopyWarning: \n",
      "A value is trying to be set on a copy of a slice from a DataFrame.\n",
      "Try using .loc[row_indexer,col_indexer] = value instead\n",
      "\n",
      "See the caveats in the documentation: https://pandas.pydata.org/pandas-docs/stable/user_guide/indexing.html#returning-a-view-versus-a-copy\n",
      "  after removing the cwd from sys.path.\n"
     ]
    },
    {
     "data": {
      "text/plain": [
       "(1084, 2)"
      ]
     },
     "execution_count": 108,
     "metadata": {},
     "output_type": "execute_result"
    }
   ],
   "source": [
    "# creating DF that holds original monthly charges values in first column\n",
    "# and un-transformed (inverted after scaling) monthly charges values\n",
    "scale_comparer = train[['monthly_charges']]\n",
    "scale_comparer['inverse_transform1'] = scaler.inverse_transform(train_scaled[['monthly_charges_scaled']])\n",
    "\n",
    "# confirming how many rows are in new DF\n",
    "scale_comparer.shape"
   ]
  },
  {
   "cell_type": "code",
   "execution_count": 112,
   "metadata": {},
   "outputs": [
    {
     "name": "stdout",
     "output_type": "stream",
     "text": [
      "The inverter was able to return 830 values back to the identical value they began as in the train dataset.\n"
     ]
    }
   ],
   "source": [
    "# comparing columns and confirming how many rows contain matching values\n",
    "# ie. how many times did the inverted value transform back to the exact original value in train\n",
    "matches = (data_scales.monthly_charges == data_scales.inverse_transform1).sum()\n",
    "\n",
    "print(f'The inverter was able to return {matches} values back to the identical value they began as in the train dataset.')"
   ]
  },
  {
   "cell_type": "markdown",
   "metadata": {},
   "source": [
    "#### Read the documentation for sklearn's QuantileTransformer. Use normal for the output_distribution and apply this scaler to your data."
   ]
  },
  {
   "cell_type": "code",
   "execution_count": 119,
   "metadata": {},
   "outputs": [
    {
     "data": {
      "text/html": [
       "<div>\n",
       "<style scoped>\n",
       "    .dataframe tbody tr th:only-of-type {\n",
       "        vertical-align: middle;\n",
       "    }\n",
       "\n",
       "    .dataframe tbody tr th {\n",
       "        vertical-align: top;\n",
       "    }\n",
       "\n",
       "    .dataframe thead th {\n",
       "        text-align: right;\n",
       "    }\n",
       "</style>\n",
       "<table border=\"1\" class=\"dataframe\">\n",
       "  <thead>\n",
       "    <tr style=\"text-align: right;\">\n",
       "      <th></th>\n",
       "      <th>monthly_charges_qscaled</th>\n",
       "      <th>tenure_qscaled</th>\n",
       "      <th>total_charges_qscaled</th>\n",
       "    </tr>\n",
       "  </thead>\n",
       "  <tbody>\n",
       "    <tr>\n",
       "      <th>0</th>\n",
       "      <td>-0.920412</td>\n",
       "      <td>0.378977</td>\n",
       "      <td>-0.496922</td>\n",
       "    </tr>\n",
       "    <tr>\n",
       "      <th>1</th>\n",
       "      <td>-1.880352</td>\n",
       "      <td>-1.761948</td>\n",
       "      <td>-1.929210</td>\n",
       "    </tr>\n",
       "    <tr>\n",
       "      <th>2</th>\n",
       "      <td>-0.406079</td>\n",
       "      <td>5.199338</td>\n",
       "      <td>-0.265669</td>\n",
       "    </tr>\n",
       "    <tr>\n",
       "      <th>3</th>\n",
       "      <td>-0.436240</td>\n",
       "      <td>-0.627196</td>\n",
       "      <td>-0.696636</td>\n",
       "    </tr>\n",
       "    <tr>\n",
       "      <th>4</th>\n",
       "      <td>0.001255</td>\n",
       "      <td>5.199338</td>\n",
       "      <td>0.215631</td>\n",
       "    </tr>\n",
       "  </tbody>\n",
       "</table>\n",
       "</div>"
      ],
      "text/plain": [
       "   monthly_charges_qscaled  tenure_qscaled  total_charges_qscaled\n",
       "0                -0.920412        0.378977              -0.496922\n",
       "1                -1.880352       -1.761948              -1.929210\n",
       "2                -0.406079        5.199338              -0.265669\n",
       "3                -0.436240       -0.627196              -0.696636\n",
       "4                 0.001255        5.199338               0.215631"
      ]
     },
     "execution_count": 119,
     "metadata": {},
     "output_type": "execute_result"
    }
   ],
   "source": [
    "# create quantile transformer object\n",
    "qscaler = sklearn.preprocessing.QuantileTransformer(output_distribution = 'normal')\n",
    "\n",
    "# fit quantile transformer to columns\n",
    "qscaler.fit(train[['monthly_charges', 'tenure', 'total_charges']])\n",
    "\n",
    "# transform values with fitted transformer\n",
    "qtrain = qscaler.transform(train[['monthly_charges', 'tenure', 'total_charges']])\n",
    "\n",
    "# create new DF using transformed values\n",
    "qscaled_df = pd.DataFrame(qtrain)\n",
    "\n",
    "# rename columns\n",
    "qscaled_df.columns = ['monthly_charges_qscaled','tenure_qscaled','total_charges_qscaled']\n",
    "qscaled_df.head()"
   ]
  },
  {
   "cell_type": "markdown",
   "metadata": {},
   "source": [
    "#### Visualize the result of your data scaling."
   ]
  },
  {
   "cell_type": "code",
   "execution_count": null,
   "metadata": {},
   "outputs": [],
   "source": []
  },
  {
   "cell_type": "markdown",
   "metadata": {},
   "source": [
    "#### Use the QuantileTransformer, but omit the output_distribution argument. Visualize your results. What do you notice?"
   ]
  },
  {
   "cell_type": "code",
   "execution_count": null,
   "metadata": {},
   "outputs": [],
   "source": []
  },
  {
   "cell_type": "markdown",
   "metadata": {},
   "source": [
    "#### Based on the work you've done, choose a scaling method for your dataset. Write a function within your prepare.py that accepts as input the train, validate, and test data splits, and returns the scaled versions of each. Be sure to only learn the parameters for scaling from your training data!"
   ]
  },
  {
   "cell_type": "code",
   "execution_count": null,
   "metadata": {},
   "outputs": [],
   "source": []
  },
  {
   "cell_type": "code",
   "execution_count": null,
   "metadata": {},
   "outputs": [],
   "source": []
  },
  {
   "cell_type": "code",
   "execution_count": null,
   "metadata": {},
   "outputs": [],
   "source": []
  }
 ],
 "metadata": {
  "kernelspec": {
   "display_name": "Python 3",
   "language": "python",
   "name": "python3"
  },
  "language_info": {
   "codemirror_mode": {
    "name": "ipython",
    "version": 3
   },
   "file_extension": ".py",
   "mimetype": "text/x-python",
   "name": "python",
   "nbconvert_exporter": "python",
   "pygments_lexer": "ipython3",
   "version": "3.7.6"
  }
 },
 "nbformat": 4,
 "nbformat_minor": 4
}
