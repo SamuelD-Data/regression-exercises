{
 "cells": [
  {
   "cell_type": "code",
   "execution_count": 139,
   "metadata": {
    "scrolled": true
   },
   "outputs": [
    {
     "data": {
      "text/html": [
       "<div>\n",
       "<style scoped>\n",
       "    .dataframe tbody tr th:only-of-type {\n",
       "        vertical-align: middle;\n",
       "    }\n",
       "\n",
       "    .dataframe tbody tr th {\n",
       "        vertical-align: top;\n",
       "    }\n",
       "\n",
       "    .dataframe thead th {\n",
       "        text-align: right;\n",
       "    }\n",
       "</style>\n",
       "<table border=\"1\" class=\"dataframe\">\n",
       "  <thead>\n",
       "    <tr style=\"text-align: right;\">\n",
       "      <th></th>\n",
       "      <th>customer_id</th>\n",
       "      <th>monthly_charges</th>\n",
       "      <th>tenure</th>\n",
       "      <th>total_charges</th>\n",
       "    </tr>\n",
       "  </thead>\n",
       "  <tbody>\n",
       "    <tr>\n",
       "      <th>1171</th>\n",
       "      <td>6980-IMXXE</td>\n",
       "      <td>20.20</td>\n",
       "      <td>69</td>\n",
       "      <td>1412.65</td>\n",
       "    </tr>\n",
       "    <tr>\n",
       "      <th>736</th>\n",
       "      <td>4573-JKNAE</td>\n",
       "      <td>19.35</td>\n",
       "      <td>12</td>\n",
       "      <td>212.30</td>\n",
       "    </tr>\n",
       "    <tr>\n",
       "      <th>1485</th>\n",
       "      <td>8774-GSBUN</td>\n",
       "      <td>25.40</td>\n",
       "      <td>72</td>\n",
       "      <td>1797.10</td>\n",
       "    </tr>\n",
       "    <tr>\n",
       "      <th>1139</th>\n",
       "      <td>6770-UAYGJ</td>\n",
       "      <td>25.25</td>\n",
       "      <td>49</td>\n",
       "      <td>1211.65</td>\n",
       "    </tr>\n",
       "    <tr>\n",
       "      <th>689</th>\n",
       "      <td>4139-DETXS</td>\n",
       "      <td>64.45</td>\n",
       "      <td>72</td>\n",
       "      <td>4528.00</td>\n",
       "    </tr>\n",
       "  </tbody>\n",
       "</table>\n",
       "</div>"
      ],
      "text/plain": [
       "     customer_id  monthly_charges  tenure  total_charges\n",
       "1171  6980-IMXXE            20.20      69        1412.65\n",
       "736   4573-JKNAE            19.35      12         212.30\n",
       "1485  8774-GSBUN            25.40      72        1797.10\n",
       "1139  6770-UAYGJ            25.25      49        1211.65\n",
       "689   4139-DETXS            64.45      72        4528.00"
      ]
     },
     "execution_count": 139,
     "metadata": {},
     "output_type": "execute_result"
    }
   ],
   "source": [
    "# importing\n",
    "import numpy as np\n",
    "import pandas as pd\n",
    "import sklearn.preprocessing\n",
    "from sklearn.model_selection import train_test_split\n",
    "import matplotlib.pyplot as plt\n",
    "import wrangle\n",
    "\n",
    "# using wrangle function to acquire prepared data\n",
    "df = wrangle.wrangle_telco()\n",
    "\n",
    "# splitting dataframe into train, validate and test sets\n",
    "train_and_validate, test = train_test_split(df, test_size=.2, random_state=123)\n",
    "train, validate = train_test_split(train_and_validate, test_size=.2, random_state=123)\n",
    "\n",
    "# verifying data looks good\n",
    "train.head()"
   ]
  },
  {
   "cell_type": "markdown",
   "metadata": {},
   "source": [
    "#### Apply the scalers we talked about in this lesson to your data and visualize the results in a way that can ."
   ]
  },
  {
   "cell_type": "code",
   "execution_count": 122,
   "metadata": {},
   "outputs": [
    {
     "data": {
      "text/plain": [
       "[Text(0.5, 1.0, 'Monthly_Charges_Scaled')]"
      ]
     },
     "execution_count": 122,
     "metadata": {},
     "output_type": "execute_result"
    },
    {
     "data": {
      "image/png": "[encoded data removed]",
      "text/plain": [
       "<Figure size 504x360 with 2 Axes>"
      ]
     },
     "metadata": {
      "needs_background": "light"
     },
     "output_type": "display_data"
    }
   ],
   "source": [
    "# creating scaler object\n",
    "scaler = sklearn.preprocessing.MinMaxScaler()\n",
    "\n",
    "# fitting and transforming monthly_charges with scaler\n",
    "monthly_charges_scaled = scaler.fit_transform(train[['monthly_charges']])\n",
    "\n",
    "# specifying figure size \n",
    "fig = plt.figure(figsize=(7,5))\n",
    "\n",
    "# specifying subplot dimension\n",
    "# 1 row, 2 columns\n",
    "gs = plt.GridSpec(1, 2)\n",
    "\n",
    "# plots will be in same row, ax1 on left, ax2 on right\n",
    "ax1 = fig.add_subplot(gs[0, 0]) \n",
    "ax2 = fig.add_subplot(gs[0, 1])\n",
    "\n",
    "# plotting unscaled monthly charges\n",
    "ax1.hist(train.monthly_charges)\n",
    "ax1.set(title='Monthly_Charges_Unscaled')\n",
    "\n",
    "# plotting scaled monthly charges\n",
    "ax2.hist(monthly_charges_scaled)\n",
    "ax2.set(title='Monthly_Charges_Scaled')"
   ]
  },
  {
   "cell_type": "markdown",
   "metadata": {},
   "source": [
    "#### Apply the .inverse_transform method to your scaled data. Is the resulting dataset the exact same as the original data?"
   ]
  },
  {
   "cell_type": "code",
   "execution_count": 91,
   "metadata": {},
   "outputs": [
    {
     "data": {
      "text/html": [
       "<div>\n",
       "<style scoped>\n",
       "    .dataframe tbody tr th:only-of-type {\n",
       "        vertical-align: middle;\n",
       "    }\n",
       "\n",
       "    .dataframe tbody tr th {\n",
       "        vertical-align: top;\n",
       "    }\n",
       "\n",
       "    .dataframe thead th {\n",
       "        text-align: right;\n",
       "    }\n",
       "</style>\n",
       "<table border=\"1\" class=\"dataframe\">\n",
       "  <thead>\n",
       "    <tr style=\"text-align: right;\">\n",
       "      <th></th>\n",
       "      <th>monthly_charges_scaled</th>\n",
       "    </tr>\n",
       "  </thead>\n",
       "  <tbody>\n",
       "    <tr>\n",
       "      <th>0</th>\n",
       "      <td>0.017955</td>\n",
       "    </tr>\n",
       "    <tr>\n",
       "      <th>1</th>\n",
       "      <td>0.009476</td>\n",
       "    </tr>\n",
       "    <tr>\n",
       "      <th>2</th>\n",
       "      <td>0.069825</td>\n",
       "    </tr>\n",
       "    <tr>\n",
       "      <th>3</th>\n",
       "      <td>0.068329</td>\n",
       "    </tr>\n",
       "    <tr>\n",
       "      <th>4</th>\n",
       "      <td>0.459352</td>\n",
       "    </tr>\n",
       "  </tbody>\n",
       "</table>\n",
       "</div>"
      ],
      "text/plain": [
       "   monthly_charges_scaled\n",
       "0                0.017955\n",
       "1                0.009476\n",
       "2                0.069825\n",
       "3                0.068329\n",
       "4                0.459352"
      ]
     },
     "execution_count": 91,
     "metadata": {},
     "output_type": "execute_result"
    }
   ],
   "source": [
    "# creating new scaler object\n",
    "scaler = sklearn.preprocessing.MinMaxScaler()\n",
    "\n",
    "# fitting scaler to monthly charges column in train\n",
    "scaler.fit(train[['monthly_charges']])\n",
    "\n",
    "# creating DF that holds scaled monthly_charges\n",
    "train_scaled = scaler.transform(train[['monthly_charges']])\n",
    "train_scaled = pd.DataFrame(train_scaled, columns=['monthly_charges_scaled'])\n",
    "\n",
    "# examining results\n",
    "train_scaled.head()"
   ]
  },
  {
   "cell_type": "code",
   "execution_count": 108,
   "metadata": {
    "scrolled": true
   },
   "outputs": [
    {
     "name": "stderr",
     "output_type": "stream",
     "text": [
      "/usr/local/anaconda3/lib/python3.7/site-packages/ipykernel_launcher.py:4: SettingWithCopyWarning: \n",
      "A value is trying to be set on a copy of a slice from a DataFrame.\n",
      "Try using .loc[row_indexer,col_indexer] = value instead\n",
      "\n",
      "See the caveats in the documentation: https://pandas.pydata.org/pandas-docs/stable/user_guide/indexing.html#returning-a-view-versus-a-copy\n",
      "  after removing the cwd from sys.path.\n"
     ]
    },
    {
     "data": {
      "text/plain": [
       "(1084, 2)"
      ]
     },
     "execution_count": 108,
     "metadata": {},
     "output_type": "execute_result"
    }
   ],
   "source": [
    "# creating DF that holds original monthly charges values in first column\n",
    "# and un-transformed (inverted after scaling) monthly charges values\n",
    "scale_comparer = train[['monthly_charges']]\n",
    "scale_comparer['inverse_transform1'] = scaler.inverse_transform(train_scaled[['monthly_charges_scaled']])\n",
    "\n",
    "# confirming how many rows are in new DF\n",
    "scale_comparer.shape"
   ]
  },
  {
   "cell_type": "code",
   "execution_count": 112,
   "metadata": {},
   "outputs": [
    {
     "name": "stdout",
     "output_type": "stream",
     "text": [
      "The inverter was able to return 830 values back to the identical value they began as in the train dataset.\n"
     ]
    }
   ],
   "source": [
    "# comparing columns and confirming how many rows contain matching values\n",
    "# ie. how many times did the inverted value transform back to the exact original value in train\n",
    "matches = (data_scales.monthly_charges == data_scales.inverse_transform1).sum()\n",
    "\n",
    "print(f'The inverter was able to return {matches} values back to the identical value they began as in the train dataset.')"
   ]
  },
  {
   "cell_type": "markdown",
   "metadata": {},
   "source": [
    "#### Read the documentation for sklearn's QuantileTransformer. Use normal for the output_distribution and apply this scaler to your data."
   ]
  },
  {
   "cell_type": "code",
   "execution_count": 119,
   "metadata": {},
   "outputs": [
    {
     "data": {
      "text/html": [
       "<div>\n",
       "<style scoped>\n",
       "    .dataframe tbody tr th:only-of-type {\n",
       "        vertical-align: middle;\n",
       "    }\n",
       "\n",
       "    .dataframe tbody tr th {\n",
       "        vertical-align: top;\n",
       "    }\n",
       "\n",
       "    .dataframe thead th {\n",
       "        text-align: right;\n",
       "    }\n",
       "</style>\n",
       "<table border=\"1\" class=\"dataframe\">\n",
       "  <thead>\n",
       "    <tr style=\"text-align: right;\">\n",
       "      <th></th>\n",
       "      <th>monthly_charges_qscaled</th>\n",
       "      <th>tenure_qscaled</th>\n",
       "      <th>total_charges_qscaled</th>\n",
       "    </tr>\n",
       "  </thead>\n",
       "  <tbody>\n",
       "    <tr>\n",
       "      <th>0</th>\n",
       "      <td>-0.920412</td>\n",
       "      <td>0.378977</td>\n",
       "      <td>-0.496922</td>\n",
       "    </tr>\n",
       "    <tr>\n",
       "      <th>1</th>\n",
       "      <td>-1.880352</td>\n",
       "      <td>-1.761948</td>\n",
       "      <td>-1.929210</td>\n",
       "    </tr>\n",
       "    <tr>\n",
       "      <th>2</th>\n",
       "      <td>-0.406079</td>\n",
       "      <td>5.199338</td>\n",
       "      <td>-0.265669</td>\n",
       "    </tr>\n",
       "    <tr>\n",
       "      <th>3</th>\n",
       "      <td>-0.436240</td>\n",
       "      <td>-0.627196</td>\n",
       "      <td>-0.696636</td>\n",
       "    </tr>\n",
       "    <tr>\n",
       "      <th>4</th>\n",
       "      <td>0.001255</td>\n",
       "      <td>5.199338</td>\n",
       "      <td>0.215631</td>\n",
       "    </tr>\n",
       "  </tbody>\n",
       "</table>\n",
       "</div>"
      ],
      "text/plain": [
       "   monthly_charges_qscaled  tenure_qscaled  total_charges_qscaled\n",
       "0                -0.920412        0.378977              -0.496922\n",
       "1                -1.880352       -1.761948              -1.929210\n",
       "2                -0.406079        5.199338              -0.265669\n",
       "3                -0.436240       -0.627196              -0.696636\n",
       "4                 0.001255        5.199338               0.215631"
      ]
     },
     "execution_count": 119,
     "metadata": {},
     "output_type": "execute_result"
    }
   ],
   "source": [
    "# create quantile transformer object\n",
    "qscaler = sklearn.preprocessing.QuantileTransformer(output_distribution = 'normal')\n",
    "\n",
    "# fit quantile transformer to columns\n",
    "qscaler.fit(train[['monthly_charges', 'tenure', 'total_charges']])\n",
    "\n",
    "# transform values with fitted transformer\n",
    "qtrain = qscaler.transform(train[['monthly_charges', 'tenure', 'total_charges']])\n",
    "\n",
    "# create new DF using transformed values\n",
    "qscaled_df = pd.DataFrame(qtrain)\n",
    "\n",
    "# rename columns\n",
    "qscaled_df.columns = ['monthly_charges_qscaled','tenure_qscaled','total_charges_qscaled']\n",
    "qscaled_df.head()"
   ]
  },
  {
   "cell_type": "markdown",
   "metadata": {},
   "source": [
    "#### Visualize the result of your data scaling."
   ]
  },
  {
   "cell_type": "code",
   "execution_count": 132,
   "metadata": {},
   "outputs": [
    {
     "data": {
      "text/plain": [
       "[Text(0.5, 1.0, 'Total_Charges_Qscaled')]"
      ]
     },
     "execution_count": 132,
     "metadata": {},
     "output_type": "execute_result"
    },
    {
     "data": {
      "image/png": "[encoded data removed]",
      "text/plain": [
       "<Figure size 1080x360 with 3 Axes>"
      ]
     },
     "metadata": {
      "needs_background": "light"
     },
     "output_type": "display_data"
    }
   ],
   "source": [
    "# specifying figure size \n",
    "fig = plt.figure(figsize=(15,5))\n",
    "\n",
    "# specifying subplot dimension\n",
    "# 1 row, 3 columns\n",
    "gs = plt.GridSpec(1, 3)\n",
    "\n",
    "# plots will be in same row, different columns\n",
    "ax1 = fig.add_subplot(gs[0, 0]) \n",
    "ax2 = fig.add_subplot(gs[0, 1])\n",
    "ax3 = fig.add_subplot(gs[0, 2])\n",
    "\n",
    "# plotting histograms using qscaled data\n",
    "ax1.hist(qscaled_df.monthly_charges_qscaled)\n",
    "ax1.set(title='Monthly_Charges_Qscaled')\n",
    "\n",
    "ax2.hist(qscaled_df.tenure_qscaled)\n",
    "ax2.set(title='Tenure_Qscaled')\n",
    "\n",
    "ax3.hist(qscaled_df.total_charges_qscaled)\n",
    "ax3.set(title='Total_Charges_Qscaled')"
   ]
  },
  {
   "cell_type": "markdown",
   "metadata": {},
   "source": [
    "#### Use the QuantileTransformer, but omit the output_distribution argument."
   ]
  },
  {
   "cell_type": "code",
   "execution_count": 133,
   "metadata": {
    "scrolled": true
   },
   "outputs": [
    {
     "data": {
      "text/html": [
       "<div>\n",
       "<style scoped>\n",
       "    .dataframe tbody tr th:only-of-type {\n",
       "        vertical-align: middle;\n",
       "    }\n",
       "\n",
       "    .dataframe tbody tr th {\n",
       "        vertical-align: top;\n",
       "    }\n",
       "\n",
       "    .dataframe thead th {\n",
       "        text-align: right;\n",
       "    }\n",
       "</style>\n",
       "<table border=\"1\" class=\"dataframe\">\n",
       "  <thead>\n",
       "    <tr style=\"text-align: right;\">\n",
       "      <th></th>\n",
       "      <th>monthly_charges_qscaled</th>\n",
       "      <th>tenure_qscaled</th>\n",
       "      <th>total_charges_qscaled</th>\n",
       "    </tr>\n",
       "  </thead>\n",
       "  <tbody>\n",
       "    <tr>\n",
       "      <th>0</th>\n",
       "      <td>0.178679</td>\n",
       "      <td>0.647648</td>\n",
       "      <td>0.309622</td>\n",
       "    </tr>\n",
       "    <tr>\n",
       "      <th>1</th>\n",
       "      <td>0.030030</td>\n",
       "      <td>0.039039</td>\n",
       "      <td>0.026852</td>\n",
       "    </tr>\n",
       "    <tr>\n",
       "      <th>2</th>\n",
       "      <td>0.342342</td>\n",
       "      <td>1.000000</td>\n",
       "      <td>0.395247</td>\n",
       "    </tr>\n",
       "    <tr>\n",
       "      <th>3</th>\n",
       "      <td>0.331331</td>\n",
       "      <td>0.265265</td>\n",
       "      <td>0.243015</td>\n",
       "    </tr>\n",
       "    <tr>\n",
       "      <th>4</th>\n",
       "      <td>0.500501</td>\n",
       "      <td>1.000000</td>\n",
       "      <td>0.585362</td>\n",
       "    </tr>\n",
       "  </tbody>\n",
       "</table>\n",
       "</div>"
      ],
      "text/plain": [
       "   monthly_charges_qscaled  tenure_qscaled  total_charges_qscaled\n",
       "0                 0.178679        0.647648               0.309622\n",
       "1                 0.030030        0.039039               0.026852\n",
       "2                 0.342342        1.000000               0.395247\n",
       "3                 0.331331        0.265265               0.243015\n",
       "4                 0.500501        1.000000               0.585362"
      ]
     },
     "execution_count": 133,
     "metadata": {},
     "output_type": "execute_result"
    }
   ],
   "source": [
    "# create quantile transformer object\n",
    "qscaler = sklearn.preprocessing.QuantileTransformer()\n",
    "\n",
    "# fit quantile transformer to columns\n",
    "qscaler.fit(train[['monthly_charges', 'tenure', 'total_charges']])\n",
    "\n",
    "# transform values with fitted transformer\n",
    "qtrain = qscaler.transform(train[['monthly_charges', 'tenure', 'total_charges']])\n",
    "\n",
    "# create new DF using transformed values\n",
    "qscaled_df = pd.DataFrame(qtrain)\n",
    "\n",
    "# rename columns\n",
    "qscaled_df.columns = ['monthly_charges_qscaled','tenure_qscaled','total_charges_qscaled']\n",
    "qscaled_df.head()"
   ]
  },
  {
   "cell_type": "markdown",
   "metadata": {},
   "source": [
    "#### Visualize the result of your data scaling."
   ]
  },
  {
   "cell_type": "code",
   "execution_count": 135,
   "metadata": {
    "scrolled": true
   },
   "outputs": [
    {
     "data": {
      "text/plain": [
       "[Text(0.5, 1.0, 'Total_Charges_Qscaled')]"
      ]
     },
     "execution_count": 135,
     "metadata": {},
     "output_type": "execute_result"
    },
    {
     "data": {
      "image/png": "[encoded data removed]",
      "text/plain": [
       "<Figure size 1080x360 with 3 Axes>"
      ]
     },
     "metadata": {
      "needs_background": "light"
     },
     "output_type": "display_data"
    }
   ],
   "source": [
    "# specifying figure size \n",
    "fig = plt.figure(figsize=(15,5))\n",
    "\n",
    "# specifying subplot dimension\n",
    "# 1 row, 3 columns\n",
    "gs = plt.GridSpec(1, 3)\n",
    "\n",
    "# plots will be in same row, different columns\n",
    "ax1 = fig.add_subplot(gs[0, 0]) \n",
    "ax2 = fig.add_subplot(gs[0, 1])\n",
    "ax3 = fig.add_subplot(gs[0, 2])\n",
    "\n",
    "# plotting histograms using qscaled data\n",
    "ax1.hist(qscaled_df.monthly_charges_qscaled)\n",
    "ax1.set(title='Monthly_Charges_Qscaled')\n",
    "\n",
    "ax2.hist(qscaled_df.tenure_qscaled)\n",
    "ax2.set(title='Tenure_Qscaled')\n",
    "\n",
    "ax3.hist(qscaled_df.total_charges_qscaled)\n",
    "ax3.set(title='Total_Charges_Qscaled')"
   ]
  },
  {
   "cell_type": "markdown",
   "metadata": {},
   "source": [
    "#### What do you notice?"
   ]
  },
  {
   "cell_type": "code",
   "execution_count": 136,
   "metadata": {},
   "outputs": [
    {
     "name": "stdout",
     "output_type": "stream",
     "text": [
      "The data is not scaled properly. THe distributions look completely wrong.\n"
     ]
    }
   ],
   "source": [
    "print('The data is not scaled properly. THe distributions look completely wrong.')"
   ]
  },
  {
   "cell_type": "markdown",
   "metadata": {},
   "source": [
    "#### Based on the work you've done, choose a scaling method for your dataset. Write a function within your prepare.py that accepts as input the train, validate, and test data splits, and returns the scaled versions of each. Be sure to only learn the parameters for scaling from your training data!"
   ]
  },
  {
   "cell_type": "code",
   "execution_count": 147,
   "metadata": {},
   "outputs": [],
   "source": [
    "# Using function from exercise guide, also adding to wrangle file\n",
    "from sklearn.preprocessing import MinMaxScaler\n",
    "\n",
    "# creating function with 3 parameters, one for each dataset (train, validate, test)\n",
    "def minmax_scaler(train, validate, test):\n",
    "    '''\n",
    "    Function takes in train, validate and test data frames then returns them after scaling them from 0 to 1 \n",
    "    '''\n",
    "    # creating minmax scaler object\n",
    "    scaler = MinMaxScaler()\n",
    "    \n",
    "    # fitting scaler to each column in the train data set\n",
    "    # transforming data in train data set\n",
    "    train[['monthly_charges', 'tenure' ,'total_charges']] = scaler.fit_transform(train[['monthly_charges', 'tenure', 'total_charges']])\n",
    "    # transforming data in validate and test data sets while scaler fitted to train values\n",
    "    validate[['monthly_charges', 'tenure', 'total_charges']] = scaler.transform(validate[['monthly_charges', 'tenure', 'total_charges']])\n",
    "    test[['monthly_charges', 'tenure', 'total_charges']] = scaler.transform(test[['monthly_charges', 'tenure', 'total_charges']])\n",
    "    # returning scaled data sets\n",
    "    return train, validate, test\n"
   ]
  },
  {
   "cell_type": "code",
   "execution_count": 148,
   "metadata": {},
   "outputs": [
    {
     "name": "stderr",
     "output_type": "stream",
     "text": [
      "/usr/local/anaconda3/lib/python3.7/site-packages/ipykernel_launcher.py:14: SettingWithCopyWarning: \n",
      "A value is trying to be set on a copy of a slice from a DataFrame.\n",
      "Try using .loc[row_indexer,col_indexer] = value instead\n",
      "\n",
      "See the caveats in the documentation: https://pandas.pydata.org/pandas-docs/stable/user_guide/indexing.html#returning-a-view-versus-a-copy\n",
      "  \n",
      "/usr/local/anaconda3/lib/python3.7/site-packages/pandas/core/indexing.py:965: SettingWithCopyWarning: \n",
      "A value is trying to be set on a copy of a slice from a DataFrame.\n",
      "Try using .loc[row_indexer,col_indexer] = value instead\n",
      "\n",
      "See the caveats in the documentation: https://pandas.pydata.org/pandas-docs/stable/user_guide/indexing.html#returning-a-view-versus-a-copy\n",
      "  self.obj[item] = s\n",
      "/usr/local/anaconda3/lib/python3.7/site-packages/ipykernel_launcher.py:16: SettingWithCopyWarning: \n",
      "A value is trying to be set on a copy of a slice from a DataFrame.\n",
      "Try using .loc[row_indexer,col_indexer] = value instead\n",
      "\n",
      "See the caveats in the documentation: https://pandas.pydata.org/pandas-docs/stable/user_guide/indexing.html#returning-a-view-versus-a-copy\n",
      "  app.launch_new_instance()\n",
      "/usr/local/anaconda3/lib/python3.7/site-packages/pandas/core/indexing.py:965: SettingWithCopyWarning: \n",
      "A value is trying to be set on a copy of a slice from a DataFrame.\n",
      "Try using .loc[row_indexer,col_indexer] = value instead\n",
      "\n",
      "See the caveats in the documentation: https://pandas.pydata.org/pandas-docs/stable/user_guide/indexing.html#returning-a-view-versus-a-copy\n",
      "  self.obj[item] = s\n",
      "/usr/local/anaconda3/lib/python3.7/site-packages/ipykernel_launcher.py:17: SettingWithCopyWarning: \n",
      "A value is trying to be set on a copy of a slice from a DataFrame.\n",
      "Try using .loc[row_indexer,col_indexer] = value instead\n",
      "\n",
      "See the caveats in the documentation: https://pandas.pydata.org/pandas-docs/stable/user_guide/indexing.html#returning-a-view-versus-a-copy\n",
      "/usr/local/anaconda3/lib/python3.7/site-packages/pandas/core/indexing.py:965: SettingWithCopyWarning: \n",
      "A value is trying to be set on a copy of a slice from a DataFrame.\n",
      "Try using .loc[row_indexer,col_indexer] = value instead\n",
      "\n",
      "See the caveats in the documentation: https://pandas.pydata.org/pandas-docs/stable/user_guide/indexing.html#returning-a-view-versus-a-copy\n",
      "  self.obj[item] = s\n"
     ]
    },
    {
     "data": {
      "text/plain": [
       "(     customer_id  monthly_charges    tenure  total_charges\n",
       " 1171  6980-IMXXE         0.017955  0.958333       0.162934\n",
       " 736   4573-JKNAE         0.009476  0.166667       0.024486\n",
       " 1485  8774-GSBUN         0.069825  1.000000       0.207276\n",
       " 1139  6770-UAYGJ         0.068329  0.680556       0.139750\n",
       " 689   4139-DETXS         0.459352  1.000000       0.522255\n",
       " ...          ...              ...       ...            ...\n",
       " 441   2664-XJZNO         0.862843  1.000000       0.871910\n",
       " 98    0567-XRHCU         0.254863  0.958333       0.341415\n",
       " 886   5334-AFQJB         0.066833  1.000000       0.206445\n",
       " 322   2001-MCUUW         0.900249  0.638889       0.565530\n",
       " 1593  9418-RUKPH         0.015461  0.527778       0.087242\n",
       " \n",
       " [1084 rows x 4 columns],\n",
       "      customer_id  monthly_charges    tenure  total_charges\n",
       " 132   0780-XNZFN         0.022444  0.791667       0.129825\n",
       " 1616  9548-LIGTA         0.624938  0.847222       0.547589\n",
       " 1203  7139-JZFVG         0.419950  0.833333       0.426114\n",
       " 367   2229-DPMBI         0.010973  0.111111       0.018702\n",
       " 1645  9710-NJERN         0.017456  0.541667       0.095270\n",
       " ...          ...              ...       ...            ...\n",
       " 55    0362-RAOQO         0.012469  0.555556       0.095760\n",
       " 1186  7033-CLAMM         0.017955  0.666667       0.118482\n",
       " 1018  6139-ZZRBQ         0.016459  0.888889       0.138182\n",
       " 105   0608-JDVEC         0.013965  0.694444       0.116861\n",
       " 1442  8510-TMWYB         0.412968  0.750000       0.374442\n",
       " \n",
       " [272 rows x 4 columns],\n",
       "      customer_id  monthly_charges    tenure  total_charges\n",
       " 252   1494-EJZDW         0.017456  0.138889       0.025467\n",
       " 632   3795-GWTRD         0.570075  0.875000       0.542998\n",
       " 472   2900-PHPLN         0.011471  0.972222       0.168631\n",
       " 1029  6211-WWLTF         0.810973  0.875000       0.730142\n",
       " 910   5494-WOZRZ         0.634414  0.986111       0.692016\n",
       " ...          ...              ...       ...            ...\n",
       " 749   4654-ULTTN         0.562594  0.972222       0.613119\n",
       " 710   4334-HOWRP         0.464339  1.000000       0.524331\n",
       " 1288  7634-HLQJR         0.016459  0.652778       0.117265\n",
       " 1512  8917-FAEMR         0.014464  0.513889       0.090455\n",
       " 1432  8434-PNQZX         0.599002  0.583333       0.389084\n",
       " \n",
       " [339 rows x 4 columns])"
      ]
     },
     "execution_count": 148,
     "metadata": {},
     "output_type": "execute_result"
    }
   ],
   "source": [
    "# testing function\n",
    "minmax_scaler(train, validate, test)\n"
   ]
  },
  {
   "cell_type": "code",
   "execution_count": null,
   "metadata": {},
   "outputs": [],
   "source": []
  }
 ],
 "metadata": {
  "kernelspec": {
   "display_name": "Python 3",
   "language": "python",
   "name": "python3"
  },
  "language_info": {
   "codemirror_mode": {
    "name": "ipython",
    "version": 3
   },
   "file_extension": ".py",
   "mimetype": "text/x-python",
   "name": "python",
   "nbconvert_exporter": "python",
   "pygments_lexer": "ipython3",
   "version": "3.7.6"
  }
 },
 "nbformat": 4,
 "nbformat_minor": 4
}
