{
 "cells": [
  {
   "cell_type": "code",
   "execution_count": 8,
   "metadata": {},
   "outputs": [],
   "source": [
    "# imports\n",
    "from sklearn.linear_model import LinearRegression\n",
    "from sklearn.feature_selection import RFE\n",
    "from sklearn.feature_selection import SelectKBest, f_regression\n",
    "from pydataset import data\n",
    "\n",
    "import pandas as pd\n",
    "import numpy as np\n",
    "import matplotlib.pyplot as plt\n",
    "import seaborn as sns\n",
    "import warnings\n",
    "warnings.filterwarnings(\"ignore\")"
   ]
  },
  {
   "cell_type": "markdown",
   "metadata": {},
   "source": [
    "### Load the tips dataset."
   ]
  },
  {
   "cell_type": "code",
   "execution_count": 2,
   "metadata": {},
   "outputs": [
    {
     "data": {
      "text/html": [
       "<div>\n",
       "<style scoped>\n",
       "    .dataframe tbody tr th:only-of-type {\n",
       "        vertical-align: middle;\n",
       "    }\n",
       "\n",
       "    .dataframe tbody tr th {\n",
       "        vertical-align: top;\n",
       "    }\n",
       "\n",
       "    .dataframe thead th {\n",
       "        text-align: right;\n",
       "    }\n",
       "</style>\n",
       "<table border=\"1\" class=\"dataframe\">\n",
       "  <thead>\n",
       "    <tr style=\"text-align: right;\">\n",
       "      <th></th>\n",
       "      <th>total_bill</th>\n",
       "      <th>tip</th>\n",
       "      <th>sex</th>\n",
       "      <th>smoker</th>\n",
       "      <th>day</th>\n",
       "      <th>time</th>\n",
       "      <th>size</th>\n",
       "    </tr>\n",
       "  </thead>\n",
       "  <tbody>\n",
       "    <tr>\n",
       "      <th>0</th>\n",
       "      <td>16.99</td>\n",
       "      <td>1.01</td>\n",
       "      <td>Female</td>\n",
       "      <td>No</td>\n",
       "      <td>Sun</td>\n",
       "      <td>Dinner</td>\n",
       "      <td>2</td>\n",
       "    </tr>\n",
       "    <tr>\n",
       "      <th>1</th>\n",
       "      <td>10.34</td>\n",
       "      <td>1.66</td>\n",
       "      <td>Male</td>\n",
       "      <td>No</td>\n",
       "      <td>Sun</td>\n",
       "      <td>Dinner</td>\n",
       "      <td>3</td>\n",
       "    </tr>\n",
       "    <tr>\n",
       "      <th>2</th>\n",
       "      <td>21.01</td>\n",
       "      <td>3.50</td>\n",
       "      <td>Male</td>\n",
       "      <td>No</td>\n",
       "      <td>Sun</td>\n",
       "      <td>Dinner</td>\n",
       "      <td>3</td>\n",
       "    </tr>\n",
       "    <tr>\n",
       "      <th>3</th>\n",
       "      <td>23.68</td>\n",
       "      <td>3.31</td>\n",
       "      <td>Male</td>\n",
       "      <td>No</td>\n",
       "      <td>Sun</td>\n",
       "      <td>Dinner</td>\n",
       "      <td>2</td>\n",
       "    </tr>\n",
       "    <tr>\n",
       "      <th>4</th>\n",
       "      <td>24.59</td>\n",
       "      <td>3.61</td>\n",
       "      <td>Female</td>\n",
       "      <td>No</td>\n",
       "      <td>Sun</td>\n",
       "      <td>Dinner</td>\n",
       "      <td>4</td>\n",
       "    </tr>\n",
       "  </tbody>\n",
       "</table>\n",
       "</div>"
      ],
      "text/plain": [
       "   total_bill   tip     sex smoker  day    time  size\n",
       "0       16.99  1.01  Female     No  Sun  Dinner     2\n",
       "1       10.34  1.66    Male     No  Sun  Dinner     3\n",
       "2       21.01  3.50    Male     No  Sun  Dinner     3\n",
       "3       23.68  3.31    Male     No  Sun  Dinner     2\n",
       "4       24.59  3.61  Female     No  Sun  Dinner     4"
      ]
     },
     "execution_count": 2,
     "metadata": {},
     "output_type": "execute_result"
    }
   ],
   "source": [
    "# acquiring data\n",
    "df = sns.load_dataset(\"tips\")\n",
    "\n",
    "df.head()"
   ]
  },
  {
   "cell_type": "markdown",
   "metadata": {},
   "source": [
    "### Create a column named tip_percentage. This should be the tip amount divided by the total bill."
   ]
  },
  {
   "cell_type": "code",
   "execution_count": 3,
   "metadata": {},
   "outputs": [
    {
     "data": {
      "text/html": [
       "<div>\n",
       "<style scoped>\n",
       "    .dataframe tbody tr th:only-of-type {\n",
       "        vertical-align: middle;\n",
       "    }\n",
       "\n",
       "    .dataframe tbody tr th {\n",
       "        vertical-align: top;\n",
       "    }\n",
       "\n",
       "    .dataframe thead th {\n",
       "        text-align: right;\n",
       "    }\n",
       "</style>\n",
       "<table border=\"1\" class=\"dataframe\">\n",
       "  <thead>\n",
       "    <tr style=\"text-align: right;\">\n",
       "      <th></th>\n",
       "      <th>total_bill</th>\n",
       "      <th>tip</th>\n",
       "      <th>sex</th>\n",
       "      <th>smoker</th>\n",
       "      <th>day</th>\n",
       "      <th>time</th>\n",
       "      <th>size</th>\n",
       "      <th>tip_percentage</th>\n",
       "    </tr>\n",
       "  </thead>\n",
       "  <tbody>\n",
       "    <tr>\n",
       "      <th>0</th>\n",
       "      <td>16.99</td>\n",
       "      <td>1.01</td>\n",
       "      <td>Female</td>\n",
       "      <td>No</td>\n",
       "      <td>Sun</td>\n",
       "      <td>Dinner</td>\n",
       "      <td>2</td>\n",
       "      <td>0.059447</td>\n",
       "    </tr>\n",
       "    <tr>\n",
       "      <th>1</th>\n",
       "      <td>10.34</td>\n",
       "      <td>1.66</td>\n",
       "      <td>Male</td>\n",
       "      <td>No</td>\n",
       "      <td>Sun</td>\n",
       "      <td>Dinner</td>\n",
       "      <td>3</td>\n",
       "      <td>0.160542</td>\n",
       "    </tr>\n",
       "    <tr>\n",
       "      <th>2</th>\n",
       "      <td>21.01</td>\n",
       "      <td>3.50</td>\n",
       "      <td>Male</td>\n",
       "      <td>No</td>\n",
       "      <td>Sun</td>\n",
       "      <td>Dinner</td>\n",
       "      <td>3</td>\n",
       "      <td>0.166587</td>\n",
       "    </tr>\n",
       "    <tr>\n",
       "      <th>3</th>\n",
       "      <td>23.68</td>\n",
       "      <td>3.31</td>\n",
       "      <td>Male</td>\n",
       "      <td>No</td>\n",
       "      <td>Sun</td>\n",
       "      <td>Dinner</td>\n",
       "      <td>2</td>\n",
       "      <td>0.139780</td>\n",
       "    </tr>\n",
       "    <tr>\n",
       "      <th>4</th>\n",
       "      <td>24.59</td>\n",
       "      <td>3.61</td>\n",
       "      <td>Female</td>\n",
       "      <td>No</td>\n",
       "      <td>Sun</td>\n",
       "      <td>Dinner</td>\n",
       "      <td>4</td>\n",
       "      <td>0.146808</td>\n",
       "    </tr>\n",
       "  </tbody>\n",
       "</table>\n",
       "</div>"
      ],
      "text/plain": [
       "   total_bill   tip     sex smoker  day    time  size  tip_percentage\n",
       "0       16.99  1.01  Female     No  Sun  Dinner     2        0.059447\n",
       "1       10.34  1.66    Male     No  Sun  Dinner     3        0.160542\n",
       "2       21.01  3.50    Male     No  Sun  Dinner     3        0.166587\n",
       "3       23.68  3.31    Male     No  Sun  Dinner     2        0.139780\n",
       "4       24.59  3.61  Female     No  Sun  Dinner     4        0.146808"
      ]
     },
     "execution_count": 3,
     "metadata": {},
     "output_type": "execute_result"
    }
   ],
   "source": [
    "# dividing tip by total_bill and storing values in new column tip_percentage\n",
    "df['tip_percentage'] = df['tip'] / df['total_bill']\n",
    "\n",
    "df.head()"
   ]
  },
  {
   "cell_type": "markdown",
   "metadata": {},
   "source": [
    "### Create a column named price_per_person. This should be the total bill divided by the party size."
   ]
  },
  {
   "cell_type": "code",
   "execution_count": 4,
   "metadata": {},
   "outputs": [
    {
     "data": {
      "text/html": [
       "<div>\n",
       "<style scoped>\n",
       "    .dataframe tbody tr th:only-of-type {\n",
       "        vertical-align: middle;\n",
       "    }\n",
       "\n",
       "    .dataframe tbody tr th {\n",
       "        vertical-align: top;\n",
       "    }\n",
       "\n",
       "    .dataframe thead th {\n",
       "        text-align: right;\n",
       "    }\n",
       "</style>\n",
       "<table border=\"1\" class=\"dataframe\">\n",
       "  <thead>\n",
       "    <tr style=\"text-align: right;\">\n",
       "      <th></th>\n",
       "      <th>total_bill</th>\n",
       "      <th>tip</th>\n",
       "      <th>sex</th>\n",
       "      <th>smoker</th>\n",
       "      <th>day</th>\n",
       "      <th>time</th>\n",
       "      <th>size</th>\n",
       "      <th>tip_percentage</th>\n",
       "      <th>price_per_person</th>\n",
       "    </tr>\n",
       "  </thead>\n",
       "  <tbody>\n",
       "    <tr>\n",
       "      <th>0</th>\n",
       "      <td>16.99</td>\n",
       "      <td>1.01</td>\n",
       "      <td>Female</td>\n",
       "      <td>No</td>\n",
       "      <td>Sun</td>\n",
       "      <td>Dinner</td>\n",
       "      <td>2</td>\n",
       "      <td>0.059447</td>\n",
       "      <td>8.495000</td>\n",
       "    </tr>\n",
       "    <tr>\n",
       "      <th>1</th>\n",
       "      <td>10.34</td>\n",
       "      <td>1.66</td>\n",
       "      <td>Male</td>\n",
       "      <td>No</td>\n",
       "      <td>Sun</td>\n",
       "      <td>Dinner</td>\n",
       "      <td>3</td>\n",
       "      <td>0.160542</td>\n",
       "      <td>3.446667</td>\n",
       "    </tr>\n",
       "    <tr>\n",
       "      <th>2</th>\n",
       "      <td>21.01</td>\n",
       "      <td>3.50</td>\n",
       "      <td>Male</td>\n",
       "      <td>No</td>\n",
       "      <td>Sun</td>\n",
       "      <td>Dinner</td>\n",
       "      <td>3</td>\n",
       "      <td>0.166587</td>\n",
       "      <td>7.003333</td>\n",
       "    </tr>\n",
       "    <tr>\n",
       "      <th>3</th>\n",
       "      <td>23.68</td>\n",
       "      <td>3.31</td>\n",
       "      <td>Male</td>\n",
       "      <td>No</td>\n",
       "      <td>Sun</td>\n",
       "      <td>Dinner</td>\n",
       "      <td>2</td>\n",
       "      <td>0.139780</td>\n",
       "      <td>11.840000</td>\n",
       "    </tr>\n",
       "    <tr>\n",
       "      <th>4</th>\n",
       "      <td>24.59</td>\n",
       "      <td>3.61</td>\n",
       "      <td>Female</td>\n",
       "      <td>No</td>\n",
       "      <td>Sun</td>\n",
       "      <td>Dinner</td>\n",
       "      <td>4</td>\n",
       "      <td>0.146808</td>\n",
       "      <td>6.147500</td>\n",
       "    </tr>\n",
       "  </tbody>\n",
       "</table>\n",
       "</div>"
      ],
      "text/plain": [
       "   total_bill   tip     sex smoker  day    time  size  tip_percentage  \\\n",
       "0       16.99  1.01  Female     No  Sun  Dinner     2        0.059447   \n",
       "1       10.34  1.66    Male     No  Sun  Dinner     3        0.160542   \n",
       "2       21.01  3.50    Male     No  Sun  Dinner     3        0.166587   \n",
       "3       23.68  3.31    Male     No  Sun  Dinner     2        0.139780   \n",
       "4       24.59  3.61  Female     No  Sun  Dinner     4        0.146808   \n",
       "\n",
       "   price_per_person  \n",
       "0          8.495000  \n",
       "1          3.446667  \n",
       "2          7.003333  \n",
       "3         11.840000  \n",
       "4          6.147500  "
      ]
     },
     "execution_count": 4,
     "metadata": {},
     "output_type": "execute_result"
    }
   ],
   "source": [
    "# dividing total_bill by size and storing as new column, price_per_person\n",
    "df['price_per_person'] = df['total_bill'] / df['size']\n",
    "\n",
    "df.head()"
   ]
  },
  {
   "cell_type": "markdown",
   "metadata": {},
   "source": [
    "### Before using any of the methods discussed in the lesson, which features do you think would be most important for predicting the tip amount? The tip percentage?"
   ]
  },
  {
   "cell_type": "code",
   "execution_count": 26,
   "metadata": {},
   "outputs": [
    {
     "name": "stdout",
     "output_type": "stream",
     "text": [
      "Tip percentage may be the best feature for predicting tip amount because it can be used to calculate the exact tip based on the total.\n",
      "Outside of tip percentage, I think size may have a strong correlation since people tend to tip more as the size of their party grows.\n"
     ]
    }
   ],
   "source": [
    "print('Tip percentage may be the best feature for predicting tip amount because it can be used to calculate the exact tip based on the total.')\n",
    "print('Outside of tip percentage, I think size may have a strong correlation since people tend to tip more as the size of their party grows.')"
   ]
  },
  {
   "cell_type": "markdown",
   "metadata": {},
   "source": [
    "### Use all the other numeric features to predict tip amount. Use select k best and recursive feature elimination to select the top 2 features. What are they?"
   ]
  },
  {
   "cell_type": "markdown",
   "metadata": {},
   "source": [
    "#### Using k best to find top 2 features for predicting tip amount"
   ]
  },
  {
   "cell_type": "code",
   "execution_count": 46,
   "metadata": {},
   "outputs": [
    {
     "name": "stdout",
     "output_type": "stream",
     "text": [
      "2 k best selected features for predicting tip amount\n",
      "['total_bill', 'size']\n"
     ]
    }
   ],
   "source": [
    "# creating feature selector object\n",
    "# specifying to use f-regression as test for determining feature correlation to target variable\n",
    "# k = 2 means we only want the top 2 features at output\n",
    "f_selector_for_tip = SelectKBest(f_regression, k=2)\n",
    "\n",
    "# setting x to feature columns\n",
    "# setting y to target variable\n",
    "x = df[['total_bill', 'size', 'tip_percentage', 'price_per_person']]\n",
    "y = df[['tip']]\n",
    "\n",
    "# fitting selector to data\n",
    "f_selector_for_tip.fit(x, y)\n",
    "\n",
    "# storing array of boolean values that reflect true if a feature was one of the two selected\n",
    "# false otherwise\n",
    "f_support = f_selector_for_tip.get_support()\n",
    "\n",
    "# creating list of the top 2 features using boolean mask\n",
    "f_feature = x.loc[:,f_support].columns.tolist()\n",
    "\n",
    "# printing results\n",
    "print(str(len(f_feature)), 'k best selected features for predicting tip amount')\n",
    "print(f_feature)"
   ]
  },
  {
   "cell_type": "markdown",
   "metadata": {},
   "source": [
    "#### Using recursive feature elimination to find top 2 features for predicting tip amount"
   ]
  },
  {
   "cell_type": "code",
   "execution_count": 45,
   "metadata": {},
   "outputs": [
    {
     "name": "stdout",
     "output_type": "stream",
     "text": [
      "2 RFE selected features for predicting tip amount\n",
      "['total_bill', 'tip_percentage']\n"
     ]
    }
   ],
   "source": [
    "# setting x to feature columns\n",
    "# setting y to target variable\n",
    "x = df[['total_bill', 'size', 'tip_percentage', 'price_per_person']]\n",
    "y = df[['tip']]\n",
    "\n",
    "# creating linear regression object\n",
    "lm = LinearRegression()\n",
    "\n",
    "# creating RFE object\n",
    "# specifying to use our linear regression object and only pick top 2 features\n",
    "rfe = RFE(lm, 2)\n",
    "\n",
    "# transforming data using rfe object\n",
    "x_rfe = rfe.fit_transform(x, y)\n",
    "\n",
    "# fitting our linear regression model to data\n",
    "lm.fit(x, y)\n",
    "\n",
    "# storing array of boolean values that reflect true if a feature was one of the two selected\n",
    "# false otherwise\n",
    "mask = rfe.support_\n",
    "\n",
    "# creating list of the top 2 features using boolean mask\n",
    "rfe_features = x.loc[:,mask].columns.tolist()\n",
    "\n",
    "# displaying results\n",
    "print(str(len(rfe_features)), 'RFE selected features for predicting tip amount')\n",
    "print(rfe_features)"
   ]
  },
  {
   "cell_type": "markdown",
   "metadata": {},
   "source": [
    "### Use all the other numeric features to predict tip percentage. Use select k best and recursive feature elimination to select the top 2 features. What are they?"
   ]
  },
  {
   "cell_type": "markdown",
   "metadata": {},
   "source": [
    "#### Using k best to find top 2 features for predicting tip_percentage"
   ]
  },
  {
   "cell_type": "code",
   "execution_count": 47,
   "metadata": {},
   "outputs": [
    {
     "name": "stdout",
     "output_type": "stream",
     "text": [
      "2 k best selected features for predicting tip percentage\n",
      "['total_bill', 'tip']\n"
     ]
    }
   ],
   "source": [
    "# creating feature selector object\n",
    "# specifying to use f-regression as test for determining feature correlation to target variable\n",
    "# k = 2 means we only want the top 2 features at output\n",
    "f_selector_for_tip_percentage = SelectKBest(f_regression, k=2)\n",
    "\n",
    "# setting x to feature columns\n",
    "# setting y to target variable\n",
    "x = df[['total_bill', 'size', 'tip', 'price_per_person']]\n",
    "y = df[['tip_percentage']]\n",
    "\n",
    "# fitting selector to data\n",
    "f_selector_for_tip_percentage.fit(x, y)\n",
    "\n",
    "# storing array of boolean values that reflect true if a feature was one of the two selected\n",
    "# false otherwise\n",
    "f_support = f_selector_for_tip_percentage.get_support()\n",
    "\n",
    "# creating list of the top 2 features using boolean mask\n",
    "f_feature = x.loc[:,f_support].columns.tolist()\n",
    "\n",
    "# printing results\n",
    "print(str(len(f_feature)), 'k best selected features for predicting tip percentage')\n",
    "print(f_feature)"
   ]
  },
  {
   "cell_type": "markdown",
   "metadata": {},
   "source": [
    "#### Using recursive feature elimination to find top 2 features for predicting tip percentage"
   ]
  },
  {
   "cell_type": "code",
   "execution_count": 5,
   "metadata": {},
   "outputs": [
    {
     "name": "stdout",
     "output_type": "stream",
     "text": [
      "2 RFE selected features for predicting tip percentage\n",
      "['size', 'tip']\n"
     ]
    }
   ],
   "source": [
    "# setting x to feature columns\n",
    "# setting y to target variable\n",
    "x = df[['total_bill', 'size', 'tip', 'price_per_person']]\n",
    "y = df[['tip_percentage']]\n",
    "\n",
    "# creating linear regression object\n",
    "lm = LinearRegression()\n",
    "\n",
    "# creating RFE object\n",
    "# specifying to use our linear regression object and only pick top 2 features\n",
    "rfe = RFE(lm, 2)\n",
    "\n",
    "# transforming data using rfe object\n",
    "x_rfe = rfe.fit_transform(x, y)\n",
    "\n",
    "# fitting our linear regression model to data\n",
    "lm.fit(x, y)\n",
    "\n",
    "# storing array of boolean values that reflect true if a feature was one of the two selected\n",
    "# false otherwise\n",
    "mask = rfe.support_\n",
    "\n",
    "# creating list of the top 2 features using boolean mask\n",
    "rfe_features = x.loc[:,mask].columns.tolist()\n",
    "\n",
    "# displaying results\n",
    "print(str(len(rfe_features)), 'RFE selected features for predicting tip percentage')\n",
    "print(rfe_features)"
   ]
  },
  {
   "cell_type": "markdown",
   "metadata": {},
   "source": [
    "#### Why do you think select k best and recursive feature elimination might give different answers for the top features? "
   ]
  },
  {
   "cell_type": "markdown",
   "metadata": {},
   "source": [
    "They give different answers because their methods for determining best features are fairly different.\n",
    "\n",
    "K best calculates a specified test statistic (such as chi square or F-regression) for each provided, non-target variable. It then selects the two variables with the highest correlation to the target. If any of the variables it selects have a high correlation with each other, it only selects one.\n",
    "\n",
    "RFE instead builds models using different combinations of provided non-target variables and ranks them based on their output. In effect, because its actually making models and judging their outputs as it means of feature selecting, it tends to be more accurate."
   ]
  },
  {
   "cell_type": "markdown",
   "metadata": {},
   "source": [
    "### Does this change as you change the number of features your are selecting?"
   ]
  },
  {
   "cell_type": "markdown",
   "metadata": {},
   "source": [
    "#### Using k best to find top 3 features for predicting tip amount"
   ]
  },
  {
   "cell_type": "code",
   "execution_count": 15,
   "metadata": {},
   "outputs": [
    {
     "name": "stdout",
     "output_type": "stream",
     "text": [
      "3 k best selected features for predicting tip amount\n",
      "['total_bill', 'size', 'price_per_person']\n"
     ]
    }
   ],
   "source": [
    "# creating feature selector object\n",
    "# specifying to use f-regression as test for determining feature correlation to target variable\n",
    "# k = 3 means we only want the top 3 features at output\n",
    "f_selector_for_tip = SelectKBest(f_regression, k = 3)\n",
    "\n",
    "# setting x to feature columns\n",
    "# setting y to target variable\n",
    "x = df[['total_bill', 'size', 'tip_percentage', 'price_per_person']]\n",
    "y = df[['tip']]\n",
    "\n",
    "# fitting selector to data\n",
    "f_selector_for_tip.fit(x, y)\n",
    "\n",
    "# storing array of boolean values that reflect true if a feature was one of the three selected\n",
    "# false otherwise\n",
    "f_support = f_selector_for_tip.get_support()\n",
    "\n",
    "# creating list of the top 3 features using boolean mask\n",
    "f_feature = x.loc[:,f_support].columns.tolist()\n",
    "\n",
    "# printing results\n",
    "print(str(len(f_feature)), 'k best selected features for predicting tip amount')\n",
    "print(f_feature)"
   ]
  },
  {
   "cell_type": "markdown",
   "metadata": {},
   "source": [
    "#### Using recursive feature elimination to find top 3 features for predicting tip amount"
   ]
  },
  {
   "cell_type": "code",
   "execution_count": 17,
   "metadata": {},
   "outputs": [
    {
     "name": "stdout",
     "output_type": "stream",
     "text": [
      "3 RFE selected features for predicting tip amount\n",
      "['total_bill', 'size', 'tip_percentage']\n"
     ]
    }
   ],
   "source": [
    "# setting x to feature columns\n",
    "# setting y to target variable\n",
    "x = df[['total_bill', 'size', 'tip_percentage', 'price_per_person']]\n",
    "y = df[['tip']]\n",
    "\n",
    "# creating linear regression object\n",
    "lm = LinearRegression()\n",
    "\n",
    "# creating RFE object\n",
    "# specifying to use our linear regression object and only pick top 3 features\n",
    "rfe = RFE(lm, 3)\n",
    "\n",
    "# transforming data using rfe object\n",
    "x_rfe = rfe.fit_transform(x, y)\n",
    "\n",
    "# fitting our linear regression model to data\n",
    "lm.fit(x, y)\n",
    "\n",
    "# storing array of boolean values that reflect true if a feature was one of the three selected\n",
    "# false otherwise\n",
    "mask = rfe.support_\n",
    "\n",
    "# creating list of the top 3 features using boolean mask\n",
    "rfe_features = x.loc[:,mask].columns.tolist()\n",
    "\n",
    "# display results\n",
    "print(str(len(rfe_features)), 'RFE selected features for predicting tip amount')\n",
    "print(rfe_features)"
   ]
  },
  {
   "cell_type": "markdown",
   "metadata": {},
   "source": [
    "#### Using k best to find top 3 features for predicting tip_percentage"
   ]
  },
  {
   "cell_type": "code",
   "execution_count": 48,
   "metadata": {},
   "outputs": [
    {
     "name": "stdout",
     "output_type": "stream",
     "text": [
      "3 k best selected features for predicting tip percentage\n",
      "['total_bill', 'tip', 'price_per_person']\n"
     ]
    }
   ],
   "source": [
    "# creating feature selector object\n",
    "# specifying to use f-regression as test for determining feature correlation to target variable\n",
    "# k = 3 means we only want the top 3 features at output\n",
    "f_selector_for_tip_percentage = SelectKBest(f_regression, k=3)\n",
    "\n",
    "# setting x to feature columns\n",
    "# setting y to target variable\n",
    "x = df[['total_bill', 'size', 'tip', 'price_per_person']]\n",
    "y = df[['tip_percentage']]\n",
    "\n",
    "# fitting selector to data\n",
    "f_selector_for_tip_percentage.fit(x, y)\n",
    "\n",
    "# storing array of boolean values that reflect true if a feature was one of the three selected\n",
    "# false otherwise\n",
    "f_support = f_selector_for_tip_percentage.get_support()\n",
    "\n",
    "# creating list of the top 3 features using boolean mask\n",
    "f_feature = x.loc[:,f_support].columns.tolist()\n",
    "\n",
    "# displaying results\n",
    "print(str(len(f_feature)), 'k best selected features for predicting tip percentage')\n",
    "print(f_feature)"
   ]
  },
  {
   "cell_type": "markdown",
   "metadata": {},
   "source": [
    "#### Using recursive feature elimination to find top 3 features for predicting tip percentage"
   ]
  },
  {
   "cell_type": "code",
   "execution_count": 20,
   "metadata": {},
   "outputs": [
    {
     "name": "stdout",
     "output_type": "stream",
     "text": [
      "3 RFE selected features for predicting tip percentage\n",
      "['size', 'tip', 'price_per_person']\n"
     ]
    }
   ],
   "source": [
    "# setting x to feature columns\n",
    "# setting y to target variable\n",
    "x = df[['total_bill', 'size', 'tip', 'price_per_person']]\n",
    "y = df[['tip_percentage']]\n",
    "\n",
    "# creating linear regression object\n",
    "lm = LinearRegression()\n",
    "\n",
    "# creating RFE object\n",
    "# specifying to use our linear regression object and only pick top 3 features\n",
    "rfe = RFE(lm, 3)\n",
    "\n",
    "# transforming data using rfe object\n",
    "x_rfe = rfe.fit_transform(x, y)\n",
    "\n",
    "# fitting our linear regression model to data\n",
    "lm.fit(x, y)\n",
    "\n",
    "# storing array of boolean values that reflect true if a feature was one of the three selected\n",
    "# false otherwise\n",
    "mask = rfe.support_\n",
    "\n",
    "# creating list of the top 3 features using boolean mask\n",
    "rfe_features = x.loc[:,mask].columns.tolist()\n",
    "\n",
    "# display results\n",
    "print(str(len(rfe_features)), 'RFE selected features for predicting tip percentage')\n",
    "print(rfe_features)"
   ]
  },
  {
   "cell_type": "markdown",
   "metadata": {},
   "source": [
    " <font size=\"4\">  Answer: No, after changing the amount of features selected to 3 for both methods and targeted variable, K Best and RFE still chose different feature sets.</font>"
   ]
  },
  {
   "cell_type": "markdown",
   "metadata": {},
   "source": [
    "### Write a function named select_kbest that takes in the predictors (X), the target (y), and the number of features to select (k) and returns the names of the top k selected features based on the SelectKBest class. Test your function with the tips dataset. You should see the same results as when you did the process manually."
   ]
  },
  {
   "cell_type": "code",
   "execution_count": 50,
   "metadata": {},
   "outputs": [],
   "source": [
    "# creating function with 3 parameters\n",
    "def select_kbest(x, y, kf):\n",
    "    \n",
    "    # creating feature selector object\n",
    "    # specifying to use f-regression as test for determining feature correlation to target variable\n",
    "    # number of features to select as best features will be specified by user (kf)\n",
    "    f_selector = SelectKBest(f_regression, k = kf)\n",
    "    \n",
    "    # fitting selector to x and y provided by user\n",
    "    f_selector.fit(x, y)\n",
    "\n",
    "    # storing array of boolean values that reflect true if a feature was one of the three selected and false otherwise\n",
    "    f_support = f_selector.get_support()\n",
    "\n",
    "    # creating list of features using boolean mask equal to k specified by user\n",
    "    f_feature = x.loc[:,f_support].columns.tolist()\n",
    "    \n",
    "    # returning feature names\n",
    "    return f_feature"
   ]
  },
  {
   "cell_type": "code",
   "execution_count": 51,
   "metadata": {},
   "outputs": [
    {
     "data": {
      "text/plain": [
       "['total_bill', 'size']"
      ]
     },
     "execution_count": 51,
     "metadata": {},
     "output_type": "execute_result"
    }
   ],
   "source": [
    "# testing function to see if results are same as before\n",
    "x = df[['total_bill', 'size', 'tip_percentage', 'price_per_person']]\n",
    "y = df[['tip']]\n",
    "\n",
    "select_kbest(x,y,2)"
   ]
  },
  {
   "cell_type": "code",
   "execution_count": 52,
   "metadata": {},
   "outputs": [
    {
     "data": {
      "text/plain": [
       "['total_bill', 'tip']"
      ]
     },
     "execution_count": 52,
     "metadata": {},
     "output_type": "execute_result"
    }
   ],
   "source": [
    "# testing function to see if results are same as before\n",
    "x = df[['total_bill', 'size', 'tip', 'price_per_person']]\n",
    "y = df[['tip_percentage']]\n",
    "\n",
    "select_kbest(x,y,2)"
   ]
  },
  {
   "cell_type": "markdown",
   "metadata": {},
   "source": [
    " <font size=\"4\"> Answer: Function works and produces the same features as its manual counterpart.</font>"
   ]
  },
  {
   "cell_type": "markdown",
   "metadata": {},
   "source": [
    "### Write a function named rfe that takes in the predictors, the target, and the number of features to select. It should return the top k features based on the RFE class. Test your function with the tips dataset. You should see the same results as when you did the process manually."
   ]
  },
  {
   "cell_type": "code",
   "execution_count": 54,
   "metadata": {},
   "outputs": [],
   "source": [
    "# creating function with 3 parameters\n",
    "def rfe(x, y, kf):\n",
    "    \n",
    "    # creating linear regression object\n",
    "    lm = LinearRegression()\n",
    "    \n",
    "    # creating rfe object that use linear regression object and chooses number of features based on user choice (kf)\n",
    "    rfe = RFE(lm, kf)\n",
    "    \n",
    "    # fitting rfe object to provided data\n",
    "    x_rfe = rfe.fit_transform(x, y)\n",
    "    \n",
    "    # fitting linear regression object to data provided\n",
    "    lm.fit(x, y)\n",
    "    \n",
    "    # creating boolean mask that holds true for any features deemed as the best (number chosen depends on user input)\n",
    "    mask = rfe.support_\n",
    "    \n",
    "    # storing best feature names as list\n",
    "    rfe_features = x.loc[:,mask].columns.tolist()\n",
    "    \n",
    "    # return list of best features\n",
    "    return rfe_features"
   ]
  },
  {
   "cell_type": "code",
   "execution_count": 55,
   "metadata": {},
   "outputs": [
    {
     "data": {
      "text/plain": [
       "['total_bill', 'tip_percentage']"
      ]
     },
     "execution_count": 55,
     "metadata": {},
     "output_type": "execute_result"
    }
   ],
   "source": [
    "# testing function to confirm its results match the previous ones\n",
    "x = df[['total_bill', 'size', 'tip_percentage', 'price_per_person']]\n",
    "y = df[['tip']]\n",
    "\n",
    "rfe(x, y, 2)"
   ]
  },
  {
   "cell_type": "code",
   "execution_count": 56,
   "metadata": {},
   "outputs": [
    {
     "data": {
      "text/plain": [
       "['size', 'tip']"
      ]
     },
     "execution_count": 56,
     "metadata": {},
     "output_type": "execute_result"
    }
   ],
   "source": [
    "# testing function to confirm its results match the previous ones\n",
    "x = df[['total_bill', 'size', 'tip', 'price_per_person']]\n",
    "y = df[['tip_percentage']]\n",
    "\n",
    "rfe(x, y, 2)"
   ]
  },
  {
   "cell_type": "markdown",
   "metadata": {},
   "source": [
    " <font size=\"4\"> Answer: Function works and produces the same features as its manual counterpart. </font>"
   ]
  },
  {
   "cell_type": "markdown",
   "metadata": {},
   "source": [
    "### Load the swiss dataset and use all the other features to predict Fertility. "
   ]
  },
  {
   "cell_type": "code",
   "execution_count": 12,
   "metadata": {},
   "outputs": [
    {
     "data": {
      "text/html": [
       "<div>\n",
       "<style scoped>\n",
       "    .dataframe tbody tr th:only-of-type {\n",
       "        vertical-align: middle;\n",
       "    }\n",
       "\n",
       "    .dataframe tbody tr th {\n",
       "        vertical-align: top;\n",
       "    }\n",
       "\n",
       "    .dataframe thead th {\n",
       "        text-align: right;\n",
       "    }\n",
       "</style>\n",
       "<table border=\"1\" class=\"dataframe\">\n",
       "  <thead>\n",
       "    <tr style=\"text-align: right;\">\n",
       "      <th></th>\n",
       "      <th>Fertility</th>\n",
       "      <th>Agriculture</th>\n",
       "      <th>Examination</th>\n",
       "      <th>Education</th>\n",
       "      <th>Catholic</th>\n",
       "      <th>Infant.Mortality</th>\n",
       "    </tr>\n",
       "  </thead>\n",
       "  <tbody>\n",
       "    <tr>\n",
       "      <th>Courtelary</th>\n",
       "      <td>80.2</td>\n",
       "      <td>17.0</td>\n",
       "      <td>15</td>\n",
       "      <td>12</td>\n",
       "      <td>9.96</td>\n",
       "      <td>22.2</td>\n",
       "    </tr>\n",
       "    <tr>\n",
       "      <th>Delemont</th>\n",
       "      <td>83.1</td>\n",
       "      <td>45.1</td>\n",
       "      <td>6</td>\n",
       "      <td>9</td>\n",
       "      <td>84.84</td>\n",
       "      <td>22.2</td>\n",
       "    </tr>\n",
       "    <tr>\n",
       "      <th>Franches-Mnt</th>\n",
       "      <td>92.5</td>\n",
       "      <td>39.7</td>\n",
       "      <td>5</td>\n",
       "      <td>5</td>\n",
       "      <td>93.40</td>\n",
       "      <td>20.2</td>\n",
       "    </tr>\n",
       "    <tr>\n",
       "      <th>Moutier</th>\n",
       "      <td>85.8</td>\n",
       "      <td>36.5</td>\n",
       "      <td>12</td>\n",
       "      <td>7</td>\n",
       "      <td>33.77</td>\n",
       "      <td>20.3</td>\n",
       "    </tr>\n",
       "    <tr>\n",
       "      <th>Neuveville</th>\n",
       "      <td>76.9</td>\n",
       "      <td>43.5</td>\n",
       "      <td>17</td>\n",
       "      <td>15</td>\n",
       "      <td>5.16</td>\n",
       "      <td>20.6</td>\n",
       "    </tr>\n",
       "  </tbody>\n",
       "</table>\n",
       "</div>"
      ],
      "text/plain": [
       "              Fertility  Agriculture  Examination  Education  Catholic  \\\n",
       "Courtelary         80.2         17.0           15         12      9.96   \n",
       "Delemont           83.1         45.1            6          9     84.84   \n",
       "Franches-Mnt       92.5         39.7            5          5     93.40   \n",
       "Moutier            85.8         36.5           12          7     33.77   \n",
       "Neuveville         76.9         43.5           17         15      5.16   \n",
       "\n",
       "              Infant.Mortality  \n",
       "Courtelary                22.2  \n",
       "Delemont                  22.2  \n",
       "Franches-Mnt              20.2  \n",
       "Moutier                   20.3  \n",
       "Neuveville                20.6  "
      ]
     },
     "execution_count": 12,
     "metadata": {},
     "output_type": "execute_result"
    }
   ],
   "source": [
    "# acquiring data\n",
    "swiss = data('swiss')\n",
    "\n",
    "swiss.head()"
   ]
  },
  {
   "cell_type": "markdown",
   "metadata": {},
   "source": [
    "### Find the top 3 features using select k best."
   ]
  },
  {
   "cell_type": "code",
   "execution_count": 59,
   "metadata": {},
   "outputs": [
    {
     "name": "stdout",
     "output_type": "stream",
     "text": [
      "The 3 best features for modeling selected by kbest are ['Examination', 'Education', 'Catholic'].\n"
     ]
    }
   ],
   "source": [
    "# setting x as features\n",
    "# setting y as target variable\n",
    "x = swiss.drop(columns = 'Fertility')\n",
    "y = swiss['Fertility']\n",
    "\n",
    "# using function from previous question \n",
    "# passing x and y\n",
    "# specifying to find top 3 features\n",
    "kbest_fertility = select_kbest(x, y, 3)\n",
    "\n",
    "# displaying results\n",
    "print(f'The 3 best features for modeling selected by kbest are {kbest_fertility}.')"
   ]
  },
  {
   "cell_type": "markdown",
   "metadata": {},
   "source": [
    "### Find the top 3 features using recursive feature elimination."
   ]
  },
  {
   "cell_type": "code",
   "execution_count": 60,
   "metadata": {},
   "outputs": [
    {
     "name": "stdout",
     "output_type": "stream",
     "text": [
      "The 3 best features for modeling selected by RFE are ['Examination', 'Education', 'Infant.Mortality'].\n"
     ]
    }
   ],
   "source": [
    "# setting x as features\n",
    "# setting y as target variable\n",
    "x = swiss.drop(columns = 'Fertility')\n",
    "y = swiss['Fertility']\n",
    "\n",
    "# using function from previous question \n",
    "# passing x and y\n",
    "# specifying to find top 3 features\n",
    "rfe_fertility = rfe(x, y, 3)\n",
    "\n",
    "# displaying results\n",
    "print(f'The 3 best features for modeling selected by RFE are {rfe_fertility}.')"
   ]
  },
  {
   "cell_type": "code",
   "execution_count": null,
   "metadata": {},
   "outputs": [],
   "source": []
  }
 ],
 "metadata": {
  "kernelspec": {
   "display_name": "Python 3",
   "language": "python",
   "name": "python3"
  },
  "language_info": {
   "codemirror_mode": {
    "name": "ipython",
    "version": 3
   },
   "file_extension": ".py",
   "mimetype": "text/x-python",
   "name": "python",
   "nbconvert_exporter": "python",
   "pygments_lexer": "ipython3",
   "version": "3.7.6"
  }
 },
 "nbformat": 4,
 "nbformat_minor": 4
}
