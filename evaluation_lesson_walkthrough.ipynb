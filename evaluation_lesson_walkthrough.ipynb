{
 "cells": [
  {
   "cell_type": "markdown",
   "metadata": {},
   "source": [
    "## Evaluating Regression Models"
   ]
  },
  {
   "cell_type": "markdown",
   "metadata": {},
   "source": [
    "### What\n",
    "- Since models are approximations of reality, we're measuring how closely our linear models approximate reality.\n",
    "- With evaluating regression models, we'll calculate this closeness by measuring the error, which is the distance between the regression line (prediction) and actual data points.\n",
    "\n",
    "### Why\n",
    "\n",
    "Techniques in this lesson answer the following questions:\n",
    "- How do we know if our model is good enough?\n",
    "- How do we evaluate our model?\n",
    "- Is our model valuable?\n",
    "- Are our features valuable?\n",
    "\n",
    "### How - what is our approach?\n",
    "Prerequisites\n",
    "- Establish a baseline (often the average of the target)\n",
    "- Build a super simple model (or isolate the model we're evaluating)\n",
    "- Calculate baseline and model residuals\n",
    "\n",
    "Evaluate the model\n",
    "- Calculate SSE, MSE, and RMSE (Root Mean Squared Error)\n",
    "- Determine if the model is significant\n",
    "- Determine if the features are significant\n",
    "\n",
    "### When do we evaluate a model?\n",
    "- As soon as we've got a super basic model, it's important to know if it beats baseline.\n",
    "- If so, we'll keep on modeling, making new models, tuning, etc...\n",
    "- If not, maybe a different model or different feature(s) will help."
   ]
  },
  {
   "cell_type": "code",
   "execution_count": null,
   "metadata": {},
   "outputs": [],
   "source": []
  }
 ],
 "metadata": {
  "kernelspec": {
   "display_name": "Python 3",
   "language": "python",
   "name": "python3"
  },
  "language_info": {
   "codemirror_mode": {
    "name": "ipython",
    "version": 3
   },
   "file_extension": ".py",
   "mimetype": "text/x-python",
   "name": "python",
   "nbconvert_exporter": "python",
   "pygments_lexer": "ipython3",
   "version": "3.7.6"
  }
 },
 "nbformat": 4,
 "nbformat_minor": 4
}
