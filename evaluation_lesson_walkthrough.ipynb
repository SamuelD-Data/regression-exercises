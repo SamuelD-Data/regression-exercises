{
 "cells": [
  {
   "cell_type": "markdown",
   "metadata": {},
   "source": [
    "## Evaluating Regression Models"
   ]
  },
  {
   "cell_type": "markdown",
   "metadata": {},
   "source": [
    "### What\n",
    "- Since models are approximations of reality, we're measuring how closely our linear models approximate reality.\n",
    "- With evaluating regression models, we'll calculate this closeness by measuring the error, which is the distance between the regression line (prediction) and actual data points.\n",
    "\n",
    "### Why\n",
    "\n",
    "Techniques in this lesson answer the following questions:\n",
    "- How do we know if our model is good enough?\n",
    "- How do we evaluate our model?\n",
    "- Is our model valuable?\n",
    "- Are our features valuable?\n",
    "\n",
    "### How - what is our approach?\n",
    "Prerequisites\n",
    "- Establish a baseline (often the average of the target)\n",
    "- Build a super simple model (or isolate the model we're evaluating)\n",
    "- Calculate baseline and model residuals\n",
    "\n",
    "Evaluate the model\n",
    "- Calculate SSE, MSE, and RMSE (Root Mean Squared Error)\n",
    "- Determine if the model is significant\n",
    "- Determine if the features are significant\n",
    "\n",
    "### When do we evaluate a model?\n",
    "- As soon as we've got a super basic model, it's important to know if it beats baseline.\n",
    "- If so, we'll keep on modeling, making new models, tuning, etc...\n",
    "- If not, maybe a different model or different feature(s) will help."
   ]
  },
  {
   "cell_type": "markdown",
   "metadata": {},
   "source": [
    "### Vocabulary\n",
    "- Baseline is often the mean, but could also be the median or \"last year's\" model, in practice.\n",
    "- Line of best fit = regression line == linear model that best fits the data points.\n",
    "- Residuals: for each data point, the vertical distance between each predicted $\\hat{y}$ and actual $y$ values.. - This is $\\hat{y} - y$\n",
    "- Linear model = a line that best approximates reality.\n",
    "- $y = mx + b$ is a linear model\n",
    "- SSE = sum of squared errors\n",
    "- MSE = mean squared error\n",
    "- RMSE = root mean squared error = sqrt(MSE)\n",
    "- Taking the square root means we get same units as y"
   ]
  },
  {
   "cell_type": "code",
   "execution_count": 2,
   "metadata": {},
   "outputs": [],
   "source": [
    "# imports \n",
    "import warnings\n",
    "warnings.filterwarnings(\"ignore\")\n",
    "\n",
    "import pandas as pd\n",
    "import matplotlib.pyplot as plt\n",
    "import seaborn as sns\n",
    "import numpy as np\n",
    "from pydataset import data\n",
    "\n",
    "from statsmodels.formula.api import ols"
   ]
  },
  {
   "cell_type": "code",
   "execution_count": 3,
   "metadata": {},
   "outputs": [
    {
     "data": {
      "text/html": [
       "<div>\n",
       "<style scoped>\n",
       "    .dataframe tbody tr th:only-of-type {\n",
       "        vertical-align: middle;\n",
       "    }\n",
       "\n",
       "    .dataframe tbody tr th {\n",
       "        vertical-align: top;\n",
       "    }\n",
       "\n",
       "    .dataframe thead th {\n",
       "        text-align: right;\n",
       "    }\n",
       "</style>\n",
       "<table border=\"1\" class=\"dataframe\">\n",
       "  <thead>\n",
       "    <tr style=\"text-align: right;\">\n",
       "      <th></th>\n",
       "      <th>temperature</th>\n",
       "      <th>rainfall</th>\n",
       "      <th>flyers</th>\n",
       "      <th>sales</th>\n",
       "      <th>log_rainfall</th>\n",
       "    </tr>\n",
       "  </thead>\n",
       "  <tbody>\n",
       "    <tr>\n",
       "      <th>0</th>\n",
       "      <td>27.0</td>\n",
       "      <td>2.00</td>\n",
       "      <td>15</td>\n",
       "      <td>10</td>\n",
       "      <td>0.693147</td>\n",
       "    </tr>\n",
       "    <tr>\n",
       "      <th>1</th>\n",
       "      <td>28.9</td>\n",
       "      <td>1.33</td>\n",
       "      <td>15</td>\n",
       "      <td>13</td>\n",
       "      <td>0.285179</td>\n",
       "    </tr>\n",
       "    <tr>\n",
       "      <th>2</th>\n",
       "      <td>34.5</td>\n",
       "      <td>1.33</td>\n",
       "      <td>27</td>\n",
       "      <td>15</td>\n",
       "      <td>0.285179</td>\n",
       "    </tr>\n",
       "    <tr>\n",
       "      <th>3</th>\n",
       "      <td>44.1</td>\n",
       "      <td>1.05</td>\n",
       "      <td>28</td>\n",
       "      <td>17</td>\n",
       "      <td>0.048790</td>\n",
       "    </tr>\n",
       "    <tr>\n",
       "      <th>4</th>\n",
       "      <td>42.4</td>\n",
       "      <td>1.00</td>\n",
       "      <td>33</td>\n",
       "      <td>18</td>\n",
       "      <td>0.000000</td>\n",
       "    </tr>\n",
       "  </tbody>\n",
       "</table>\n",
       "</div>"
      ],
      "text/plain": [
       "   temperature  rainfall  flyers  sales  log_rainfall\n",
       "0         27.0      2.00      15     10      0.693147\n",
       "1         28.9      1.33      15     13      0.285179\n",
       "2         34.5      1.33      27     15      0.285179\n",
       "3         44.1      1.05      28     17      0.048790\n",
       "4         42.4      1.00      33     18      0.000000"
      ]
     },
     "execution_count": 3,
     "metadata": {},
     "output_type": "execute_result"
    }
   ],
   "source": [
    "# acquiring sales data from url\n",
    "df = pd.read_csv(\"https://gist.githubusercontent.com/ryanorsinger/9867c96ddb56626e9aac94d8e92dabdf/raw/45f9a36a8871ac0e24317704ed0072c9dded1327/lemonade_regression.csv\")\n",
    "\n",
    "# creating new column that holds log rainfall value\n",
    "df[\"log_rainfall\"] = np.log(df.rainfall)\n",
    "\n",
    "df.head()"
   ]
  },
  {
   "cell_type": "code",
   "execution_count": 4,
   "metadata": {},
   "outputs": [
    {
     "data": {
      "image/png": "[encoded data removed]",
      "text/plain": [
       "<Figure size 432x288 with 1 Axes>"
      ]
     },
     "metadata": {
      "needs_background": "light"
     },
     "output_type": "display_data"
    }
   ],
   "source": [
    "# creating regplot of flyers vs. sales including line of best fit aka regression line\n",
    "plt.suptitle(\"Adding a Line of Best Fit\")\n",
    "plt.title(\"Plotting Flyers vs. Sales\")\n",
    "\n",
    "sns.regplot(x=\"flyers\", y=\"sales\", data=df)\n",
    "plt.show()"
   ]
  },
  {
   "cell_type": "markdown",
   "metadata": {},
   "source": [
    "### Okay, so .regplot can add a line of best fit\n",
    "- But is this model any good?\n",
    "- Is it better than a baseline?\n",
    "- How do we get a baseline?\n",
    "- And is this this model significant?\n",
    "- What does it mean that the points are spread out from the line?\n",
    "- What does it mean if they're close to the line?"
   ]
  },
  {
   "cell_type": "markdown",
   "metadata": {},
   "source": [
    "### The Evaluation Playbook is here to help!\n",
    "Prerequisites:\n",
    "- Establish a baseline\n",
    "- Produce a super simple model\n",
    "- Calculate the model and baseline residuals\n",
    "\n",
    "Evaluation:\n",
    "- Calculate evaluation metrics from residuals\n",
    "- Determine if the model is significant\n",
    "- Determine if the features are significant (we'll do this later)"
   ]
  },
  {
   "cell_type": "code",
   "execution_count": 5,
   "metadata": {},
   "outputs": [
    {
     "data": {
      "text/plain": [
       "<matplotlib.axes._subplots.AxesSubplot at 0x7ff4e718ef50>"
      ]
     },
     "execution_count": 5,
     "metadata": {},
     "output_type": "execute_result"
    },
    {
     "data": {
      "image/png": "[encoded data removed]",
      "text/plain": [
       "<Figure size 432x288 with 1 Axes>"
      ]
     },
     "metadata": {
      "needs_background": "light"
     },
     "output_type": "display_data"
    }
   ],
   "source": [
    "# creating historgram of sales\n",
    "df.sales.hist()"
   ]
  },
  {
   "cell_type": "code",
   "execution_count": 6,
   "metadata": {},
   "outputs": [],
   "source": [
    "# Pre-requisite Part 1 - establish a baseline. \n",
    "# sales are normally distrbuted so we can use the mean as our baseline\n",
    "# if there were several outliers we may consider median since a median value is less \n",
    "# sensitive to outliers\n",
    "baseline = df.sales.mean()"
   ]
  },
  {
   "cell_type": "code",
   "execution_count": 7,
   "metadata": {},
   "outputs": [],
   "source": [
    "# Pre-requisite Part 2 - build simple linear model\n",
    "\n",
    "# importing ordinary least squares\n",
    "from statsmodels.formula.api import ols\n",
    "\n",
    "# creating ols model and fitting to sales and flyers data\n",
    "model = ols('sales ~ flyers', df).fit()"
   ]
  },
  {
   "cell_type": "code",
   "execution_count": 9,
   "metadata": {},
   "outputs": [
    {
     "data": {
      "text/html": [
       "<div>\n",
       "<style scoped>\n",
       "    .dataframe tbody tr th:only-of-type {\n",
       "        vertical-align: middle;\n",
       "    }\n",
       "\n",
       "    .dataframe tbody tr th {\n",
       "        vertical-align: top;\n",
       "    }\n",
       "\n",
       "    .dataframe thead th {\n",
       "        text-align: right;\n",
       "    }\n",
       "</style>\n",
       "<table border=\"1\" class=\"dataframe\">\n",
       "  <thead>\n",
       "    <tr style=\"text-align: right;\">\n",
       "      <th></th>\n",
       "      <th>x</th>\n",
       "      <th>y</th>\n",
       "      <th>baseline</th>\n",
       "      <th>yhat</th>\n",
       "      <th>baseline_residual</th>\n",
       "      <th>model_residual</th>\n",
       "    </tr>\n",
       "  </thead>\n",
       "  <tbody>\n",
       "    <tr>\n",
       "      <th>0</th>\n",
       "      <td>15</td>\n",
       "      <td>10</td>\n",
       "      <td>25.323288</td>\n",
       "      <td>14.673754</td>\n",
       "      <td>15.323288</td>\n",
       "      <td>4.673754</td>\n",
       "    </tr>\n",
       "    <tr>\n",
       "      <th>1</th>\n",
       "      <td>15</td>\n",
       "      <td>13</td>\n",
       "      <td>25.323288</td>\n",
       "      <td>14.673754</td>\n",
       "      <td>12.323288</td>\n",
       "      <td>1.673754</td>\n",
       "    </tr>\n",
       "    <tr>\n",
       "      <th>2</th>\n",
       "      <td>27</td>\n",
       "      <td>15</td>\n",
       "      <td>25.323288</td>\n",
       "      <td>19.727926</td>\n",
       "      <td>10.323288</td>\n",
       "      <td>4.727926</td>\n",
       "    </tr>\n",
       "    <tr>\n",
       "      <th>3</th>\n",
       "      <td>28</td>\n",
       "      <td>17</td>\n",
       "      <td>25.323288</td>\n",
       "      <td>20.149107</td>\n",
       "      <td>8.323288</td>\n",
       "      <td>3.149107</td>\n",
       "    </tr>\n",
       "  </tbody>\n",
       "</table>\n",
       "</div>"
      ],
      "text/plain": [
       "    x   y   baseline       yhat  baseline_residual  model_residual\n",
       "0  15  10  25.323288  14.673754          15.323288        4.673754\n",
       "1  15  13  25.323288  14.673754          12.323288        1.673754\n",
       "2  27  15  25.323288  19.727926          10.323288        4.727926\n",
       "3  28  17  25.323288  20.149107           8.323288        3.149107"
      ]
     },
     "execution_count": 9,
     "metadata": {},
     "output_type": "execute_result"
    }
   ],
   "source": [
    "# Pre-requisite Part 3 - Calculate residuals\n",
    "\n",
    "# creating empty df\n",
    "evaluate = pd.DataFrame()\n",
    "\n",
    "# feature = x = flyers\n",
    "evaluate[\"x\"] = df.flyers\n",
    "\n",
    "# target variable = y = sales\n",
    "evaluate[\"y\"] = df.sales\n",
    "\n",
    "# creating baseline column of mean sales value\n",
    "evaluate[\"baseline\"] = df.sales.mean()\n",
    "\n",
    "# creating yhat column that holds model predictions for sales\n",
    "evaluate[\"yhat\"] = model.predict()\n",
    "\n",
    "# creating new column to hold baseline residuals \n",
    "evaluate[\"baseline_residual\"] = evaluate.baseline - evaluate.y\n",
    "\n",
    "# creating new column to hold model residuals \n",
    "evaluate[\"model_residual\"] = evaluate.yhat - evaluate.y\n",
    "\n",
    "evaluate.head(4)"
   ]
  },
  {
   "cell_type": "markdown",
   "metadata": {},
   "source": [
    "### So how do we answer if the model beats the baseline\n",
    "- Our metric will be the sum of squared errors\n",
    "- We sum up the squares of every residual from baseline\n",
    "- We sum up the squares of every residual from model\n",
    "- Then we compare\n",
    "\n",
    "Here's the quick and easy arithmetic answer:\n",
    "- Square the baseline_residual to get the baseline_sse\n",
    "- Square the model_residual to get the model_sse"
   ]
  },
  {
   "cell_type": "code",
   "execution_count": 12,
   "metadata": {},
   "outputs": [
    {
     "name": "stdout",
     "output_type": "stream",
     "text": [
      "Our model beats the baseline\n",
      "\n",
      "Baseline SSE 17297.85205479452\n",
      "Model SSE 6083.326244705024\n"
     ]
    }
   ],
   "source": [
    "# calculatin model and baseline sse values \n",
    "baseline_sse = (evaluate.baseline_residual**2).sum()\n",
    "model_sse = (evaluate.model_residual**2).sum()\n",
    "\n",
    "# if our models sse value is lower, print message that it beat the baseline\n",
    "if model_sse < baseline_sse:\n",
    "    print(\"Our model beats the baseline\")\n",
    "    \n",
    "# otherwise, print that the baseline beat our model\n",
    "else:\n",
    "    print(\"Our baseline is better than the model.\")\n",
    "\n",
    "# display sse values\n",
    "print(\"\\nBaseline SSE\", baseline_sse)\n",
    "print(\"Model SSE\", model_sse)"
   ]
  },
  {
   "cell_type": "markdown",
   "metadata": {},
   "source": [
    "### Now let's consider evaluation metrics\n",
    "Sum of Square Error (SSE)\n",
    "- Squaring makes larger errors more significant\n",
    "- Squaring also removes negative residuals\n",
    "\n",
    "Mean Squared Error (MSE)\n",
    "- Average of all the squared errors\n",
    "\n",
    "Root Mean Squared Error (RMSE)\n",
    "- Super useful\n",
    "- Converts back to the same units"
   ]
  },
  {
   "cell_type": "code",
   "execution_count": 14,
   "metadata": {},
   "outputs": [
    {
     "name": "stdout",
     "output_type": "stream",
     "text": [
      "SSE is 6083.326244705024  which is the sum sf squared errors\n",
      "MSE is 16.666647245767187  which is the average squared error\n",
      "RMSE is 4.082480526073233  which is the square root of the MSE\n"
     ]
    }
   ],
   "source": [
    "# importing mean squared error and square root functions\n",
    "from sklearn.metrics import mean_squared_error\n",
    "from math import sqrt\n",
    "\n",
    "# calculating model sse\n",
    "model_sse = (evaluate.model_residual**2).sum()\n",
    "\n",
    "# calculating model mse\n",
    "mse = mean_squared_error(evaluate.y, evaluate.yhat)\n",
    "\n",
    "# calculating rmse\n",
    "rmse = sqrt(mse)\n",
    "\n",
    "# displaying values and descriptive message\n",
    "print(\"SSE is\", model_sse, \" which is the sum sf squared errors\")\n",
    "print(\"MSE is\", mse, \" which is the average squared error\")\n",
    "print(\"RMSE is\", rmse, \" which is the square root of the MSE\")"
   ]
  },
  {
   "cell_type": "markdown",
   "metadata": {},
   "source": [
    "### Evaluating Model Significance\n",
    "$R^2$ tells you how well your model fits the data by measuring the strength of the relationship between your model and the dependent variable. However, it is not a formal test for the relationship. The F-test of overall significance is the hypothesis test for this relationship. It indicates whether your linear regression model provides a better fit to the data than a model that contains no independent variables.\n",
    "\n",
    "If the overall F-test is significant (evident through the p-value of the F statistic), you can conclude that $R^2$ does not equal zero, and the correlation between the model and dependent variable is statistically significant."
   ]
  },
  {
   "cell_type": "code",
   "execution_count": 15,
   "metadata": {},
   "outputs": [
    {
     "name": "stdout",
     "output_type": "stream",
     "text": [
      "R-squared =  0.648\n"
     ]
    }
   ],
   "source": [
    "# calculating r^2\n",
    "r2 = model.rsquared\n",
    "print('R-squared = ', round(r2,3))"
   ]
  },
  {
   "cell_type": "markdown",
   "metadata": {},
   "source": [
    "We will now compute the p-value to determine if our test is significant, i.e. can we trust that the explained variance means what we think it means? If we have a high $R^2$, does it really mean that there is correlation? If we have only two datapoints, then no"
   ]
  },
  {
   "cell_type": "code",
   "execution_count": 16,
   "metadata": {},
   "outputs": [
    {
     "name": "stdout",
     "output_type": "stream",
     "text": [
      "p-value for model significance =  2.193718738113383e-84\n"
     ]
    }
   ],
   "source": [
    "# calculating model p value of being significant\n",
    "f_pval = model.f_pvalue\n",
    "print(\"p-value for model significance = \", f_pval)"
   ]
  },
  {
   "cell_type": "code",
   "execution_count": 18,
   "metadata": {},
   "outputs": [
    {
     "data": {
      "text/plain": [
       "True"
      ]
     },
     "execution_count": 18,
     "metadata": {},
     "output_type": "execute_result"
    }
   ],
   "source": [
    "# since p value is below .05 (alpha), our model is significant\n",
    "f_pval < .05"
   ]
  },
  {
   "cell_type": "markdown",
   "metadata": {},
   "source": [
    "- Null hypothesis is that a model not built w/ the independent variables explains the relationship\n",
    "- Alternative hypothesis is that our model built on independent varibles explains the relationship, validates that - $R^2$\n",
    "- If p is less than 0.05, you're OK to conclude that your regression model fits the data better than the model with no independent variables, meaning the independent variables in your model improve the fit.\n",
    "- If greater than 0.05, it's probably better to stop using this set of features.\n",
    "- Basically, if the p is low, we can reject the null hypothesis.\n",
    "- And that means we can accept the model as statistically significant"
   ]
  },
  {
   "cell_type": "code",
   "execution_count": 19,
   "metadata": {},
   "outputs": [],
   "source": [
    "# creating function to plot residuals \n",
    "def plot_residuals(actual, predicted):\n",
    "    residuals = actual - predicted\n",
    "    plt.hlines(0, actual.min(), actual.max(), ls=':')\n",
    "    plt.scatter(actual, residuals)\n",
    "    plt.ylabel('residual ($y - \\hat{y}$)')\n",
    "    plt.xlabel('actual value ($y$)')\n",
    "    plt.title('Actual vs Residual')\n",
    "    return plt.gca()"
   ]
  },
  {
   "cell_type": "code",
   "execution_count": 22,
   "metadata": {},
   "outputs": [
    {
     "data": {
      "text/plain": [
       "<matplotlib.axes._subplots.AxesSubplot at 0x7ff4e7aa4590>"
      ]
     },
     "execution_count": 22,
     "metadata": {},
     "output_type": "execute_result"
    },
    {
     "data": {
      "image/png": "[encoded data removed]",
      "text/plain": [
       "<Figure size 432x288 with 1 Axes>"
      ]
     },
     "metadata": {
      "needs_background": "light"
     },
     "output_type": "display_data"
    }
   ],
   "source": [
    "# plotting residuals using function\n",
    "plot_residuals(evaluate.y, evaluate.yhat)"
   ]
  },
  {
   "cell_type": "code",
   "execution_count": null,
   "metadata": {},
   "outputs": [],
   "source": []
  }
 ],
 "metadata": {
  "kernelspec": {
   "display_name": "Python 3",
   "language": "python",
   "name": "python3"
  },
  "language_info": {
   "codemirror_mode": {
    "name": "ipython",
    "version": 3
   },
   "file_extension": ".py",
   "mimetype": "text/x-python",
   "name": "python",
   "nbconvert_exporter": "python",
   "pygments_lexer": "ipython3",
   "version": "3.7.6"
  }
 },
 "nbformat": 4,
 "nbformat_minor": 4
}
