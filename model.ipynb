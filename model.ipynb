{
 "cells": [
  {
   "cell_type": "code",
   "execution_count": 6,
   "metadata": {},
   "outputs": [],
   "source": [
    "import pandas as pd\n",
    "import numpy as np\n",
    "import matplotlib.pyplot as plt\n",
    "import seaborn as sns\n",
    "import wrangle\n",
    "import warnings\n",
    "warnings.filterwarnings(\"ignore\")\n",
    "\n",
    "from sklearn.model_selection import train_test_split\n",
    "from sklearn.metrics import mean_squared_error, explained_variance_score\n",
    "from sklearn.linear_model import LinearRegression\n",
    "from sklearn.feature_selection import RFE"
   ]
  },
  {
   "cell_type": "markdown",
   "metadata": {},
   "source": [
    "### Use the data on student grades from this lesson."
   ]
  },
  {
   "cell_type": "code",
   "execution_count": 45,
   "metadata": {},
   "outputs": [
    {
     "data": {
      "text/html": [
       "<div>\n",
       "<style scoped>\n",
       "    .dataframe tbody tr th:only-of-type {\n",
       "        vertical-align: middle;\n",
       "    }\n",
       "\n",
       "    .dataframe tbody tr th {\n",
       "        vertical-align: top;\n",
       "    }\n",
       "\n",
       "    .dataframe thead th {\n",
       "        text-align: right;\n",
       "    }\n",
       "</style>\n",
       "<table border=\"1\" class=\"dataframe\">\n",
       "  <thead>\n",
       "    <tr style=\"text-align: right;\">\n",
       "      <th></th>\n",
       "      <th>exam1</th>\n",
       "      <th>exam2</th>\n",
       "      <th>exam3</th>\n",
       "      <th>final_grade</th>\n",
       "    </tr>\n",
       "  </thead>\n",
       "  <tbody>\n",
       "    <tr>\n",
       "      <th>0</th>\n",
       "      <td>100</td>\n",
       "      <td>90</td>\n",
       "      <td>95</td>\n",
       "      <td>96</td>\n",
       "    </tr>\n",
       "    <tr>\n",
       "      <th>1</th>\n",
       "      <td>98</td>\n",
       "      <td>93</td>\n",
       "      <td>96</td>\n",
       "      <td>95</td>\n",
       "    </tr>\n",
       "    <tr>\n",
       "      <th>2</th>\n",
       "      <td>85</td>\n",
       "      <td>83</td>\n",
       "      <td>87</td>\n",
       "      <td>87</td>\n",
       "    </tr>\n",
       "    <tr>\n",
       "      <th>3</th>\n",
       "      <td>83</td>\n",
       "      <td>80</td>\n",
       "      <td>86</td>\n",
       "      <td>85</td>\n",
       "    </tr>\n",
       "    <tr>\n",
       "      <th>4</th>\n",
       "      <td>93</td>\n",
       "      <td>90</td>\n",
       "      <td>96</td>\n",
       "      <td>97</td>\n",
       "    </tr>\n",
       "    <tr>\n",
       "      <th>...</th>\n",
       "      <td>...</td>\n",
       "      <td>...</td>\n",
       "      <td>...</td>\n",
       "      <td>...</td>\n",
       "    </tr>\n",
       "    <tr>\n",
       "      <th>99</th>\n",
       "      <td>70</td>\n",
       "      <td>65</td>\n",
       "      <td>78</td>\n",
       "      <td>77</td>\n",
       "    </tr>\n",
       "    <tr>\n",
       "      <th>100</th>\n",
       "      <td>62</td>\n",
       "      <td>70</td>\n",
       "      <td>79</td>\n",
       "      <td>70</td>\n",
       "    </tr>\n",
       "    <tr>\n",
       "      <th>101</th>\n",
       "      <td>58</td>\n",
       "      <td>65</td>\n",
       "      <td>70</td>\n",
       "      <td>68</td>\n",
       "    </tr>\n",
       "    <tr>\n",
       "      <th>102</th>\n",
       "      <td>57</td>\n",
       "      <td>65</td>\n",
       "      <td>75</td>\n",
       "      <td>65</td>\n",
       "    </tr>\n",
       "    <tr>\n",
       "      <th>103</th>\n",
       "      <td>70</td>\n",
       "      <td>75</td>\n",
       "      <td>78</td>\n",
       "      <td>72</td>\n",
       "    </tr>\n",
       "  </tbody>\n",
       "</table>\n",
       "<p>102 rows × 4 columns</p>\n",
       "</div>"
      ],
      "text/plain": [
       "     exam1  exam2  exam3  final_grade\n",
       "0      100     90     95           96\n",
       "1       98     93     96           95\n",
       "2       85     83     87           87\n",
       "3       83     80     86           85\n",
       "4       93     90     96           97\n",
       "..     ...    ...    ...          ...\n",
       "99      70     65     78           77\n",
       "100     62     70     79           70\n",
       "101     58     65     70           68\n",
       "102     57     65     75           65\n",
       "103     70     75     78           72\n",
       "\n",
       "[102 rows x 4 columns]"
      ]
     },
     "execution_count": 45,
     "metadata": {},
     "output_type": "execute_result"
    }
   ],
   "source": [
    "df = wrangle.wrangle_grades()\n",
    "\n",
    "df"
   ]
  },
  {
   "cell_type": "markdown",
   "metadata": {},
   "source": [
    "### Split the data into train, validate, and test datasets."
   ]
  },
  {
   "cell_type": "code",
   "execution_count": 46,
   "metadata": {},
   "outputs": [],
   "source": [
    "train_and_validate, test = train_test_split(df, random_state = 123)\n",
    "train, validate = train_test_split(train_and_validate, random_state = 123)\n",
    "\n",
    "X_train = train.drop(columns='final_grade')\n",
    "y_train = train[['final_grade']]\n",
    "\n",
    "X_validate = validate.drop(columns=\"final_grade\")\n",
    "y_validate = validate[[\"final_grade\"]]\n",
    "\n",
    "X_test = test.drop(columns='final_grade')\n",
    "y_test = test[['final_grade']]"
   ]
  },
  {
   "cell_type": "markdown",
   "metadata": {},
   "source": [
    "### Create a model that uses exam 1 to predict the final grade."
   ]
  },
  {
   "cell_type": "code",
   "execution_count": 47,
   "metadata": {},
   "outputs": [
    {
     "data": {
      "text/html": [
       "<div>\n",
       "<style scoped>\n",
       "    .dataframe tbody tr th:only-of-type {\n",
       "        vertical-align: middle;\n",
       "    }\n",
       "\n",
       "    .dataframe tbody tr th {\n",
       "        vertical-align: top;\n",
       "    }\n",
       "\n",
       "    .dataframe thead th {\n",
       "        text-align: right;\n",
       "    }\n",
       "</style>\n",
       "<table border=\"1\" class=\"dataframe\">\n",
       "  <thead>\n",
       "    <tr style=\"text-align: right;\">\n",
       "      <th></th>\n",
       "      <th>final_grade</th>\n",
       "      <th>yhat_lm_m1</th>\n",
       "      <th>residual</th>\n",
       "    </tr>\n",
       "  </thead>\n",
       "  <tbody>\n",
       "    <tr>\n",
       "      <th>10</th>\n",
       "      <td>68</td>\n",
       "      <td>66.245821</td>\n",
       "      <td>-1.754179</td>\n",
       "    </tr>\n",
       "    <tr>\n",
       "      <th>15</th>\n",
       "      <td>87</td>\n",
       "      <td>86.693733</td>\n",
       "      <td>-0.306267</td>\n",
       "    </tr>\n",
       "    <tr>\n",
       "      <th>42</th>\n",
       "      <td>85</td>\n",
       "      <td>85.179072</td>\n",
       "      <td>0.179072</td>\n",
       "    </tr>\n",
       "    <tr>\n",
       "      <th>51</th>\n",
       "      <td>72</td>\n",
       "      <td>75.333782</td>\n",
       "      <td>3.333782</td>\n",
       "    </tr>\n",
       "    <tr>\n",
       "      <th>46</th>\n",
       "      <td>76</td>\n",
       "      <td>77.605772</td>\n",
       "      <td>1.605772</td>\n",
       "    </tr>\n",
       "  </tbody>\n",
       "</table>\n",
       "</div>"
      ],
      "text/plain": [
       "    final_grade  yhat_lm_m1  residual\n",
       "10           68   66.245821 -1.754179\n",
       "15           87   86.693733 -0.306267\n",
       "42           85   85.179072  0.179072\n",
       "51           72   75.333782  3.333782\n",
       "46           76   77.605772  1.605772"
      ]
     },
     "execution_count": 47,
     "metadata": {},
     "output_type": "execute_result"
    }
   ],
   "source": [
    "# creating copy of y train since we'll be creating new columns and we don't want to alter the original\n",
    "y_train_m1 = y_train.copy()\n",
    "\n",
    "# creating linear regression object\n",
    "lm_m1 = LinearRegression()\n",
    "\n",
    "# fitting LR object to feature and targeted variable\n",
    "lm_m1.fit(X_train[['exam1']], y_train_m1)\n",
    "\n",
    "# creating new column that holds model predictions\n",
    "y_train_m1['yhat_lm_m1'] = lm_m1.predict(X_train[['exam1']])\n",
    "\n",
    "# creating new column that holds the residual of each row (predicted minus actual)\n",
    "y_train_m1['residual'] = y_train_m1['yhat_lm_m1'] - y_train_m1['final_grade']\n",
    "\n",
    "# displaying results\n",
    "y_train_m1.head()"
   ]
  },
  {
   "cell_type": "markdown",
   "metadata": {},
   "source": [
    "### Create a model that uses exam 2 to predict the final grade."
   ]
  },
  {
   "cell_type": "code",
   "execution_count": 48,
   "metadata": {},
   "outputs": [
    {
     "data": {
      "text/html": [
       "<div>\n",
       "<style scoped>\n",
       "    .dataframe tbody tr th:only-of-type {\n",
       "        vertical-align: middle;\n",
       "    }\n",
       "\n",
       "    .dataframe tbody tr th {\n",
       "        vertical-align: top;\n",
       "    }\n",
       "\n",
       "    .dataframe thead th {\n",
       "        text-align: right;\n",
       "    }\n",
       "</style>\n",
       "<table border=\"1\" class=\"dataframe\">\n",
       "  <thead>\n",
       "    <tr style=\"text-align: right;\">\n",
       "      <th></th>\n",
       "      <th>final_grade</th>\n",
       "      <th>yhat_lm_m2</th>\n",
       "      <th>residual</th>\n",
       "    </tr>\n",
       "  </thead>\n",
       "  <tbody>\n",
       "    <tr>\n",
       "      <th>10</th>\n",
       "      <td>68</td>\n",
       "      <td>69.406878</td>\n",
       "      <td>1.406878</td>\n",
       "    </tr>\n",
       "    <tr>\n",
       "      <th>15</th>\n",
       "      <td>87</td>\n",
       "      <td>87.047586</td>\n",
       "      <td>0.047586</td>\n",
       "    </tr>\n",
       "    <tr>\n",
       "      <th>42</th>\n",
       "      <td>85</td>\n",
       "      <td>84.107468</td>\n",
       "      <td>-0.892532</td>\n",
       "    </tr>\n",
       "    <tr>\n",
       "      <th>51</th>\n",
       "      <td>72</td>\n",
       "      <td>79.207271</td>\n",
       "      <td>7.207271</td>\n",
       "    </tr>\n",
       "    <tr>\n",
       "      <th>46</th>\n",
       "      <td>76</td>\n",
       "      <td>74.307075</td>\n",
       "      <td>-1.692925</td>\n",
       "    </tr>\n",
       "  </tbody>\n",
       "</table>\n",
       "</div>"
      ],
      "text/plain": [
       "    final_grade  yhat_lm_m2  residual\n",
       "10           68   69.406878  1.406878\n",
       "15           87   87.047586  0.047586\n",
       "42           85   84.107468 -0.892532\n",
       "51           72   79.207271  7.207271\n",
       "46           76   74.307075 -1.692925"
      ]
     },
     "execution_count": 48,
     "metadata": {},
     "output_type": "execute_result"
    }
   ],
   "source": [
    "# creating copy of y train since we'll be creating new columns and we don't want to alter the original\n",
    "y_train_m2 = y_train.copy()\n",
    "\n",
    "# creating linear regression object\n",
    "lm_m2 = LinearRegression()\n",
    "\n",
    "# fitting LR object to feature and targeted variable\n",
    "lm_m2.fit(X_train[['exam2']], y_train_m2)\n",
    "\n",
    "# creating new column that holds model predictions\n",
    "y_train_m2['yhat_lm_m2'] = lm_m2.predict(X_train[['exam2']])\n",
    "\n",
    "# creating new column that holds the residual of each row (predicted minus actual)\n",
    "y_train_m2['residual'] = y_train_m2['yhat_lm_m2'] - y_train_m2['final_grade']\n",
    "\n",
    "# displaying results\n",
    "y_train_m2.head()"
   ]
  },
  {
   "cell_type": "markdown",
   "metadata": {},
   "source": [
    "### Compare your models in the following manner:"
   ]
  },
  {
   "cell_type": "markdown",
   "metadata": {},
   "source": [
    "### Calculate the mean squared error"
   ]
  },
  {
   "cell_type": "code",
   "execution_count": 49,
   "metadata": {},
   "outputs": [
    {
     "name": "stdout",
     "output_type": "stream",
     "text": [
      "linear model 1 (training set)\n",
      "  Root mean squared error: 1.83\n",
      "\n",
      "linear model 2 (training set)\n",
      "  Root mean squared error: 3.76\n"
     ]
    }
   ],
   "source": [
    "# calculating mean squared error\n",
    "RMSE_lm_m1 = np.sqrt(mean_squared_error(y_train_m1.final_grade, y_train_m1.yhat_lm_m1))\n",
    "\n",
    "# printing results\n",
    "print(\"linear model 1 (training set)\\n  Root mean squared error: {:.3}\".format(RMSE_lm_m1))\n",
    "\n",
    "# calculating mean squared error\n",
    "RMSE_lm_m2 = np.sqrt(mean_squared_error(y_train_m2.final_grade, y_train_m2.yhat_lm_m2))\n",
    "\n",
    "# printing results\n",
    "print(\"\\nlinear model 2 (training set)\\n  Root mean squared error: {:.3}\".format(RMSE_lm_m2))\n"
   ]
  },
  {
   "cell_type": "markdown",
   "metadata": {},
   "source": [
    "### Visualize the residuals. Create a seperate visualization for each model."
   ]
  },
  {
   "cell_type": "code",
   "execution_count": 50,
   "metadata": {},
   "outputs": [
    {
     "data": {
      "text/plain": [
       "Text(0.5, 1.0, 'Model 1: Exam 1 Grade vs Residual')"
      ]
     },
     "execution_count": 50,
     "metadata": {},
     "output_type": "execute_result"
    },
    {
     "data": {
      "image/png": "[encoded data removed]",
      "text/plain": [
       "<Figure size 504x504 with 1 Axes>"
      ]
     },
     "metadata": {
      "needs_background": "light"
     },
     "output_type": "display_data"
    }
   ],
   "source": [
    "# Model 1 Residuals Visualization\n",
    "\n",
    "# setting figure size\n",
    "plt.figure(figsize=(7, 7))\n",
    "\n",
    "# specifying scatterplot, x = actual, y = model 1 prediction, \n",
    "plt.scatter(X_train[['exam1']], y_train_m1.residual)\n",
    "\n",
    "# setting labels for x and y axis\n",
    "plt.ylabel('Residual value')\n",
    "plt.xlabel('Exam 1 Grade')\n",
    "\n",
    "# setting title\n",
    "plt.title('Model 1: Exam 1 Grade vs Residual')"
   ]
  },
  {
   "cell_type": "code",
   "execution_count": 51,
   "metadata": {
    "scrolled": false
   },
   "outputs": [
    {
     "data": {
      "text/plain": [
       "Text(0.5, 1.0, 'Model 2: Exam 1 Grade vs Residual')"
      ]
     },
     "execution_count": 51,
     "metadata": {},
     "output_type": "execute_result"
    },
    {
     "data": {
      "image/png": "[encoded data removed]",
      "text/plain": [
       "<Figure size 504x504 with 1 Axes>"
      ]
     },
     "metadata": {
      "needs_background": "light"
     },
     "output_type": "display_data"
    }
   ],
   "source": [
    "# Model 2 Residuals Visualization\n",
    "\n",
    "# setting figure size\n",
    "plt.figure(figsize=(7, 7))\n",
    "\n",
    "# specifying scatterplot, x = actual, y = model 2 prediction, \n",
    "plt.scatter(X_train[['exam1']], y_train_m2.residual)\n",
    "\n",
    "# setting labels for x and y axis\n",
    "plt.ylabel('Residual value')\n",
    "plt.xlabel('Exam 1 Grade')\n",
    "\n",
    "# setting title\n",
    "plt.title('Model 2: Exam 1 Grade vs Residual')"
   ]
  },
  {
   "cell_type": "markdown",
   "metadata": {},
   "source": [
    "### Visualize the actual vs the predicted values. Create a seperate visualization for each model."
   ]
  },
  {
   "cell_type": "code",
   "execution_count": 52,
   "metadata": {},
   "outputs": [
    {
     "data": {
      "text/plain": [
       "Text(0.5, 1.0, 'Model 1: Predicted vs Actual Final Grade')"
      ]
     },
     "execution_count": 52,
     "metadata": {},
     "output_type": "execute_result"
    },
    {
     "data": {
      "image/png": "[encoded data removed]",
      "text/plain": [
       "<Figure size 504x504 with 1 Axes>"
      ]
     },
     "metadata": {
      "needs_background": "light"
     },
     "output_type": "display_data"
    }
   ],
   "source": [
    "# Model 1 Predicted Values Visualization\n",
    "\n",
    "# setting figure size\n",
    "plt.figure(figsize=(7, 7))\n",
    "\n",
    "# specifying scatterplot, x = actual, y = model 1 prediction \n",
    "plt.scatter(y_train_m1.final_grade, y_train_m1.yhat_lm_m1)\n",
    "\n",
    "# setting labels for x and y axis\n",
    "plt.ylabel('Predicted Final Grade')\n",
    "plt.xlabel('Actual Final Grade')\n",
    "\n",
    "# setting title\n",
    "plt.title('Model 1: Predicted vs Actual Final Grade')"
   ]
  },
  {
   "cell_type": "code",
   "execution_count": 53,
   "metadata": {},
   "outputs": [
    {
     "data": {
      "text/plain": [
       "Text(0.5, 1.0, 'Model 2: Predicted vs Actual Final Grade')"
      ]
     },
     "execution_count": 53,
     "metadata": {},
     "output_type": "execute_result"
    },
    {
     "data": {
      "image/png": "[encoded data removed]",
      "text/plain": [
       "<Figure size 504x504 with 1 Axes>"
      ]
     },
     "metadata": {
      "needs_background": "light"
     },
     "output_type": "display_data"
    }
   ],
   "source": [
    "# Model 2 Predicted Values Visualization\n",
    "\n",
    "# setting figure size\n",
    "plt.figure(figsize=(7, 7))\n",
    "\n",
    "# specifying scatterplot, x = actual, y = model 2 prediction, \n",
    "plt.scatter(y_train_m2.final_grade, y_train_m2.yhat_lm_m2)\n",
    "\n",
    "# setting labels for x and y axis\n",
    "plt.ylabel('Predicted Final Grade')\n",
    "plt.xlabel('Actual Final Grade')\n",
    "\n",
    "# setting title\n",
    "plt.title('Model 2: Predicted vs Actual Final Grade')"
   ]
  },
  {
   "cell_type": "markdown",
   "metadata": {},
   "source": [
    "### Create a model that uses exam 1 and exam 3 to predict final grade. "
   ]
  },
  {
   "cell_type": "code",
   "execution_count": 73,
   "metadata": {},
   "outputs": [
    {
     "data": {
      "text/html": [
       "<div>\n",
       "<style scoped>\n",
       "    .dataframe tbody tr th:only-of-type {\n",
       "        vertical-align: middle;\n",
       "    }\n",
       "\n",
       "    .dataframe tbody tr th {\n",
       "        vertical-align: top;\n",
       "    }\n",
       "\n",
       "    .dataframe thead th {\n",
       "        text-align: right;\n",
       "    }\n",
       "</style>\n",
       "<table border=\"1\" class=\"dataframe\">\n",
       "  <thead>\n",
       "    <tr style=\"text-align: right;\">\n",
       "      <th></th>\n",
       "      <th>final_grade</th>\n",
       "      <th>yhat_lm_m3</th>\n",
       "      <th>residual</th>\n",
       "    </tr>\n",
       "  </thead>\n",
       "  <tbody>\n",
       "    <tr>\n",
       "      <th>10</th>\n",
       "      <td>68</td>\n",
       "      <td>65.760296</td>\n",
       "      <td>-2.239704</td>\n",
       "    </tr>\n",
       "    <tr>\n",
       "      <th>15</th>\n",
       "      <td>87</td>\n",
       "      <td>86.444967</td>\n",
       "      <td>-0.555033</td>\n",
       "    </tr>\n",
       "    <tr>\n",
       "      <th>42</th>\n",
       "      <td>85</td>\n",
       "      <td>84.983867</td>\n",
       "      <td>-0.016133</td>\n",
       "    </tr>\n",
       "    <tr>\n",
       "      <th>51</th>\n",
       "      <td>72</td>\n",
       "      <td>75.075365</td>\n",
       "      <td>3.075365</td>\n",
       "    </tr>\n",
       "    <tr>\n",
       "      <th>46</th>\n",
       "      <td>76</td>\n",
       "      <td>76.032957</td>\n",
       "      <td>0.032957</td>\n",
       "    </tr>\n",
       "  </tbody>\n",
       "</table>\n",
       "</div>"
      ],
      "text/plain": [
       "    final_grade  yhat_lm_m3  residual\n",
       "10           68   65.760296 -2.239704\n",
       "15           87   86.444967 -0.555033\n",
       "42           85   84.983867 -0.016133\n",
       "51           72   75.075365  3.075365\n",
       "46           76   76.032957  0.032957"
      ]
     },
     "execution_count": 73,
     "metadata": {},
     "output_type": "execute_result"
    }
   ],
   "source": [
    "# creating copy of y train since we'll be creating new columns and we don't want to alter the original\n",
    "y_train_m3 = y_train.copy()\n",
    "\n",
    "# creating linear regression object\n",
    "lm_m3 = LinearRegression()\n",
    "\n",
    "# fitting LR object to feature and targeted variable\n",
    "lm_m3.fit(X_train[['exam1', 'exam3']], y_train_m3)\n",
    "\n",
    "# creating new column that holds model predictions\n",
    "y_train_m3['yhat_lm_m3'] = lm_m3.predict(X_train[['exam1', 'exam3']])\n",
    "\n",
    "# creating new column that holds the residual of each row (predicted minus actual)\n",
    "y_train_m3['residual'] = y_train_m3['yhat_lm_m3'] - y_train_m3['final_grade']\n",
    "\n",
    "# displaying results\n",
    "y_train_m3.head()"
   ]
  },
  {
   "cell_type": "markdown",
   "metadata": {},
   "source": [
    "### How does this model compare to your previous ones?"
   ]
  },
  {
   "cell_type": "code",
   "execution_count": 74,
   "metadata": {},
   "outputs": [
    {
     "name": "stdout",
     "output_type": "stream",
     "text": [
      "linear model 1 (training set)\n",
      "  Root mean squared error: 1.83\n",
      "\n",
      "linear model 2 (training set)\n",
      "  Root mean squared error: 3.76\n",
      "\n",
      "linear model 3 (training set)\n",
      "  Root mean squared error: 1.65\n",
      "\n",
      "Model 3 performed the best since it has the lowest RMSE value.\n"
     ]
    }
   ],
   "source": [
    "# calculating mean squared error\n",
    "RMSE_lm_m1 = np.sqrt(mean_squared_error(y_train_m1.final_grade, y_train_m1.yhat_lm_m1))\n",
    "\n",
    "# printing results\n",
    "print(\"linear model 1 (training set)\\n  Root mean squared error: {:.3}\".format(RMSE_lm_m1))\n",
    "\n",
    "# calculating mean squared error\n",
    "RMSE_lm_m2 = np.sqrt(mean_squared_error(y_train_m2.final_grade, y_train_m2.yhat_lm_m2))\n",
    "\n",
    "# printing results\n",
    "print(\"\\nlinear model 2 (training set)\\n  Root mean squared error: {:.3}\".format(RMSE_lm_m2))\n",
    "\n",
    "# calculating mean squared error\n",
    "RMSE_lm_m3 = np.sqrt(mean_squared_error(y_train_m3.final_grade, y_train_m3.yhat_lm_m3))\n",
    "\n",
    "# printing results\n",
    "print(\"\\nlinear model 3 (training set)\\n  Root mean squared error: {:.3}\".format(RMSE_lm_m3))\n",
    "\n",
    "print(\"\\nModel 3 performed the best since it has the lowest RMSE value.\")"
   ]
  },
  {
   "cell_type": "markdown",
   "metadata": {},
   "source": [
    "### Take your best preforming model and measure its performance on the validate data set. "
   ]
  },
  {
   "cell_type": "code",
   "execution_count": 75,
   "metadata": {},
   "outputs": [
    {
     "name": "stdout",
     "output_type": "stream",
     "text": [
      "linear model 3 (validate)\n",
      "  Root mean squared error: 1.8508\n"
     ]
    }
   ],
   "source": [
    "# making predictions with model 3 on validate data set\n",
    "validate_m3_predictions = lm_m3.predict(X_validate[['exam1', 'exam3']])\n",
    "\n",
    "# calculating mean squared error\n",
    "RMSE_lm_m3_val = np.sqrt(mean_squared_error(y_validate.final_grade, validate_m3_predictions))\n",
    "\n",
    "# printing results\n",
    "print(\"linear model 3 (validate)\\n  Root mean squared error: {:.5}\".format(RMSE_lm_m3_val))"
   ]
  },
  {
   "cell_type": "markdown",
   "metadata": {},
   "source": [
    "### How does the performance differ between train and validate?"
   ]
  },
  {
   "cell_type": "code",
   "execution_count": 76,
   "metadata": {},
   "outputs": [
    {
     "name": "stdout",
     "output_type": "stream",
     "text": [
      "Model 3's RMSE value only increased by .20 from the training to the validate set, seems to be a fairly good model.\n"
     ]
    }
   ],
   "source": [
    "print(\"Model 3's RMSE value only increased by .20 from the training to the validate set, seems to be a fairly good model.\")"
   ]
  },
  {
   "cell_type": "markdown",
   "metadata": {},
   "source": [
    "### Make a 4th model with a slight difference like one more/less feature or a single hyperparameter that's different to see if you can beat that the last model's performance on validate."
   ]
  },
  {
   "cell_type": "code",
   "execution_count": 77,
   "metadata": {
    "scrolled": true
   },
   "outputs": [
    {
     "data": {
      "text/html": [
       "<div>\n",
       "<style scoped>\n",
       "    .dataframe tbody tr th:only-of-type {\n",
       "        vertical-align: middle;\n",
       "    }\n",
       "\n",
       "    .dataframe tbody tr th {\n",
       "        vertical-align: top;\n",
       "    }\n",
       "\n",
       "    .dataframe thead th {\n",
       "        text-align: right;\n",
       "    }\n",
       "</style>\n",
       "<table border=\"1\" class=\"dataframe\">\n",
       "  <thead>\n",
       "    <tr style=\"text-align: right;\">\n",
       "      <th></th>\n",
       "      <th>final_grade</th>\n",
       "      <th>yhat_lm_m4</th>\n",
       "      <th>residual</th>\n",
       "    </tr>\n",
       "  </thead>\n",
       "  <tbody>\n",
       "    <tr>\n",
       "      <th>10</th>\n",
       "      <td>68</td>\n",
       "      <td>65.721880</td>\n",
       "      <td>-2.278120</td>\n",
       "    </tr>\n",
       "    <tr>\n",
       "      <th>15</th>\n",
       "      <td>87</td>\n",
       "      <td>86.422150</td>\n",
       "      <td>-0.577850</td>\n",
       "    </tr>\n",
       "    <tr>\n",
       "      <th>42</th>\n",
       "      <td>85</td>\n",
       "      <td>84.987669</td>\n",
       "      <td>-0.012331</td>\n",
       "    </tr>\n",
       "    <tr>\n",
       "      <th>51</th>\n",
       "      <td>72</td>\n",
       "      <td>75.017555</td>\n",
       "      <td>3.017555</td>\n",
       "    </tr>\n",
       "    <tr>\n",
       "      <th>46</th>\n",
       "      <td>76</td>\n",
       "      <td>76.038134</td>\n",
       "      <td>0.038134</td>\n",
       "    </tr>\n",
       "  </tbody>\n",
       "</table>\n",
       "</div>"
      ],
      "text/plain": [
       "    final_grade  yhat_lm_m4  residual\n",
       "10           68   65.721880 -2.278120\n",
       "15           87   86.422150 -0.577850\n",
       "42           85   84.987669 -0.012331\n",
       "51           72   75.017555  3.017555\n",
       "46           76   76.038134  0.038134"
      ]
     },
     "execution_count": 77,
     "metadata": {},
     "output_type": "execute_result"
    }
   ],
   "source": [
    "# creating copy of y train since we'll be creating new columns and we don't want to alter the original\n",
    "y_train_m4 = y_train.copy()\n",
    "\n",
    "# creating linear regression object\n",
    "lm_m4 = LinearRegression()\n",
    "\n",
    "# fitting LR object to feature and targeted variable\n",
    "lm_m4.fit(X_train[['exam1', 'exam2','exam3']], y_train_m4)\n",
    "\n",
    "# creating new column that holds model predictions\n",
    "y_train_m4['yhat_lm_m4'] = lm_m4.predict(X_train[['exam1', 'exam2','exam3']])\n",
    "\n",
    "# creating new column that holds the residual of each row (predicted minus actual)\n",
    "y_train_m4['residual'] = y_train_m4['yhat_lm_m4'] - y_train_m4['final_grade']\n",
    "\n",
    "# displaying results\n",
    "y_train_m4.head()"
   ]
  },
  {
   "cell_type": "code",
   "execution_count": 78,
   "metadata": {},
   "outputs": [
    {
     "name": "stdout",
     "output_type": "stream",
     "text": [
      "linear model 4 (validate)\n",
      "  Root mean squared error: 1.8458\n"
     ]
    }
   ],
   "source": [
    "# making predictions with model 4 on validate data set\n",
    "validate_m4_predictions = lm_m4.predict(X_validate[['exam1', 'exam2', 'exam3']])\n",
    "\n",
    "# calculating mean squared error\n",
    "RMSE_lm_m4_val = np.sqrt(mean_squared_error(y_validate.final_grade, validate_m4_predictions))\n",
    "\n",
    "# printing results\n",
    "print(\"linear model 4 (validate)\\n  Root mean squared error: {:.5}\".format(RMSE_lm_m4_val))"
   ]
  },
  {
   "cell_type": "markdown",
   "metadata": {},
   "source": [
    "### Tune your models using validate to improve performance."
   ]
  },
  {
   "cell_type": "code",
   "execution_count": 89,
   "metadata": {},
   "outputs": [
    {
     "name": "stdout",
     "output_type": "stream",
     "text": [
      "linear model 3 (validate)\n",
      "  Root mean squared error: 1.8508\n",
      "\n",
      "Same RMSE as before, no change.\n"
     ]
    }
   ],
   "source": [
    "# Tuning model 3 hyper parameters to see if we can improve performance on validate data\n",
    "\n",
    "# creating linear regression object\n",
    "lm_m3 = LinearRegression(normalize = True)\n",
    "\n",
    "# fitting LR object to feature and targeted variable\n",
    "# need to specify final grade here since our y_train_m3 has additional columns now\n",
    "lm_m3.fit(X_train[['exam1', 'exam3']], y_train_m3['final_grade'])\n",
    "\n",
    "# making predictions with model 3 on validate data set\n",
    "validate_m3_predictions = lm_m3.predict(X_validate[['exam1', 'exam3']])\n",
    "\n",
    "# calculating mean squared error\n",
    "RMSE_lm_m3_val = np.sqrt(mean_squared_error(y_validate.final_grade, validate_m3_predictions))\n",
    "\n",
    "# printing results\n",
    "print(\"linear model 3 (validate)\\n  Root mean squared error: {:.5}\".format(RMSE_lm_m3_val))\n",
    "\n",
    "print(\"\\nSame RMSE as before, no change.\")"
   ]
  },
  {
   "cell_type": "code",
   "execution_count": 91,
   "metadata": {},
   "outputs": [
    {
     "name": "stdout",
     "output_type": "stream",
     "text": [
      "linear model 3 (validate)\n",
      "  Root mean squared error: 1.9441\n",
      "\n",
      "RMSE value increased, this tuning worsened the model's performance.\n"
     ]
    }
   ],
   "source": [
    "# Tuning model 3 hyper parameters again to see if we can improve performance on validate data\n",
    "\n",
    "# creating linear regression object\n",
    "lm_m3 = LinearRegression(fit_intercept = False)\n",
    "\n",
    "# fitting LR object to feature and targeted variable\n",
    "# need to specify final grade here since our y_train_m3 has additional columns now\n",
    "lm_m3.fit(X_train[['exam1', 'exam3']], y_train_m3['final_grade'])\n",
    "\n",
    "# making predictions with model 3 on validate data set\n",
    "validate_m3_predictions = lm_m3.predict(X_validate[['exam1', 'exam3']])\n",
    "\n",
    "# calculating mean squared error\n",
    "RMSE_lm_m3_val = np.sqrt(mean_squared_error(y_validate.final_grade, validate_m3_predictions))\n",
    "\n",
    "# printing results\n",
    "print(\"linear model 3 (validate)\\n  Root mean squared error: {:.5}\".format(RMSE_lm_m3_val))\n",
    "print(\"\\nRMSE value increased, this tuning worsened the model's performance.\")"
   ]
  },
  {
   "cell_type": "code",
   "execution_count": 94,
   "metadata": {},
   "outputs": [
    {
     "name": "stdout",
     "output_type": "stream",
     "text": [
      "linear model 4 (validate)\n",
      "  Root mean squared error: 1.8458\n",
      "RMSE value remains constant, no change.\n"
     ]
    }
   ],
   "source": [
    "# Tuning model 4 hyper parameters to see if we can improve performance on validate data\n",
    "\n",
    "# creating linear regression object\n",
    "lm_m4 = LinearRegression(normalize = True)\n",
    "\n",
    "# fitting LR object to feature and targeted variable\n",
    "# need to specify final grade here since our y_train_m4 has additional columns now\n",
    "lm_m4.fit(X_train[['exam1', 'exam2', 'exam3']], y_train_m4['final_grade'])\n",
    "\n",
    "# making predictions with model 3 on validate data set\n",
    "validate_m4_predictions = lm_m4.predict(X_validate[['exam1', 'exam2', 'exam3']])\n",
    "\n",
    "# calculating mean squared error\n",
    "RMSE_lm_m4_val = np.sqrt(mean_squared_error(y_validate.final_grade, validate_m4_predictions))\n",
    "\n",
    "# printing results\n",
    "print(\"linear model 4 (validate)\\n  Root mean squared error: {:.5}\".format(RMSE_lm_m4_val))\n",
    "print(\"\\nRMSE value remains constant, no change.\")"
   ]
  },
  {
   "cell_type": "code",
   "execution_count": 96,
   "metadata": {},
   "outputs": [
    {
     "name": "stdout",
     "output_type": "stream",
     "text": [
      "linear model 4 (validate)\n",
      "  Root mean squared error: 1.9424\n",
      "\n",
      "RMSE value increased, this tuning worsened the model's performance.\n"
     ]
    }
   ],
   "source": [
    "# Tuning model 4 hyper parameters to see if we can improve performance on validate data\n",
    "\n",
    "# creating linear regression object\n",
    "lm_m4 = LinearRegression(fit_intercept = False)\n",
    "\n",
    "# fitting LR object to feature and targeted variable\n",
    "# need to specify final grade here since our y_train_m4 has additional columns now\n",
    "lm_m4.fit(X_train[['exam1', 'exam2', 'exam3']], y_train_m4['final_grade'])\n",
    "\n",
    "# making predictions with model 3 on validate data set\n",
    "validate_m4_predictions = lm_m4.predict(X_validate[['exam1', 'exam2', 'exam3']])\n",
    "\n",
    "# calculating mean squared error\n",
    "RMSE_lm_m4_val = np.sqrt(mean_squared_error(y_validate.final_grade, validate_m4_predictions))\n",
    "\n",
    "# printing results\n",
    "print(\"linear model 4 (validate)\\n  Root mean squared error: {:.5}\".format(RMSE_lm_m4_val))\n",
    "print(\"\\nRMSE value increased, this tuning worsened the model's performance.\")"
   ]
  },
  {
   "cell_type": "markdown",
   "metadata": {},
   "source": [
    "<font size=4> Since model 4 performed slightly better than model 3, and it maintained its best performance with no hyperparameters, we're going to use it with no hyperparameters on the test set. </font>"
   ]
  },
  {
   "cell_type": "markdown",
   "metadata": {},
   "source": [
    "### Select the model w/ the best performance and evaluate that one on test, to get a more clear understanding of how it will perform on out-of-sample data."
   ]
  },
  {
   "cell_type": "code",
   "execution_count": 98,
   "metadata": {},
   "outputs": [
    {
     "name": "stdout",
     "output_type": "stream",
     "text": [
      "linear model 4 (test)\n",
      "  Root mean squared error: 1.8697\n",
      "\n",
      "RMSE value increased by ~.02 from validation, this model is solid.\n"
     ]
    }
   ],
   "source": [
    "# Using model 4 on test set\n",
    "\n",
    "# creating linear regression object\n",
    "lm_m4 = LinearRegression()\n",
    "\n",
    "# fitting LR object to feature and targeted variable\n",
    "# need to specify final grade here since our y_train_m4 has additional columns now\n",
    "lm_m4.fit(X_train[['exam1', 'exam2', 'exam3']], y_train_m4['final_grade'])\n",
    "\n",
    "# making predictions with model 3 on validate data set\n",
    "test_m4_predictions = lm_m4.predict(X_test[['exam1', 'exam2', 'exam3']])\n",
    "\n",
    "# calculating mean squared error\n",
    "RMSE_lm_m4_test = np.sqrt(mean_squared_error(y_test.final_grade, test_m4_predictions))\n",
    "\n",
    "# printing results\n",
    "print(\"linear model 4 (test)\\n  Root mean squared error: {:.5}\".format(RMSE_lm_m4_test))\n",
    "print(\"\\nRMSE value increased by ~.02 from validation, this model is solid.\")"
   ]
  },
  {
   "cell_type": "markdown",
   "metadata": {},
   "source": [
    "### OUR SCENARIO CONTINUES"
   ]
  },
  {
   "cell_type": "markdown",
   "metadata": {},
   "source": [
    "#### Run all your previous scripts that acquired, prepared, split, and scaled the telco churn data."
   ]
  },
  {
   "cell_type": "code",
   "execution_count": 7,
   "metadata": {},
   "outputs": [],
   "source": [
    "# importing functions from my .py files\n",
    "from acquire import get_telco_data\n",
    "from wrangle import minmax_scaler\n",
    "from prepare import prepare_telco"
   ]
  },
  {
   "cell_type": "code",
   "execution_count": 8,
   "metadata": {
    "scrolled": true
   },
   "outputs": [
    {
     "data": {
      "text/html": [
       "<div>\n",
       "<style scoped>\n",
       "    .dataframe tbody tr th:only-of-type {\n",
       "        vertical-align: middle;\n",
       "    }\n",
       "\n",
       "    .dataframe tbody tr th {\n",
       "        vertical-align: top;\n",
       "    }\n",
       "\n",
       "    .dataframe thead th {\n",
       "        text-align: right;\n",
       "    }\n",
       "</style>\n",
       "<table border=\"1\" class=\"dataframe\">\n",
       "  <thead>\n",
       "    <tr style=\"text-align: right;\">\n",
       "      <th></th>\n",
       "      <th>customer_id</th>\n",
       "      <th>gender</th>\n",
       "      <th>senior_citizen</th>\n",
       "      <th>partner</th>\n",
       "      <th>dependents</th>\n",
       "      <th>tenure</th>\n",
       "      <th>phone_service</th>\n",
       "      <th>multiple_lines</th>\n",
       "      <th>internet_service_type_id</th>\n",
       "      <th>online_security</th>\n",
       "      <th>...</th>\n",
       "      <th>device_protection</th>\n",
       "      <th>tech_support</th>\n",
       "      <th>streaming_tv</th>\n",
       "      <th>streaming_movies</th>\n",
       "      <th>contract_type_id</th>\n",
       "      <th>paperless_billing</th>\n",
       "      <th>payment_type_id</th>\n",
       "      <th>monthly_charges</th>\n",
       "      <th>total_charges</th>\n",
       "      <th>churn</th>\n",
       "    </tr>\n",
       "  </thead>\n",
       "  <tbody>\n",
       "    <tr>\n",
       "      <th>0</th>\n",
       "      <td>0002-ORFBO</td>\n",
       "      <td>Female</td>\n",
       "      <td>0</td>\n",
       "      <td>Yes</td>\n",
       "      <td>Yes</td>\n",
       "      <td>9</td>\n",
       "      <td>Yes</td>\n",
       "      <td>No</td>\n",
       "      <td>1</td>\n",
       "      <td>No</td>\n",
       "      <td>...</td>\n",
       "      <td>No</td>\n",
       "      <td>Yes</td>\n",
       "      <td>Yes</td>\n",
       "      <td>No</td>\n",
       "      <td>2</td>\n",
       "      <td>Yes</td>\n",
       "      <td>2</td>\n",
       "      <td>65.6</td>\n",
       "      <td>593.3</td>\n",
       "      <td>No</td>\n",
       "    </tr>\n",
       "    <tr>\n",
       "      <th>1</th>\n",
       "      <td>0003-MKNFE</td>\n",
       "      <td>Male</td>\n",
       "      <td>0</td>\n",
       "      <td>No</td>\n",
       "      <td>No</td>\n",
       "      <td>9</td>\n",
       "      <td>Yes</td>\n",
       "      <td>Yes</td>\n",
       "      <td>1</td>\n",
       "      <td>No</td>\n",
       "      <td>...</td>\n",
       "      <td>No</td>\n",
       "      <td>No</td>\n",
       "      <td>No</td>\n",
       "      <td>Yes</td>\n",
       "      <td>1</td>\n",
       "      <td>No</td>\n",
       "      <td>2</td>\n",
       "      <td>59.9</td>\n",
       "      <td>542.4</td>\n",
       "      <td>No</td>\n",
       "    </tr>\n",
       "    <tr>\n",
       "      <th>2</th>\n",
       "      <td>0004-TLHLJ</td>\n",
       "      <td>Male</td>\n",
       "      <td>0</td>\n",
       "      <td>No</td>\n",
       "      <td>No</td>\n",
       "      <td>4</td>\n",
       "      <td>Yes</td>\n",
       "      <td>No</td>\n",
       "      <td>2</td>\n",
       "      <td>No</td>\n",
       "      <td>...</td>\n",
       "      <td>Yes</td>\n",
       "      <td>No</td>\n",
       "      <td>No</td>\n",
       "      <td>No</td>\n",
       "      <td>1</td>\n",
       "      <td>Yes</td>\n",
       "      <td>1</td>\n",
       "      <td>73.9</td>\n",
       "      <td>280.85</td>\n",
       "      <td>Yes</td>\n",
       "    </tr>\n",
       "    <tr>\n",
       "      <th>3</th>\n",
       "      <td>0011-IGKFF</td>\n",
       "      <td>Male</td>\n",
       "      <td>1</td>\n",
       "      <td>Yes</td>\n",
       "      <td>No</td>\n",
       "      <td>13</td>\n",
       "      <td>Yes</td>\n",
       "      <td>No</td>\n",
       "      <td>2</td>\n",
       "      <td>No</td>\n",
       "      <td>...</td>\n",
       "      <td>Yes</td>\n",
       "      <td>No</td>\n",
       "      <td>Yes</td>\n",
       "      <td>Yes</td>\n",
       "      <td>1</td>\n",
       "      <td>Yes</td>\n",
       "      <td>1</td>\n",
       "      <td>98.0</td>\n",
       "      <td>1237.85</td>\n",
       "      <td>Yes</td>\n",
       "    </tr>\n",
       "    <tr>\n",
       "      <th>4</th>\n",
       "      <td>0013-EXCHZ</td>\n",
       "      <td>Female</td>\n",
       "      <td>1</td>\n",
       "      <td>Yes</td>\n",
       "      <td>No</td>\n",
       "      <td>3</td>\n",
       "      <td>Yes</td>\n",
       "      <td>No</td>\n",
       "      <td>2</td>\n",
       "      <td>No</td>\n",
       "      <td>...</td>\n",
       "      <td>No</td>\n",
       "      <td>Yes</td>\n",
       "      <td>Yes</td>\n",
       "      <td>No</td>\n",
       "      <td>1</td>\n",
       "      <td>Yes</td>\n",
       "      <td>2</td>\n",
       "      <td>83.9</td>\n",
       "      <td>267.4</td>\n",
       "      <td>Yes</td>\n",
       "    </tr>\n",
       "  </tbody>\n",
       "</table>\n",
       "<p>5 rows × 21 columns</p>\n",
       "</div>"
      ],
      "text/plain": [
       "  customer_id  gender  senior_citizen partner dependents  tenure  \\\n",
       "0  0002-ORFBO  Female               0     Yes        Yes       9   \n",
       "1  0003-MKNFE    Male               0      No         No       9   \n",
       "2  0004-TLHLJ    Male               0      No         No       4   \n",
       "3  0011-IGKFF    Male               1     Yes         No      13   \n",
       "4  0013-EXCHZ  Female               1     Yes         No       3   \n",
       "\n",
       "  phone_service multiple_lines  internet_service_type_id online_security  ...  \\\n",
       "0           Yes             No                         1              No  ...   \n",
       "1           Yes            Yes                         1              No  ...   \n",
       "2           Yes             No                         2              No  ...   \n",
       "3           Yes             No                         2              No  ...   \n",
       "4           Yes             No                         2              No  ...   \n",
       "\n",
       "  device_protection tech_support streaming_tv streaming_movies  \\\n",
       "0                No          Yes          Yes               No   \n",
       "1                No           No           No              Yes   \n",
       "2               Yes           No           No               No   \n",
       "3               Yes           No          Yes              Yes   \n",
       "4                No          Yes          Yes               No   \n",
       "\n",
       "  contract_type_id  paperless_billing payment_type_id  monthly_charges  \\\n",
       "0                2                Yes               2             65.6   \n",
       "1                1                 No               2             59.9   \n",
       "2                1                Yes               1             73.9   \n",
       "3                1                Yes               1             98.0   \n",
       "4                1                Yes               2             83.9   \n",
       "\n",
       "   total_charges churn  \n",
       "0          593.3    No  \n",
       "1          542.4    No  \n",
       "2         280.85   Yes  \n",
       "3        1237.85   Yes  \n",
       "4          267.4   Yes  \n",
       "\n",
       "[5 rows x 21 columns]"
      ]
     },
     "execution_count": 8,
     "metadata": {},
     "output_type": "execute_result"
    }
   ],
   "source": [
    "# acquiring data\n",
    "df = get_telco_data()\n",
    "\n",
    "df.head()"
   ]
  },
  {
   "cell_type": "code",
   "execution_count": 9,
   "metadata": {},
   "outputs": [
    {
     "data": {
      "text/html": [
       "<div>\n",
       "<style scoped>\n",
       "    .dataframe tbody tr th:only-of-type {\n",
       "        vertical-align: middle;\n",
       "    }\n",
       "\n",
       "    .dataframe tbody tr th {\n",
       "        vertical-align: top;\n",
       "    }\n",
       "\n",
       "    .dataframe thead th {\n",
       "        text-align: right;\n",
       "    }\n",
       "</style>\n",
       "<table border=\"1\" class=\"dataframe\">\n",
       "  <thead>\n",
       "    <tr style=\"text-align: right;\">\n",
       "      <th></th>\n",
       "      <th>customer_id</th>\n",
       "      <th>female</th>\n",
       "      <th>senior_citizen</th>\n",
       "      <th>partner</th>\n",
       "      <th>dependents</th>\n",
       "      <th>tenure</th>\n",
       "      <th>phone_service</th>\n",
       "      <th>multiple_lines</th>\n",
       "      <th>internet_service_type_id</th>\n",
       "      <th>online_security</th>\n",
       "      <th>...</th>\n",
       "      <th>streaming_tv</th>\n",
       "      <th>streaming_movies</th>\n",
       "      <th>contract_type_id</th>\n",
       "      <th>paperless_billing</th>\n",
       "      <th>payment_type_id</th>\n",
       "      <th>is_automatic_payment</th>\n",
       "      <th>monthly_charges</th>\n",
       "      <th>total_charges</th>\n",
       "      <th>tenure_years</th>\n",
       "      <th>churn</th>\n",
       "    </tr>\n",
       "  </thead>\n",
       "  <tbody>\n",
       "    <tr>\n",
       "      <th>4604</th>\n",
       "      <td>6490-FGZAT</td>\n",
       "      <td>0</td>\n",
       "      <td>0</td>\n",
       "      <td>0</td>\n",
       "      <td>0</td>\n",
       "      <td>6</td>\n",
       "      <td>1</td>\n",
       "      <td>0</td>\n",
       "      <td>3</td>\n",
       "      <td>0</td>\n",
       "      <td>...</td>\n",
       "      <td>0</td>\n",
       "      <td>0</td>\n",
       "      <td>1</td>\n",
       "      <td>0</td>\n",
       "      <td>2</td>\n",
       "      <td>0</td>\n",
       "      <td>20.65</td>\n",
       "      <td>109.30</td>\n",
       "      <td>0.5</td>\n",
       "      <td>0</td>\n",
       "    </tr>\n",
       "    <tr>\n",
       "      <th>5566</th>\n",
       "      <td>7841-FCRQD</td>\n",
       "      <td>1</td>\n",
       "      <td>0</td>\n",
       "      <td>1</td>\n",
       "      <td>0</td>\n",
       "      <td>33</td>\n",
       "      <td>1</td>\n",
       "      <td>0</td>\n",
       "      <td>1</td>\n",
       "      <td>0</td>\n",
       "      <td>...</td>\n",
       "      <td>0</td>\n",
       "      <td>0</td>\n",
       "      <td>2</td>\n",
       "      <td>1</td>\n",
       "      <td>4</td>\n",
       "      <td>1</td>\n",
       "      <td>53.75</td>\n",
       "      <td>1857.30</td>\n",
       "      <td>2.8</td>\n",
       "      <td>0</td>\n",
       "    </tr>\n",
       "    <tr>\n",
       "      <th>6204</th>\n",
       "      <td>8777-MBMTS</td>\n",
       "      <td>1</td>\n",
       "      <td>1</td>\n",
       "      <td>1</td>\n",
       "      <td>0</td>\n",
       "      <td>65</td>\n",
       "      <td>1</td>\n",
       "      <td>0</td>\n",
       "      <td>2</td>\n",
       "      <td>0</td>\n",
       "      <td>...</td>\n",
       "      <td>1</td>\n",
       "      <td>1</td>\n",
       "      <td>3</td>\n",
       "      <td>1</td>\n",
       "      <td>4</td>\n",
       "      <td>1</td>\n",
       "      <td>105.85</td>\n",
       "      <td>6725.50</td>\n",
       "      <td>5.4</td>\n",
       "      <td>0</td>\n",
       "    </tr>\n",
       "    <tr>\n",
       "      <th>5837</th>\n",
       "      <td>8212-CRQXP</td>\n",
       "      <td>1</td>\n",
       "      <td>0</td>\n",
       "      <td>1</td>\n",
       "      <td>0</td>\n",
       "      <td>22</td>\n",
       "      <td>1</td>\n",
       "      <td>0</td>\n",
       "      <td>2</td>\n",
       "      <td>0</td>\n",
       "      <td>...</td>\n",
       "      <td>1</td>\n",
       "      <td>0</td>\n",
       "      <td>1</td>\n",
       "      <td>1</td>\n",
       "      <td>4</td>\n",
       "      <td>1</td>\n",
       "      <td>80.00</td>\n",
       "      <td>1706.45</td>\n",
       "      <td>1.8</td>\n",
       "      <td>0</td>\n",
       "    </tr>\n",
       "    <tr>\n",
       "      <th>1276</th>\n",
       "      <td>1897-OKVMW</td>\n",
       "      <td>1</td>\n",
       "      <td>0</td>\n",
       "      <td>1</td>\n",
       "      <td>1</td>\n",
       "      <td>64</td>\n",
       "      <td>1</td>\n",
       "      <td>1</td>\n",
       "      <td>1</td>\n",
       "      <td>1</td>\n",
       "      <td>...</td>\n",
       "      <td>1</td>\n",
       "      <td>1</td>\n",
       "      <td>3</td>\n",
       "      <td>1</td>\n",
       "      <td>2</td>\n",
       "      <td>0</td>\n",
       "      <td>90.60</td>\n",
       "      <td>5817.45</td>\n",
       "      <td>5.3</td>\n",
       "      <td>0</td>\n",
       "    </tr>\n",
       "  </tbody>\n",
       "</table>\n",
       "<p>5 rows × 23 columns</p>\n",
       "</div>"
      ],
      "text/plain": [
       "     customer_id  female  senior_citizen  partner  dependents  tenure  \\\n",
       "4604  6490-FGZAT       0               0        0           0       6   \n",
       "5566  7841-FCRQD       1               0        1           0      33   \n",
       "6204  8777-MBMTS       1               1        1           0      65   \n",
       "5837  8212-CRQXP       1               0        1           0      22   \n",
       "1276  1897-OKVMW       1               0        1           1      64   \n",
       "\n",
       "      phone_service  multiple_lines  internet_service_type_id  \\\n",
       "4604              1               0                         3   \n",
       "5566              1               0                         1   \n",
       "6204              1               0                         2   \n",
       "5837              1               0                         2   \n",
       "1276              1               1                         1   \n",
       "\n",
       "      online_security  ...  streaming_tv  streaming_movies  contract_type_id  \\\n",
       "4604                0  ...             0                 0                 1   \n",
       "5566                0  ...             0                 0                 2   \n",
       "6204                0  ...             1                 1                 3   \n",
       "5837                0  ...             1                 0                 1   \n",
       "1276                1  ...             1                 1                 3   \n",
       "\n",
       "      paperless_billing  payment_type_id  is_automatic_payment  \\\n",
       "4604                  0                2                     0   \n",
       "5566                  1                4                     1   \n",
       "6204                  1                4                     1   \n",
       "5837                  1                4                     1   \n",
       "1276                  1                2                     0   \n",
       "\n",
       "      monthly_charges  total_charges  tenure_years  churn  \n",
       "4604            20.65         109.30           0.5      0  \n",
       "5566            53.75        1857.30           2.8      0  \n",
       "6204           105.85        6725.50           5.4      0  \n",
       "5837            80.00        1706.45           1.8      0  \n",
       "1276            90.60        5817.45           5.3      0  \n",
       "\n",
       "[5 rows x 23 columns]"
      ]
     },
     "execution_count": 9,
     "metadata": {},
     "output_type": "execute_result"
    }
   ],
   "source": [
    "# preparing data via removing blank values and converting total_charges to numeric\n",
    "train, validate, test = prepare_telco(df)\n",
    "\n",
    "train.head()"
   ]
  },
  {
   "cell_type": "code",
   "execution_count": 10,
   "metadata": {
    "scrolled": true
   },
   "outputs": [
    {
     "data": {
      "text/html": [
       "<div>\n",
       "<style scoped>\n",
       "    .dataframe tbody tr th:only-of-type {\n",
       "        vertical-align: middle;\n",
       "    }\n",
       "\n",
       "    .dataframe tbody tr th {\n",
       "        vertical-align: top;\n",
       "    }\n",
       "\n",
       "    .dataframe thead th {\n",
       "        text-align: right;\n",
       "    }\n",
       "</style>\n",
       "<table border=\"1\" class=\"dataframe\">\n",
       "  <thead>\n",
       "    <tr style=\"text-align: right;\">\n",
       "      <th></th>\n",
       "      <th>customer_id</th>\n",
       "      <th>female</th>\n",
       "      <th>senior_citizen</th>\n",
       "      <th>partner</th>\n",
       "      <th>dependents</th>\n",
       "      <th>tenure</th>\n",
       "      <th>phone_service</th>\n",
       "      <th>multiple_lines</th>\n",
       "      <th>internet_service_type_id</th>\n",
       "      <th>online_security</th>\n",
       "      <th>...</th>\n",
       "      <th>streaming_tv</th>\n",
       "      <th>streaming_movies</th>\n",
       "      <th>contract_type_id</th>\n",
       "      <th>paperless_billing</th>\n",
       "      <th>payment_type_id</th>\n",
       "      <th>is_automatic_payment</th>\n",
       "      <th>monthly_charges</th>\n",
       "      <th>total_charges</th>\n",
       "      <th>tenure_years</th>\n",
       "      <th>churn</th>\n",
       "    </tr>\n",
       "  </thead>\n",
       "  <tbody>\n",
       "    <tr>\n",
       "      <th>4604</th>\n",
       "      <td>6490-FGZAT</td>\n",
       "      <td>0</td>\n",
       "      <td>0</td>\n",
       "      <td>0</td>\n",
       "      <td>0</td>\n",
       "      <td>0.083333</td>\n",
       "      <td>1</td>\n",
       "      <td>0</td>\n",
       "      <td>3</td>\n",
       "      <td>0</td>\n",
       "      <td>...</td>\n",
       "      <td>0</td>\n",
       "      <td>0</td>\n",
       "      <td>1</td>\n",
       "      <td>0</td>\n",
       "      <td>2</td>\n",
       "      <td>0</td>\n",
       "      <td>0.023881</td>\n",
       "      <td>0.012585</td>\n",
       "      <td>0.5</td>\n",
       "      <td>0</td>\n",
       "    </tr>\n",
       "    <tr>\n",
       "      <th>5566</th>\n",
       "      <td>7841-FCRQD</td>\n",
       "      <td>1</td>\n",
       "      <td>0</td>\n",
       "      <td>1</td>\n",
       "      <td>0</td>\n",
       "      <td>0.458333</td>\n",
       "      <td>1</td>\n",
       "      <td>0</td>\n",
       "      <td>1</td>\n",
       "      <td>0</td>\n",
       "      <td>...</td>\n",
       "      <td>0</td>\n",
       "      <td>0</td>\n",
       "      <td>2</td>\n",
       "      <td>1</td>\n",
       "      <td>4</td>\n",
       "      <td>1</td>\n",
       "      <td>0.353234</td>\n",
       "      <td>0.213856</td>\n",
       "      <td>2.8</td>\n",
       "      <td>0</td>\n",
       "    </tr>\n",
       "    <tr>\n",
       "      <th>6204</th>\n",
       "      <td>8777-MBMTS</td>\n",
       "      <td>1</td>\n",
       "      <td>1</td>\n",
       "      <td>1</td>\n",
       "      <td>0</td>\n",
       "      <td>0.902778</td>\n",
       "      <td>1</td>\n",
       "      <td>0</td>\n",
       "      <td>2</td>\n",
       "      <td>0</td>\n",
       "      <td>...</td>\n",
       "      <td>1</td>\n",
       "      <td>1</td>\n",
       "      <td>3</td>\n",
       "      <td>1</td>\n",
       "      <td>4</td>\n",
       "      <td>1</td>\n",
       "      <td>0.871642</td>\n",
       "      <td>0.774399</td>\n",
       "      <td>5.4</td>\n",
       "      <td>0</td>\n",
       "    </tr>\n",
       "    <tr>\n",
       "      <th>5837</th>\n",
       "      <td>8212-CRQXP</td>\n",
       "      <td>1</td>\n",
       "      <td>0</td>\n",
       "      <td>1</td>\n",
       "      <td>0</td>\n",
       "      <td>0.305556</td>\n",
       "      <td>1</td>\n",
       "      <td>0</td>\n",
       "      <td>2</td>\n",
       "      <td>0</td>\n",
       "      <td>...</td>\n",
       "      <td>1</td>\n",
       "      <td>0</td>\n",
       "      <td>1</td>\n",
       "      <td>1</td>\n",
       "      <td>4</td>\n",
       "      <td>1</td>\n",
       "      <td>0.614428</td>\n",
       "      <td>0.196487</td>\n",
       "      <td>1.8</td>\n",
       "      <td>0</td>\n",
       "    </tr>\n",
       "    <tr>\n",
       "      <th>1276</th>\n",
       "      <td>1897-OKVMW</td>\n",
       "      <td>1</td>\n",
       "      <td>0</td>\n",
       "      <td>1</td>\n",
       "      <td>1</td>\n",
       "      <td>0.888889</td>\n",
       "      <td>1</td>\n",
       "      <td>1</td>\n",
       "      <td>1</td>\n",
       "      <td>1</td>\n",
       "      <td>...</td>\n",
       "      <td>1</td>\n",
       "      <td>1</td>\n",
       "      <td>3</td>\n",
       "      <td>1</td>\n",
       "      <td>2</td>\n",
       "      <td>0</td>\n",
       "      <td>0.719900</td>\n",
       "      <td>0.669843</td>\n",
       "      <td>5.3</td>\n",
       "      <td>0</td>\n",
       "    </tr>\n",
       "  </tbody>\n",
       "</table>\n",
       "<p>5 rows × 23 columns</p>\n",
       "</div>"
      ],
      "text/plain": [
       "     customer_id  female  senior_citizen  partner  dependents    tenure  \\\n",
       "4604  6490-FGZAT       0               0        0           0  0.083333   \n",
       "5566  7841-FCRQD       1               0        1           0  0.458333   \n",
       "6204  8777-MBMTS       1               1        1           0  0.902778   \n",
       "5837  8212-CRQXP       1               0        1           0  0.305556   \n",
       "1276  1897-OKVMW       1               0        1           1  0.888889   \n",
       "\n",
       "      phone_service  multiple_lines  internet_service_type_id  \\\n",
       "4604              1               0                         3   \n",
       "5566              1               0                         1   \n",
       "6204              1               0                         2   \n",
       "5837              1               0                         2   \n",
       "1276              1               1                         1   \n",
       "\n",
       "      online_security  ...  streaming_tv  streaming_movies  contract_type_id  \\\n",
       "4604                0  ...             0                 0                 1   \n",
       "5566                0  ...             0                 0                 2   \n",
       "6204                0  ...             1                 1                 3   \n",
       "5837                0  ...             1                 0                 1   \n",
       "1276                1  ...             1                 1                 3   \n",
       "\n",
       "      paperless_billing  payment_type_id  is_automatic_payment  \\\n",
       "4604                  0                2                     0   \n",
       "5566                  1                4                     1   \n",
       "6204                  1                4                     1   \n",
       "5837                  1                4                     1   \n",
       "1276                  1                2                     0   \n",
       "\n",
       "      monthly_charges  total_charges  tenure_years  churn  \n",
       "4604         0.023881       0.012585           0.5      0  \n",
       "5566         0.353234       0.213856           2.8      0  \n",
       "6204         0.871642       0.774399           5.4      0  \n",
       "5837         0.614428       0.196487           1.8      0  \n",
       "1276         0.719900       0.669843           5.3      0  \n",
       "\n",
       "[5 rows x 23 columns]"
      ]
     },
     "execution_count": 10,
     "metadata": {},
     "output_type": "execute_result"
    }
   ],
   "source": [
    "# scaling tenure, monthly_charges, and total_charges\n",
    "minmax_scaler(train, validate, test)\n",
    "\n",
    "train.head()"
   ]
  },
  {
   "cell_type": "markdown",
   "metadata": {},
   "source": [
    "#### Fit 3 different linear models to your data, one with just tenure, one with just monthly_charges, and one with both."
   ]
  },
  {
   "cell_type": "code",
   "execution_count": 34,
   "metadata": {},
   "outputs": [
    {
     "name": "stdout",
     "output_type": "stream",
     "text": [
      "Baseline \n",
      "  Root mean squared error: 0.261\n"
     ]
    }
   ],
   "source": [
    "# Baseline\n",
    "\n",
    "# creating column that holds mean of total charges on each row\n",
    "# this is our baseline's prediction\n",
    "train['yhat_baseline'] = train['total_charges'].mean()\n",
    "\n",
    "# calculating RMSE value of baseline\n",
    "RMSE_bl = np.sqrt(mean_squared_error(train.total_charges, train.yhat_baseline))\n",
    "print(\"Baseline \\n  Root mean squared error: {:.3}\".format(RMSE_bl)) "
   ]
  },
  {
   "cell_type": "code",
   "execution_count": 30,
   "metadata": {},
   "outputs": [
    {
     "name": "stdout",
     "output_type": "stream",
     "text": [
      "linear model 1 (train)\n",
      "  Root mean squared error: 0.14587\n"
     ]
    }
   ],
   "source": [
    "# Model 1 - Just tenure\n",
    "\n",
    "# declaring x (features) and y (target variable)\n",
    "x_train = train[['tenure']]\n",
    "y_train = train[['total_charges']]\n",
    "\n",
    "# creating linear regression object\n",
    "lm_m1 = LinearRegression()\n",
    "\n",
    "# fitting LR object to feature and targeted variable\n",
    "lm_m1.fit(x_train,y_train)\n",
    "\n",
    "# making predictions with model 1 on train data set\n",
    "train_m1_predictions = lm_m1.predict(x_train)\n",
    "\n",
    "# calculating mean squared error\n",
    "RMSE_lm_m1_train = np.sqrt(mean_squared_error(y_train, train_m1_predictions))\n",
    "\n",
    "# printing results\n",
    "print(\"linear model 1 (train)\\n  Root mean squared error: {:.5}\".format(RMSE_lm_m1_train))"
   ]
  },
  {
   "cell_type": "code",
   "execution_count": 31,
   "metadata": {},
   "outputs": [
    {
     "name": "stdout",
     "output_type": "stream",
     "text": [
      "linear model 2 (train)\n",
      "  Root mean squared error: 0.19806\n"
     ]
    }
   ],
   "source": [
    "# Model 2 - Just monthly_charges\n",
    "\n",
    "# declaring x (features) and y (target variable)\n",
    "x_train = train[['monthly_charges']]\n",
    "y_train = train[['total_charges']]\n",
    "\n",
    "# creating linear regression object\n",
    "lm_m2 = LinearRegression()\n",
    "\n",
    "# fitting LR object to feature and targeted variable\n",
    "lm_m2.fit(x_train,y_train)\n",
    "\n",
    "# making predictions with model 2 on train data set\n",
    "train_m2_predictions = lm_m2.predict(x_train)\n",
    "\n",
    "# calculating mean squared error\n",
    "RMSE_lm_m2_train = np.sqrt(mean_squared_error(y_train, train_m2_predictions))\n",
    "\n",
    "# printing results\n",
    "print(\"linear model 2 (train)\\n  Root mean squared error: {:.5}\".format(RMSE_lm_m2_train))"
   ]
  },
  {
   "cell_type": "code",
   "execution_count": 32,
   "metadata": {},
   "outputs": [
    {
     "name": "stdout",
     "output_type": "stream",
     "text": [
      "linear model 3 (train)\n",
      "  Root mean squared error: 0.084679\n"
     ]
    }
   ],
   "source": [
    "# Model 3 - Tenure and monthly_charges\n",
    "\n",
    "# declaring x (features) and y (target variable)\n",
    "x_train = train[['tenure', 'monthly_charges']]\n",
    "y_train = train[['total_charges']]\n",
    "\n",
    "# creating linear regression object\n",
    "lm_m3 = LinearRegression()\n",
    "\n",
    "# fitting LR object to feature and targeted variable\n",
    "lm_m3.fit(x_train,y_train)\n",
    "\n",
    "# making predictions with model 3 on train data set\n",
    "train_m3_predictions = lm_m3.predict(x_train)\n",
    "\n",
    "# calculating mean squared error\n",
    "RMSE_lm_m3_train = np.sqrt(mean_squared_error(y_train, train_m3_predictions))\n",
    "\n",
    "# printing results\n",
    "print(\"linear model 3 (train)\\n  Root mean squared error: {:.5}\".format(RMSE_lm_m3_train))"
   ]
  },
  {
   "cell_type": "markdown",
   "metadata": {},
   "source": [
    "#### Evaluate the models and your baseline."
   ]
  },
  {
   "cell_type": "code",
   "execution_count": 38,
   "metadata": {},
   "outputs": [
    {
     "name": "stdout",
     "output_type": "stream",
     "text": [
      "Baseline \n",
      "  Root mean squared error: 0.261\n",
      "\n",
      "linear model 1 (train)\n",
      "  Root mean squared error: 0.14587\n",
      "\n",
      "linear model 2 (train)\n",
      "  Root mean squared error: 0.19806\n",
      "\n",
      "linear model 3 (train)\n",
      "  Root mean squared error: 0.084679\n",
      "\n",
      "Model 3, using both monthly_charges and tenure performed the best of all models.\n"
     ]
    }
   ],
   "source": [
    "# calculating RMSE value of baseline\n",
    "RMSE_bl = np.sqrt(mean_squared_error(train.total_charges, train.yhat_baseline))\n",
    "print(\"Baseline \\n  Root mean squared error: {:.3}\".format(RMSE_bl)) \n",
    "\n",
    "# printing model 1 results\n",
    "print(\"\\nlinear model 1 (train)\\n  Root mean squared error: {:.5}\".format(RMSE_lm_m1_train))\n",
    "\n",
    "# printing model 2 results\n",
    "print(\"\\nlinear model 2 (train)\\n  Root mean squared error: {:.5}\".format(RMSE_lm_m2_train))\n",
    "\n",
    "# printing model 3results\n",
    "print(\"\\nlinear model 3 (train)\\n  Root mean squared error: {:.5}\".format(RMSE_lm_m3_train))\n",
    "\n",
    "print('\\nModel 3, using both monthly_charges and tenure performed the best of all models.')"
   ]
  },
  {
   "cell_type": "markdown",
   "metadata": {},
   "source": [
    "#### Select the model that performed the best, and evaluate it with your validate data."
   ]
  },
  {
   "cell_type": "code",
   "execution_count": 42,
   "metadata": {},
   "outputs": [
    {
     "name": "stdout",
     "output_type": "stream",
     "text": [
      "linear model 3 (train)\n",
      "  Root mean squared error: 0.082835\n",
      "\n",
      "Model 3 performed even better on validate than it did on train, this is very surprising given that it hadn't seen this data before.\n"
     ]
    }
   ],
   "source": [
    "# declaring x (features) and y (target variable)\n",
    "x_validate = validate[['tenure', 'monthly_charges']]\n",
    "y_validate = validate[['total_charges']]\n",
    "\n",
    "# making predictions with model 3 on train data set\n",
    "validate_m3_predictions = lm_m3.predict(x_validate)\n",
    "\n",
    "# calculating mean squared error\n",
    "RMSE_lm_m3_validate = np.sqrt(mean_squared_error(y_validate, validate_m3_predictions))\n",
    "\n",
    "# printing results\n",
    "print(\"linear model 3 (train)\\n  Root mean squared error: {:.5}\".format(RMSE_lm_m3_validate))\n",
    "\n",
    "print(\"\\nModel 3 performed even better on validate than it did on train, this is very surprising given that it hadn't seen this data before.\")"
   ]
  },
  {
   "cell_type": "markdown",
   "metadata": {},
   "source": [
    "#### Make a 4th model with a slight difference like one more feature or a single hyperparameter that's different to see if you can beat that the last model's performance on validate."
   ]
  },
  {
   "cell_type": "code",
   "execution_count": 47,
   "metadata": {},
   "outputs": [
    {
     "name": "stdout",
     "output_type": "stream",
     "text": [
      "linear model 4 (train)\n",
      "  Root mean squared error: 0.084679\n",
      "\n",
      "By adding partner as an additional feature, it performed worse by a very small amount.\n"
     ]
    }
   ],
   "source": [
    "# Model 4 - Tenure and monthly_charges\n",
    "\n",
    "# declaring x (features) and y (target variable)\n",
    "x_train = train[['partner','tenure', 'monthly_charges']]\n",
    "y_train = train[['total_charges']]\n",
    "\n",
    "# creating linear regression object\n",
    "lm_m4 = LinearRegression()\n",
    "\n",
    "# fitting LR object to feature and targeted variable\n",
    "lm_m4.fit(x_train,y_train)\n",
    "\n",
    "# making predictions with model 4 on train data set\n",
    "train_m4_predictions = lm_m4.predict(x_train)\n",
    "\n",
    "# calculating mean squared error\n",
    "RMSE_lm_m4_train = np.sqrt(mean_squared_error(y_train, train_m4_predictions))\n",
    "\n",
    "# printing results\n",
    "print(\"linear model 4 (train)\\n  Root mean squared error: {:.5}\".format(RMSE_lm_m4_train))\n",
    "\n",
    "print('\\nBy adding partner as an additional feature, it performed worse by a very small amount.')"
   ]
  },
  {
   "cell_type": "markdown",
   "metadata": {},
   "source": [
    "#### Tune your models using validate to improve performance. "
   ]
  },
  {
   "cell_type": "code",
   "execution_count": 60,
   "metadata": {},
   "outputs": [
    {
     "name": "stdout",
     "output_type": "stream",
     "text": [
      "linear model 3 (validate)\n",
      "  Root mean squared error: 0.11847\n"
     ]
    }
   ],
   "source": [
    "# Model 3 Tuned - Tenure and monthly_charges, tuned with addition of fit_intercept argument\n",
    "\n",
    "# declaring x (features) and y (target variable)\n",
    "x_train = train[['tenure', 'monthly_charges']]\n",
    "y_train = train[['total_charges']]\n",
    "\n",
    "x_validate = validate[['tenure', 'monthly_charges']]\n",
    "y_validate = validate[['total_charges']]\n",
    "\n",
    "# creating linear regression object\n",
    "lm_m3 = LinearRegression(fit_intercept = False)\n",
    "\n",
    "# fitting LR object to feature and targeted variable\n",
    "lm_m3.fit(x_train,y_train)\n",
    "\n",
    "# making predictions with model 3 on train data set\n",
    "validate_m3_predictions = lm_m3.predict(x_validate)\n",
    "\n",
    "# calculating mean squared error\n",
    "RMSE_lm_m3_validate = np.sqrt(mean_squared_error(y_validate, validate_m3_predictions))\n",
    "\n",
    "# printing results\n",
    "print(\"linear model 3 (validate)\\n  Root mean squared error: {:.5}\".format(RMSE_lm_m3_validate))"
   ]
  },
  {
   "cell_type": "code",
   "execution_count": 61,
   "metadata": {},
   "outputs": [
    {
     "name": "stdout",
     "output_type": "stream",
     "text": [
      "linear model 3 (train)\n",
      "  Root mean squared error: 0.082835\n"
     ]
    }
   ],
   "source": [
    "# Model 3 Tuned - Tenure and monthly_charges, tuned with addition of normalize argument\n",
    "\n",
    "# declaring x (features) and y (target variable)\n",
    "x_train = train[['tenure', 'monthly_charges']]\n",
    "y_train = train[['total_charges']]\n",
    "\n",
    "x_validate = validate[['tenure', 'monthly_charges']]\n",
    "y_validate = validate[['total_charges']]\n",
    "\n",
    "# creating linear regression object\n",
    "lm_m3 = LinearRegression(normalize = True)\n",
    "\n",
    "# fitting LR object to feature and targeted variable\n",
    "lm_m3.fit(x_train,y_train)\n",
    "\n",
    "# making predictions with model 3 on train data set\n",
    "validate_m3_predictions = lm_m3.predict(x_validate)\n",
    "\n",
    "# calculating mean squared error\n",
    "RMSE_lm_m3_validate = np.sqrt(mean_squared_error(y_validate, validate_m3_predictions))\n",
    "\n",
    "# printing results\n",
    "print(\"linear model 3 (train)\\n  Root mean squared error: {:.5}\".format(RMSE_lm_m3_validate))"
   ]
  },
  {
   "cell_type": "code",
   "execution_count": 62,
   "metadata": {},
   "outputs": [
    {
     "name": "stdout",
     "output_type": "stream",
     "text": [
      "linear model 4 (train)\n",
      "  Root mean squared error: 0.11645\n"
     ]
    }
   ],
   "source": [
    "# Model 4 Tuned - Tenure, monthly_charges and partner, tuned with addition of fit_intercept argument\n",
    "\n",
    "# declaring x (features) and y (target variable)\n",
    "x_train = train[['tenure', 'monthly_charges', 'partner']]\n",
    "y_train = train[['total_charges']]\n",
    "\n",
    "x_validate = validate[['tenure', 'monthly_charges', 'partner']]\n",
    "y_validate = validate[['total_charges']]\n",
    "\n",
    "# creating linear regression object\n",
    "lm_m4 = LinearRegression(fit_intercept = False)\n",
    "\n",
    "# fitting LR object to feature and targeted variable\n",
    "lm_m4.fit(x_train,y_train)\n",
    "\n",
    "# making predictions with model 4 on train data set\n",
    "validate_m4_predictions = lm_m4.predict(x_validate)\n",
    "\n",
    "# calculating mean squared error\n",
    "RMSE_lm_m4_validate = np.sqrt(mean_squared_error(y_validate, validate_m4_predictions))\n",
    "\n",
    "# printing results\n",
    "print(\"linear model 4 (train)\\n  Root mean squared error: {:.5}\".format(RMSE_lm_m4_validate))"
   ]
  },
  {
   "cell_type": "code",
   "execution_count": 63,
   "metadata": {},
   "outputs": [
    {
     "name": "stdout",
     "output_type": "stream",
     "text": [
      "linear model 4 (train)\n",
      "  Root mean squared error: 0.082839\n"
     ]
    }
   ],
   "source": [
    "# Model 4 Tuned - Tenure, monthly_charges and partner, tuned with addition of normalize argument\n",
    "\n",
    "# declaring x (features) and y (target variable)\n",
    "x_train = train[['tenure', 'monthly_charges', 'partner']]\n",
    "y_train = train[['total_charges']]\n",
    "\n",
    "x_validate = validate[['tenure', 'monthly_charges', 'partner']]\n",
    "y_validate = validate[['total_charges']]\n",
    "\n",
    "# creating linear regression object\n",
    "lm_m4 = LinearRegression(normalize = True)\n",
    "\n",
    "# fitting LR object to feature and targeted variable\n",
    "lm_m4.fit(x_train,y_train)\n",
    "\n",
    "# making predictions with model 4 on train data set\n",
    "validate_m4_predictions = lm_m4.predict(x_validate)\n",
    "\n",
    "# calculating mean squared error\n",
    "RMSE_lm_m4_validate = np.sqrt(mean_squared_error(y_validate, validate_m4_predictions))\n",
    "\n",
    "# printing results\n",
    "print(\"linear model 4 (train)\\n  Root mean squared error: {:.5}\".format(RMSE_lm_m4_validate))"
   ]
  },
  {
   "cell_type": "markdown",
   "metadata": {},
   "source": [
    "<font size = 4> Model 3 with no hyperparameters performed the best so we will use it on our test data set</font>"
   ]
  },
  {
   "cell_type": "markdown",
   "metadata": {},
   "source": [
    "#### Select the model w/ the best performance and evaluate that one on test, to get a more clear understanding of how it will perform on out-of-sample data."
   ]
  },
  {
   "cell_type": "code",
   "execution_count": 69,
   "metadata": {},
   "outputs": [
    {
     "name": "stdout",
     "output_type": "stream",
     "text": [
      "linear model 3 (train)\n",
      "  Root mean squared error: 0.082835\n",
      "\n",
      "linear model 3 (test)\n",
      "  Root mean squared error: 0.086677\n",
      "\n",
      "Model 3 performed only slightly worst on test than it did on train, this is very surprising given that it hadn't seen this data before.\n",
      "\n",
      "Given its impressive results on both in and out of sample data, its fair to say this is a solid model.\n"
     ]
    }
   ],
   "source": [
    "# Recreating original model here since some variables were updated in validation, need to reset them\n",
    "\n",
    "# declaring x (features) and y (target variable)\n",
    "x_train = train[['tenure', 'monthly_charges']]\n",
    "y_train = train[['total_charges']]\n",
    "\n",
    "# creating linear regression object\n",
    "lm_m3 = LinearRegression()\n",
    "\n",
    "# fitting LR object to feature and targeted variable\n",
    "lm_m3.fit(x_train,y_train)\n",
    "\n",
    "# Declaring x test and y test so we can apply our model to them\n",
    "\n",
    "# declaring x (features) and y (target variable)\n",
    "x_test = test[['tenure', 'monthly_charges']]\n",
    "y_test = test[['total_charges']]\n",
    "\n",
    "# making predictions with model 3 on train data set\n",
    "test_m3_predictions = lm_m3.predict(x_test)\n",
    "\n",
    "# calculating mean squared error\n",
    "RMSE_lm_m3_test = np.sqrt(mean_squared_error(y_test, test_m3_predictions))\n",
    "\n",
    "# printing results\n",
    "print(\"linear model 3 (train)\\n  Root mean squared error: {:.5}\".format(RMSE_lm_m3_train))\n",
    "\n",
    "print(\"\\nlinear model 3 (test)\\n  Root mean squared error: {:.5}\".format(RMSE_lm_m3_test))\n",
    "\n",
    "print(\"\\nModel 3 performed only slightly worst on test than it did on train, this is very surprising given that it hadn't seen this data before.\")\n",
    "print(\"\\nGiven its impressive results on both in and out of sample data, its fair to say this is a solid model.\")"
   ]
  },
  {
   "cell_type": "code",
   "execution_count": null,
   "metadata": {},
   "outputs": [],
   "source": []
  }
 ],
 "metadata": {
  "kernelspec": {
   "display_name": "Python 3",
   "language": "python",
   "name": "python3"
  },
  "language_info": {
   "codemirror_mode": {
    "name": "ipython",
    "version": 3
   },
   "file_extension": ".py",
   "mimetype": "text/x-python",
   "name": "python",
   "nbconvert_exporter": "python",
   "pygments_lexer": "ipython3",
   "version": "3.7.6"
  }
 },
 "nbformat": 4,
 "nbformat_minor": 4
}
