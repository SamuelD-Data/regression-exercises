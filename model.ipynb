{
 "cells": [
  {
   "cell_type": "code",
   "execution_count": 1,
   "metadata": {},
   "outputs": [],
   "source": [
    "import pandas as pd\n",
    "import numpy as np\n",
    "import matplotlib.pyplot as plt\n",
    "import seaborn as sns\n",
    "from sklearn.model_selection import train_test_split\n",
    "from sklearn.metrics import mean_squared_error, explained_variance_score\n",
    "from sklearn.linear_model import LinearRegression\n",
    "from sklearn.feature_selection import RFE\n",
    "\n",
    "import warnings\n",
    "warnings.filterwarnings(\"ignore\")\n",
    "\n",
    "import wrangle"
   ]
  },
  {
   "cell_type": "markdown",
   "metadata": {},
   "source": [
    "### Use the data on student grades from this lesson."
   ]
  },
  {
   "cell_type": "code",
   "execution_count": 35,
   "metadata": {},
   "outputs": [
    {
     "data": {
      "text/html": [
       "<div>\n",
       "<style scoped>\n",
       "    .dataframe tbody tr th:only-of-type {\n",
       "        vertical-align: middle;\n",
       "    }\n",
       "\n",
       "    .dataframe tbody tr th {\n",
       "        vertical-align: top;\n",
       "    }\n",
       "\n",
       "    .dataframe thead th {\n",
       "        text-align: right;\n",
       "    }\n",
       "</style>\n",
       "<table border=\"1\" class=\"dataframe\">\n",
       "  <thead>\n",
       "    <tr style=\"text-align: right;\">\n",
       "      <th></th>\n",
       "      <th>exam1</th>\n",
       "      <th>exam2</th>\n",
       "      <th>exam3</th>\n",
       "      <th>final_grade</th>\n",
       "    </tr>\n",
       "  </thead>\n",
       "  <tbody>\n",
       "    <tr>\n",
       "      <th>0</th>\n",
       "      <td>100</td>\n",
       "      <td>90</td>\n",
       "      <td>95</td>\n",
       "      <td>96</td>\n",
       "    </tr>\n",
       "    <tr>\n",
       "      <th>1</th>\n",
       "      <td>98</td>\n",
       "      <td>93</td>\n",
       "      <td>96</td>\n",
       "      <td>95</td>\n",
       "    </tr>\n",
       "    <tr>\n",
       "      <th>2</th>\n",
       "      <td>85</td>\n",
       "      <td>83</td>\n",
       "      <td>87</td>\n",
       "      <td>87</td>\n",
       "    </tr>\n",
       "    <tr>\n",
       "      <th>3</th>\n",
       "      <td>83</td>\n",
       "      <td>80</td>\n",
       "      <td>86</td>\n",
       "      <td>85</td>\n",
       "    </tr>\n",
       "    <tr>\n",
       "      <th>4</th>\n",
       "      <td>93</td>\n",
       "      <td>90</td>\n",
       "      <td>96</td>\n",
       "      <td>97</td>\n",
       "    </tr>\n",
       "    <tr>\n",
       "      <th>...</th>\n",
       "      <td>...</td>\n",
       "      <td>...</td>\n",
       "      <td>...</td>\n",
       "      <td>...</td>\n",
       "    </tr>\n",
       "    <tr>\n",
       "      <th>99</th>\n",
       "      <td>70</td>\n",
       "      <td>65</td>\n",
       "      <td>78</td>\n",
       "      <td>77</td>\n",
       "    </tr>\n",
       "    <tr>\n",
       "      <th>100</th>\n",
       "      <td>62</td>\n",
       "      <td>70</td>\n",
       "      <td>79</td>\n",
       "      <td>70</td>\n",
       "    </tr>\n",
       "    <tr>\n",
       "      <th>101</th>\n",
       "      <td>58</td>\n",
       "      <td>65</td>\n",
       "      <td>70</td>\n",
       "      <td>68</td>\n",
       "    </tr>\n",
       "    <tr>\n",
       "      <th>102</th>\n",
       "      <td>57</td>\n",
       "      <td>65</td>\n",
       "      <td>75</td>\n",
       "      <td>65</td>\n",
       "    </tr>\n",
       "    <tr>\n",
       "      <th>103</th>\n",
       "      <td>70</td>\n",
       "      <td>75</td>\n",
       "      <td>78</td>\n",
       "      <td>72</td>\n",
       "    </tr>\n",
       "  </tbody>\n",
       "</table>\n",
       "<p>102 rows × 4 columns</p>\n",
       "</div>"
      ],
      "text/plain": [
       "     exam1  exam2  exam3  final_grade\n",
       "0      100     90     95           96\n",
       "1       98     93     96           95\n",
       "2       85     83     87           87\n",
       "3       83     80     86           85\n",
       "4       93     90     96           97\n",
       "..     ...    ...    ...          ...\n",
       "99      70     65     78           77\n",
       "100     62     70     79           70\n",
       "101     58     65     70           68\n",
       "102     57     65     75           65\n",
       "103     70     75     78           72\n",
       "\n",
       "[102 rows x 4 columns]"
      ]
     },
     "execution_count": 35,
     "metadata": {},
     "output_type": "execute_result"
    }
   ],
   "source": [
    "df = wrangle.wrangle_grades()\n",
    "\n",
    "df"
   ]
  },
  {
   "cell_type": "markdown",
   "metadata": {},
   "source": [
    "### Split the data into train, validate, and test datasets."
   ]
  },
  {
   "cell_type": "code",
   "execution_count": 18,
   "metadata": {},
   "outputs": [],
   "source": [
    "train_and_validate, test = train_test_split(df, random_state = 123)\n",
    "train, validate = train_test_split(train_and_validate, random_state = 123)\n",
    "\n",
    "X_train = train.drop(columns='final_grade')\n",
    "y_train = train[['final_grade']]\n",
    "\n",
    "X_validate = validate.drop(columns=\"final_grade\")\n",
    "y_validate = validate[[\"final_grade\"]]\n",
    "\n",
    "X_test = test.drop(columns='final_grade')\n",
    "y_test = test[['final_grade']]"
   ]
  },
  {
   "cell_type": "markdown",
   "metadata": {},
   "source": [
    "### Create a model that uses exam 1 to predict the final grade."
   ]
  },
  {
   "cell_type": "code",
   "execution_count": 49,
   "metadata": {},
   "outputs": [
    {
     "data": {
      "text/html": [
       "<div>\n",
       "<style scoped>\n",
       "    .dataframe tbody tr th:only-of-type {\n",
       "        vertical-align: middle;\n",
       "    }\n",
       "\n",
       "    .dataframe tbody tr th {\n",
       "        vertical-align: top;\n",
       "    }\n",
       "\n",
       "    .dataframe thead th {\n",
       "        text-align: right;\n",
       "    }\n",
       "</style>\n",
       "<table border=\"1\" class=\"dataframe\">\n",
       "  <thead>\n",
       "    <tr style=\"text-align: right;\">\n",
       "      <th></th>\n",
       "      <th>final_grade</th>\n",
       "      <th>yhat_lm_m1</th>\n",
       "      <th>residual</th>\n",
       "    </tr>\n",
       "  </thead>\n",
       "  <tbody>\n",
       "    <tr>\n",
       "      <th>10</th>\n",
       "      <td>68</td>\n",
       "      <td>66.245821</td>\n",
       "      <td>-1.754179</td>\n",
       "    </tr>\n",
       "    <tr>\n",
       "      <th>15</th>\n",
       "      <td>87</td>\n",
       "      <td>86.693733</td>\n",
       "      <td>-0.306267</td>\n",
       "    </tr>\n",
       "    <tr>\n",
       "      <th>42</th>\n",
       "      <td>85</td>\n",
       "      <td>85.179072</td>\n",
       "      <td>0.179072</td>\n",
       "    </tr>\n",
       "    <tr>\n",
       "      <th>51</th>\n",
       "      <td>72</td>\n",
       "      <td>75.333782</td>\n",
       "      <td>3.333782</td>\n",
       "    </tr>\n",
       "    <tr>\n",
       "      <th>46</th>\n",
       "      <td>76</td>\n",
       "      <td>77.605772</td>\n",
       "      <td>1.605772</td>\n",
       "    </tr>\n",
       "  </tbody>\n",
       "</table>\n",
       "</div>"
      ],
      "text/plain": [
       "    final_grade  yhat_lm_m1  residual\n",
       "10           68   66.245821 -1.754179\n",
       "15           87   86.693733 -0.306267\n",
       "42           85   85.179072  0.179072\n",
       "51           72   75.333782  3.333782\n",
       "46           76   77.605772  1.605772"
      ]
     },
     "execution_count": 49,
     "metadata": {},
     "output_type": "execute_result"
    }
   ],
   "source": [
    "# creating copy of y train since we'll be creating new columns and we don't want to alter the original\n",
    "y_train_m1 = y_train.copy()\n",
    "\n",
    "# creating linear regression object\n",
    "lm_m1 = LinearRegression()\n",
    "\n",
    "# fitting LR object to feature and targeted variable\n",
    "lm_m1.fit(X_train[['exam1']], y_train_m1)\n",
    "\n",
    "# creating new column that holds model predictions\n",
    "y_train_m1['yhat_lm_m1'] = lm_m1.predict(X_train[['exam1']])\n",
    "\n",
    "# creating new column that holds the residual of each row (predicted minus actual)\n",
    "y_train_m1['residual'] = y_train_m1['yhat_lm_m1'] - y_train_m1['final_grade']\n",
    "\n",
    "# displaying results\n",
    "y_train_m1.head()"
   ]
  },
  {
   "cell_type": "markdown",
   "metadata": {},
   "source": [
    "### Create a model that uses exam 2 to predict the final grade."
   ]
  },
  {
   "cell_type": "code",
   "execution_count": 47,
   "metadata": {},
   "outputs": [
    {
     "data": {
      "text/html": [
       "<div>\n",
       "<style scoped>\n",
       "    .dataframe tbody tr th:only-of-type {\n",
       "        vertical-align: middle;\n",
       "    }\n",
       "\n",
       "    .dataframe tbody tr th {\n",
       "        vertical-align: top;\n",
       "    }\n",
       "\n",
       "    .dataframe thead th {\n",
       "        text-align: right;\n",
       "    }\n",
       "</style>\n",
       "<table border=\"1\" class=\"dataframe\">\n",
       "  <thead>\n",
       "    <tr style=\"text-align: right;\">\n",
       "      <th></th>\n",
       "      <th>final_grade</th>\n",
       "      <th>yhat_lm_m2</th>\n",
       "      <th>residual</th>\n",
       "    </tr>\n",
       "  </thead>\n",
       "  <tbody>\n",
       "    <tr>\n",
       "      <th>10</th>\n",
       "      <td>68</td>\n",
       "      <td>69.406878</td>\n",
       "      <td>1.406878</td>\n",
       "    </tr>\n",
       "    <tr>\n",
       "      <th>15</th>\n",
       "      <td>87</td>\n",
       "      <td>87.047586</td>\n",
       "      <td>0.047586</td>\n",
       "    </tr>\n",
       "    <tr>\n",
       "      <th>42</th>\n",
       "      <td>85</td>\n",
       "      <td>84.107468</td>\n",
       "      <td>-0.892532</td>\n",
       "    </tr>\n",
       "    <tr>\n",
       "      <th>51</th>\n",
       "      <td>72</td>\n",
       "      <td>79.207271</td>\n",
       "      <td>7.207271</td>\n",
       "    </tr>\n",
       "    <tr>\n",
       "      <th>46</th>\n",
       "      <td>76</td>\n",
       "      <td>74.307075</td>\n",
       "      <td>-1.692925</td>\n",
       "    </tr>\n",
       "  </tbody>\n",
       "</table>\n",
       "</div>"
      ],
      "text/plain": [
       "    final_grade  yhat_lm_m2  residual\n",
       "10           68   69.406878  1.406878\n",
       "15           87   87.047586  0.047586\n",
       "42           85   84.107468 -0.892532\n",
       "51           72   79.207271  7.207271\n",
       "46           76   74.307075 -1.692925"
      ]
     },
     "execution_count": 47,
     "metadata": {},
     "output_type": "execute_result"
    }
   ],
   "source": [
    "# creating copy of y train since we'll be creating new columns and we don't want to alter the original\n",
    "y_train_m2 = y_train.copy()\n",
    "\n",
    "# creating linear regression object\n",
    "lm_m2 = LinearRegression()\n",
    "\n",
    "# fitting LR object to feature and targeted variable\n",
    "lm_m2.fit(X_train[['exam2']], y_train_m2)\n",
    "\n",
    "# creating new column that holds model predictions\n",
    "y_train_m2['yhat_lm_m2'] = lm_m2.predict(X_train[['exam2']])\n",
    "\n",
    "# creating new column that holds the residual of each row (predicted minus actual)\n",
    "y_train_m2['residual'] = y_train_m2['yhat_lm_m2'] - y_train_m2['final_grade']\n",
    "\n",
    "# displaying results\n",
    "y_train_m2.head()"
   ]
  },
  {
   "cell_type": "markdown",
   "metadata": {},
   "source": [
    "### Compare your models in the following manner:"
   ]
  },
  {
   "cell_type": "markdown",
   "metadata": {},
   "source": [
    "### Calculate the mean squared error"
   ]
  },
  {
   "cell_type": "code",
   "execution_count": 27,
   "metadata": {},
   "outputs": [
    {
     "name": "stdout",
     "output_type": "stream",
     "text": [
      "linear model 1\n",
      "  Root mean squared error: 1.83\n",
      "\n",
      "linear model 2\n",
      "  Root mean squared error: 3.76\n"
     ]
    }
   ],
   "source": [
    "# calculating mean squared error\n",
    "RMSE_lm_m1 = np.sqrt(mean_squared_error(y_train_m1.final_grade, y_train_m1.yhat_lm_m1))\n",
    "\n",
    "# printing results\n",
    "print(\"linear model 1\\n  Root mean squared error: {:.3}\".format(RMSE_lm_m1))\n",
    "\n",
    "# calculating mean squared error\n",
    "RMSE_lm_m2 = np.sqrt(mean_squared_error(y_train_m2.final_grade, y_train_m2.yhat_lm_m2))\n",
    "\n",
    "# printing results\n",
    "print(\"\\nlinear model 2\\n  Root mean squared error: {:.3}\".format(RMSE_lm_m2))\n"
   ]
  },
  {
   "cell_type": "markdown",
   "metadata": {},
   "source": [
    "### Visualize the residuals. Create a seperate visualization for each model."
   ]
  },
  {
   "cell_type": "code",
   "execution_count": 42,
   "metadata": {
    "scrolled": true
   },
   "outputs": [
    {
     "data": {
      "text/plain": [
       "Text(0.5, 1.0, 'Model 1 - Predicted vs Actual Final Grade')"
      ]
     },
     "execution_count": 42,
     "metadata": {},
     "output_type": "execute_result"
    },
    {
     "data": {
      "image/png": "[encoded data removed]",
      "text/plain": [
       "<Figure size 504x504 with 1 Axes>"
      ]
     },
     "metadata": {
      "needs_background": "light"
     },
     "output_type": "display_data"
    }
   ],
   "source": [
    "# setting figure size\n",
    "plt.figure(figsize=(7, 7))\n",
    "\n",
    "# specifying scatterplot, x = actual, y = model 1 predictino, \n",
    "plt.scatter(y_train_m1.final_grade, y_train_m1.yhat_lm_m1)\n",
    "\n",
    "# setting labels for x and y axis\n",
    "plt.ylabel('Predicted Final Grade')\n",
    "plt.xlabel('Actual Final Grade')\n",
    "\n",
    "# setting title\n",
    "plt.title('Model 1 - Predicted vs Actual Final Grade')"
   ]
  },
  {
   "cell_type": "code",
   "execution_count": 44,
   "metadata": {},
   "outputs": [
    {
     "data": {
      "text/plain": [
       "Text(0.5, 1.0, 'Model 2 - Predicted vs Actual Final Grade')"
      ]
     },
     "execution_count": 44,
     "metadata": {},
     "output_type": "execute_result"
    },
    {
     "data": {
      "image/png": "[encoded data removed]",
      "text/plain": [
       "<Figure size 504x504 with 1 Axes>"
      ]
     },
     "metadata": {
      "needs_background": "light"
     },
     "output_type": "display_data"
    }
   ],
   "source": [
    "# setting figure size\n",
    "plt.figure(figsize=(7, 7))\n",
    "\n",
    "# specifying scatterplot, x = actual, y = model 2 prediction, \n",
    "plt.scatter(y_train_m2.final_grade, y_train_m2.yhat_lm_m2)\n",
    "\n",
    "# setting labels for x and y axis\n",
    "plt.ylabel('Predicted Final Grade')\n",
    "plt.xlabel('Actual Final Grade')\n",
    "\n",
    "# setting title\n",
    "plt.title('Model 2 - Predicted vs Actual Final Grade')"
   ]
  },
  {
   "cell_type": "markdown",
   "metadata": {},
   "source": [
    "### Visualize the actual vs the predicted values. Create a seperate visualization for each model."
   ]
  },
  {
   "cell_type": "code",
   "execution_count": 45,
   "metadata": {},
   "outputs": [
    {
     "data": {
      "text/plain": [
       "Text(0.5, 1.0, 'Model 1 - Predicted vs Actual Final Grade')"
      ]
     },
     "execution_count": 45,
     "metadata": {},
     "output_type": "execute_result"
    },
    {
     "data": {
      "image/png": "[encoded data removed]",
      "text/plain": [
       "<Figure size 504x504 with 1 Axes>"
      ]
     },
     "metadata": {
      "needs_background": "light"
     },
     "output_type": "display_data"
    }
   ],
   "source": [
    "# setting figure size\n",
    "plt.figure(figsize=(7, 7))\n",
    "\n",
    "# specifying scatterplot, x = actual, y = model 1 predictino, \n",
    "plt.scatter(y_train_m1.final_grade, y_train_m1.yhat_lm_m1)\n",
    "\n",
    "# setting labels for x and y axis\n",
    "plt.ylabel('Predicted Final Grade')\n",
    "plt.xlabel('Actual Final Grade')\n",
    "\n",
    "# setting title\n",
    "plt.title('Model 1 - Predicted vs Actual Final Grade')"
   ]
  },
  {
   "cell_type": "code",
   "execution_count": 46,
   "metadata": {},
   "outputs": [
    {
     "data": {
      "text/plain": [
       "Text(0.5, 1.0, 'Model 2 - Predicted vs Actual Final Grade')"
      ]
     },
     "execution_count": 46,
     "metadata": {},
     "output_type": "execute_result"
    },
    {
     "data": {
      "image/png": "[encoded data removed]",
      "text/plain": [
       "<Figure size 504x504 with 1 Axes>"
      ]
     },
     "metadata": {
      "needs_background": "light"
     },
     "output_type": "display_data"
    }
   ],
   "source": [
    "# setting figure size\n",
    "plt.figure(figsize=(7, 7))\n",
    "\n",
    "# specifying scatterplot, x = actual, y = model 2 prediction, \n",
    "plt.scatter(y_train_m2.final_grade, y_train_m2.yhat_lm_m2)\n",
    "\n",
    "# setting labels for x and y axis\n",
    "plt.ylabel('Predicted Final Grade')\n",
    "plt.xlabel('Actual Final Grade')\n",
    "\n",
    "# setting title\n",
    "plt.title('Model 2 - Predicted vs Actual Final Grade')"
   ]
  },
  {
   "cell_type": "markdown",
   "metadata": {},
   "source": [
    "### Create a model that uses exam 1 and exam 3 to predict final grade. "
   ]
  },
  {
   "cell_type": "code",
   "execution_count": null,
   "metadata": {},
   "outputs": [],
   "source": []
  },
  {
   "cell_type": "markdown",
   "metadata": {},
   "source": [
    "### How does this model compare to your previous ones?"
   ]
  },
  {
   "cell_type": "code",
   "execution_count": null,
   "metadata": {},
   "outputs": [],
   "source": []
  },
  {
   "cell_type": "markdown",
   "metadata": {},
   "source": [
    "### Take your best preforming model and measure its performance on the validate data set. "
   ]
  },
  {
   "cell_type": "code",
   "execution_count": null,
   "metadata": {},
   "outputs": [],
   "source": []
  },
  {
   "cell_type": "markdown",
   "metadata": {},
   "source": [
    "### How does the performance differ between train and validate?"
   ]
  },
  {
   "cell_type": "code",
   "execution_count": null,
   "metadata": {},
   "outputs": [],
   "source": []
  },
  {
   "cell_type": "markdown",
   "metadata": {},
   "source": [
    "### Make a 4th model with a slight difference like one more/less feature or a single hyperparameter that's different to see if you can beat that the last model's performance on validate."
   ]
  },
  {
   "cell_type": "code",
   "execution_count": null,
   "metadata": {},
   "outputs": [],
   "source": []
  },
  {
   "cell_type": "markdown",
   "metadata": {},
   "source": [
    "### Tune your models using validate to improve performance. Select the model w/ the best performance and evaluate that one on test, to get a more clear understanding of how it will perform on out-of-sample data."
   ]
  },
  {
   "cell_type": "code",
   "execution_count": null,
   "metadata": {},
   "outputs": [],
   "source": []
  }
 ],
 "metadata": {
  "kernelspec": {
   "display_name": "Python 3",
   "language": "python",
   "name": "python3"
  },
  "language_info": {
   "codemirror_mode": {
    "name": "ipython",
    "version": 3
   },
   "file_extension": ".py",
   "mimetype": "text/x-python",
   "name": "python",
   "nbconvert_exporter": "python",
   "pygments_lexer": "ipython3",
   "version": "3.7.6"
  }
 },
 "nbformat": 4,
 "nbformat_minor": 4
}
